{
  "cells": [
    {
      "cell_type": "markdown",
      "source": [
        "**DATA ACQUISITION STEP**"
      ],
      "metadata": {
        "id": "BaiUBW0u3baR"
      }
    },
    {
      "cell_type": "code",
      "execution_count": null,
      "metadata": {
        "colab": {
          "base_uri": "https://localhost:8080/"
        },
        "id": "T8JljEhX3ETQ",
        "outputId": "9bb7022b-edb7-4ab5-9eff-f66ff310708b"
      },
      "outputs": [
        {
          "output_type": "stream",
          "name": "stdout",
          "text": [
            "Drive already mounted at /content/drive; to attempt to forcibly remount, call drive.mount(\"/content/drive\", force_remount=True).\n"
          ]
        }
      ],
      "source": [
        "#mounting drive\n",
        "from google.colab import drive\n",
        "drive.mount('/content/drive')"
      ]
    },
    {
      "cell_type": "code",
      "execution_count": null,
      "metadata": {
        "id": "MqM5MpPX1sXn"
      },
      "outputs": [],
      "source": [
        "#connect to kaggle for dataset downlord\n",
        "!mkdir -p ~/.kaggle\n",
        "!cp /content/drive/MyDrive/NLP/kaggle.json ~/.kaggle/"
      ]
    },
    {
      "cell_type": "code",
      "execution_count": null,
      "metadata": {
        "colab": {
          "base_uri": "https://localhost:8080/"
        },
        "id": "g0DOiWBG2REo",
        "outputId": "113478db-263a-4e8f-bb10-d18438079051"
      },
      "outputs": [
        {
          "output_type": "stream",
          "name": "stdout",
          "text": [
            "imdb-dataset-of-50k-movie-reviews.zip: Skipping, found more recently modified local copy (use --force to force download)\n"
          ]
        }
      ],
      "source": [
        "#downlord dataset\n",
        "!kaggle datasets download -d lakshmi25npathi/imdb-dataset-of-50k-movie-reviews\n"
      ]
    },
    {
      "cell_type": "code",
      "execution_count": null,
      "metadata": {
        "colab": {
          "base_uri": "https://localhost:8080/"
        },
        "id": "LFQc2GLk3u4w",
        "outputId": "088bc8d6-0171-4f68-df83-33cd5cda2f2c"
      },
      "outputs": [
        {
          "output_type": "stream",
          "name": "stdout",
          "text": [
            "Archive:  imdb-dataset-of-50k-movie-reviews.zip\n",
            "replace IMDB Dataset.csv? [y]es, [n]o, [A]ll, [N]one, [r]ename: y\n",
            "  inflating: IMDB Dataset.csv        \n"
          ]
        }
      ],
      "source": [
        "#unzip dataset\n",
        "!unzip imdb-dataset-of-50k-movie-reviews.zip\n"
      ]
    },
    {
      "cell_type": "code",
      "execution_count": null,
      "metadata": {
        "id": "zBu9G2Jj8clu"
      },
      "outputs": [],
      "source": [
        "#reading only top SOME SAMPLE rows\n",
        "import pandas as pd\n",
        "df = pd.read_csv('IMDB Dataset.csv').head(50000)"
      ]
    },
    {
      "cell_type": "code",
      "execution_count": null,
      "metadata": {
        "id": "0WsBItYv8ezh",
        "colab": {
          "base_uri": "https://localhost:8080/"
        },
        "outputId": "e6b44494-cc92-437a-864a-664b6c2fcc91"
      },
      "outputs": [
        {
          "output_type": "execute_result",
          "data": {
            "text/plain": [
              "50000"
            ]
          },
          "metadata": {},
          "execution_count": 3
        }
      ],
      "source": [
        "len(df)"
      ]
    },
    {
      "cell_type": "code",
      "execution_count": null,
      "metadata": {
        "id": "Bg9KpiHoyiSw",
        "colab": {
          "base_uri": "https://localhost:8080/",
          "height": 206
        },
        "outputId": "037915e2-eea9-43e1-e02a-d75545d79af4"
      },
      "outputs": [
        {
          "output_type": "execute_result",
          "data": {
            "text/plain": [
              "                                              review sentiment\n",
              "0  One of the other reviewers has mentioned that ...  positive\n",
              "1  A wonderful little production. <br /><br />The...  positive\n",
              "2  I thought this was a wonderful way to spend ti...  positive\n",
              "3  Basically there's a family where a little boy ...  negative\n",
              "4  Petter Mattei's \"Love in the Time of Money\" is...  positive"
            ],
            "text/html": [
              "\n",
              "  <div id=\"df-7c836235-ddbf-4ab6-8a0c-8fdae18dd500\">\n",
              "    <div class=\"colab-df-container\">\n",
              "      <div>\n",
              "<style scoped>\n",
              "    .dataframe tbody tr th:only-of-type {\n",
              "        vertical-align: middle;\n",
              "    }\n",
              "\n",
              "    .dataframe tbody tr th {\n",
              "        vertical-align: top;\n",
              "    }\n",
              "\n",
              "    .dataframe thead th {\n",
              "        text-align: right;\n",
              "    }\n",
              "</style>\n",
              "<table border=\"1\" class=\"dataframe\">\n",
              "  <thead>\n",
              "    <tr style=\"text-align: right;\">\n",
              "      <th></th>\n",
              "      <th>review</th>\n",
              "      <th>sentiment</th>\n",
              "    </tr>\n",
              "  </thead>\n",
              "  <tbody>\n",
              "    <tr>\n",
              "      <th>0</th>\n",
              "      <td>One of the other reviewers has mentioned that ...</td>\n",
              "      <td>positive</td>\n",
              "    </tr>\n",
              "    <tr>\n",
              "      <th>1</th>\n",
              "      <td>A wonderful little production. &lt;br /&gt;&lt;br /&gt;The...</td>\n",
              "      <td>positive</td>\n",
              "    </tr>\n",
              "    <tr>\n",
              "      <th>2</th>\n",
              "      <td>I thought this was a wonderful way to spend ti...</td>\n",
              "      <td>positive</td>\n",
              "    </tr>\n",
              "    <tr>\n",
              "      <th>3</th>\n",
              "      <td>Basically there's a family where a little boy ...</td>\n",
              "      <td>negative</td>\n",
              "    </tr>\n",
              "    <tr>\n",
              "      <th>4</th>\n",
              "      <td>Petter Mattei's \"Love in the Time of Money\" is...</td>\n",
              "      <td>positive</td>\n",
              "    </tr>\n",
              "  </tbody>\n",
              "</table>\n",
              "</div>\n",
              "      <button class=\"colab-df-convert\" onclick=\"convertToInteractive('df-7c836235-ddbf-4ab6-8a0c-8fdae18dd500')\"\n",
              "              title=\"Convert this dataframe to an interactive table.\"\n",
              "              style=\"display:none;\">\n",
              "        \n",
              "  <svg xmlns=\"http://www.w3.org/2000/svg\" height=\"24px\"viewBox=\"0 0 24 24\"\n",
              "       width=\"24px\">\n",
              "    <path d=\"M0 0h24v24H0V0z\" fill=\"none\"/>\n",
              "    <path d=\"M18.56 5.44l.94 2.06.94-2.06 2.06-.94-2.06-.94-.94-2.06-.94 2.06-2.06.94zm-11 1L8.5 8.5l.94-2.06 2.06-.94-2.06-.94L8.5 2.5l-.94 2.06-2.06.94zm10 10l.94 2.06.94-2.06 2.06-.94-2.06-.94-.94-2.06-.94 2.06-2.06.94z\"/><path d=\"M17.41 7.96l-1.37-1.37c-.4-.4-.92-.59-1.43-.59-.52 0-1.04.2-1.43.59L10.3 9.45l-7.72 7.72c-.78.78-.78 2.05 0 2.83L4 21.41c.39.39.9.59 1.41.59.51 0 1.02-.2 1.41-.59l7.78-7.78 2.81-2.81c.8-.78.8-2.07 0-2.86zM5.41 20L4 18.59l7.72-7.72 1.47 1.35L5.41 20z\"/>\n",
              "  </svg>\n",
              "      </button>\n",
              "      \n",
              "  <style>\n",
              "    .colab-df-container {\n",
              "      display:flex;\n",
              "      flex-wrap:wrap;\n",
              "      gap: 12px;\n",
              "    }\n",
              "\n",
              "    .colab-df-convert {\n",
              "      background-color: #E8F0FE;\n",
              "      border: none;\n",
              "      border-radius: 50%;\n",
              "      cursor: pointer;\n",
              "      display: none;\n",
              "      fill: #1967D2;\n",
              "      height: 32px;\n",
              "      padding: 0 0 0 0;\n",
              "      width: 32px;\n",
              "    }\n",
              "\n",
              "    .colab-df-convert:hover {\n",
              "      background-color: #E2EBFA;\n",
              "      box-shadow: 0px 1px 2px rgba(60, 64, 67, 0.3), 0px 1px 3px 1px rgba(60, 64, 67, 0.15);\n",
              "      fill: #174EA6;\n",
              "    }\n",
              "\n",
              "    [theme=dark] .colab-df-convert {\n",
              "      background-color: #3B4455;\n",
              "      fill: #D2E3FC;\n",
              "    }\n",
              "\n",
              "    [theme=dark] .colab-df-convert:hover {\n",
              "      background-color: #434B5C;\n",
              "      box-shadow: 0px 1px 3px 1px rgba(0, 0, 0, 0.15);\n",
              "      filter: drop-shadow(0px 1px 2px rgba(0, 0, 0, 0.3));\n",
              "      fill: #FFFFFF;\n",
              "    }\n",
              "  </style>\n",
              "\n",
              "      <script>\n",
              "        const buttonEl =\n",
              "          document.querySelector('#df-7c836235-ddbf-4ab6-8a0c-8fdae18dd500 button.colab-df-convert');\n",
              "        buttonEl.style.display =\n",
              "          google.colab.kernel.accessAllowed ? 'block' : 'none';\n",
              "\n",
              "        async function convertToInteractive(key) {\n",
              "          const element = document.querySelector('#df-7c836235-ddbf-4ab6-8a0c-8fdae18dd500');\n",
              "          const dataTable =\n",
              "            await google.colab.kernel.invokeFunction('convertToInteractive',\n",
              "                                                     [key], {});\n",
              "          if (!dataTable) return;\n",
              "\n",
              "          const docLinkHtml = 'Like what you see? Visit the ' +\n",
              "            '<a target=\"_blank\" href=https://colab.research.google.com/notebooks/data_table.ipynb>data table notebook</a>'\n",
              "            + ' to learn more about interactive tables.';\n",
              "          element.innerHTML = '';\n",
              "          dataTable['output_type'] = 'display_data';\n",
              "          await google.colab.output.renderOutput(dataTable, element);\n",
              "          const docLink = document.createElement('div');\n",
              "          docLink.innerHTML = docLinkHtml;\n",
              "          element.appendChild(docLink);\n",
              "        }\n",
              "      </script>\n",
              "    </div>\n",
              "  </div>\n",
              "  "
            ]
          },
          "metadata": {},
          "execution_count": 4
        }
      ],
      "source": [
        "df.head()"
      ]
    },
    {
      "cell_type": "code",
      "execution_count": null,
      "metadata": {
        "id": "fpVNl5HO9bDy",
        "colab": {
          "base_uri": "https://localhost:8080/"
        },
        "outputId": "da516d95-4a7c-4116-ad87-4ac157fc2146"
      },
      "outputs": [
        {
          "output_type": "execute_result",
          "data": {
            "text/plain": [
              "(50000, 2)"
            ]
          },
          "metadata": {},
          "execution_count": 5
        }
      ],
      "source": [
        "df.shape"
      ]
    },
    {
      "cell_type": "code",
      "execution_count": null,
      "metadata": {
        "colab": {
          "base_uri": "https://localhost:8080/"
        },
        "id": "Z6_UlCDT9fe6",
        "outputId": "897722ed-1bd3-4c28-e314-2efa6a55bc17"
      },
      "outputs": [
        {
          "output_type": "execute_result",
          "data": {
            "text/plain": [
              "False"
            ]
          },
          "metadata": {},
          "execution_count": 6
        }
      ],
      "source": [
        "#chk missing values\n",
        "df.isnull().values.any()"
      ]
    },
    {
      "cell_type": "code",
      "execution_count": null,
      "metadata": {
        "colab": {
          "base_uri": "https://localhost:8080/",
          "height": 467
        },
        "id": "8E52yuy69jJd",
        "outputId": "6f12a7d8-cc68-4644-ab2e-38e0ba766ba8"
      },
      "outputs": [
        {
          "output_type": "execute_result",
          "data": {
            "text/plain": [
              "<Axes: xlabel='sentiment', ylabel='count'>"
            ]
          },
          "metadata": {},
          "execution_count": 7
        },
        {
          "output_type": "display_data",
          "data": {
            "text/plain": [
              "<Figure size 640x480 with 1 Axes>"
            ],
            "image/png": "[encoded data removed]"
          },
          "metadata": {}
        }
      ],
      "source": [
        "#check if data is balanced?\n",
        "import seaborn as sn\n",
        "sn.countplot(x = 'sentiment',data= df)"
      ]
    },
    {
      "cell_type": "markdown",
      "metadata": {
        "id": "hFbvxRID-dyi"
      },
      "source": [
        "**DATA PREPROCESSING STEP**"
      ]
    },
    {
      "cell_type": "code",
      "execution_count": null,
      "metadata": {
        "colab": {
          "base_uri": "https://localhost:8080/"
        },
        "id": "FQP6vC1e-kDd",
        "outputId": "e5573b93-7246-4fcd-d504-0f17fe27a15b"
      },
      "outputs": [
        {
          "output_type": "execute_result",
          "data": {
            "text/plain": [
              "0        One of the other reviewers has mentioned that ...\n",
              "1        A wonderful little production. <br /><br />The...\n",
              "2        I thought this was a wonderful way to spend ti...\n",
              "3        Basically there's a family where a little boy ...\n",
              "4        Petter Mattei's \"Love in the Time of Money\" is...\n",
              "                               ...                        \n",
              "49995    I thought this movie did a down right good job...\n",
              "49996    Bad plot, bad dialogue, bad acting, idiotic di...\n",
              "49997    I am a Catholic taught in parochial elementary...\n",
              "49998    I'm going to have to disagree with the previou...\n",
              "49999    No one expects the Star Trek movies to be high...\n",
              "Name: review, Length: 50000, dtype: object"
            ]
          },
          "metadata": {},
          "execution_count": 8
        }
      ],
      "source": [
        "df['review']"
      ]
    },
    {
      "cell_type": "code",
      "source": [
        "reviews = df['review']\n",
        "sentiments = df['sentiment']\n",
        "reviews"
      ],
      "metadata": {
        "colab": {
          "base_uri": "https://localhost:8080/"
        },
        "id": "BxOU_2O5R6EW",
        "outputId": "380f929d-bd9b-465f-a6eb-966388b15b8f"
      },
      "execution_count": null,
      "outputs": [
        {
          "output_type": "execute_result",
          "data": {
            "text/plain": [
              "0        One of the other reviewers has mentioned that ...\n",
              "1        A wonderful little production. <br /><br />The...\n",
              "2        I thought this was a wonderful way to spend ti...\n",
              "3        Basically there's a family where a little boy ...\n",
              "4        Petter Mattei's \"Love in the Time of Money\" is...\n",
              "                               ...                        \n",
              "49995    I thought this movie did a down right good job...\n",
              "49996    Bad plot, bad dialogue, bad acting, idiotic di...\n",
              "49997    I am a Catholic taught in parochial elementary...\n",
              "49998    I'm going to have to disagree with the previou...\n",
              "49999    No one expects the Star Trek movies to be high...\n",
              "Name: review, Length: 50000, dtype: object"
            ]
          },
          "metadata": {},
          "execution_count": 9
        }
      ]
    },
    {
      "cell_type": "markdown",
      "source": [
        "**CONVERT ALL TEXT INTO LOWERCASE**"
      ],
      "metadata": {
        "id": "v-t44wolQ0qL"
      }
    },
    {
      "cell_type": "code",
      "source": [
        "reviews = [each.lower() for each in reviews]\n",
        "reviews[0]"
      ],
      "metadata": {
        "colab": {
          "base_uri": "https://localhost:8080/",
          "height": 127
        },
        "id": "PuMry1lBQzFn",
        "outputId": "e65682ac-d768-407a-d3cb-1ee1e7bf9333"
      },
      "execution_count": null,
      "outputs": [
        {
          "output_type": "execute_result",
          "data": {
            "text/plain": [
              "\"one of the other reviewers has mentioned that after watching just 1 oz episode you'll be hooked. they are right, as this is exactly what happened with me.<br /><br />the first thing that struck me about oz was its brutality and unflinching scenes of violence, which set in right from the word go. trust me, this is not a show for the faint hearted or timid. this show pulls no punches with regards to drugs, sex or violence. its is hardcore, in the classic use of the word.<br /><br />it is called oz as that is the nickname given to the oswald maximum security state penitentary. it focuses mainly on emerald city, an experimental section of the prison where all the cells have glass fronts and face inwards, so privacy is not high on the agenda. em city is home to many..aryans, muslims, gangstas, latinos, christians, italians, irish and more....so scuffles, death stares, dodgy dealings and shady agreements are never far away.<br /><br />i would say the main appeal of the show is due to the fact that it goes where other shows wouldn't dare. forget pretty pictures painted for mainstream audiences, forget charm, forget romance...oz doesn't mess around. the first episode i ever saw struck me as so nasty it was surreal, i couldn't say i was ready for it, but as i watched more, i developed a taste for oz, and got accustomed to the high levels of graphic violence. not just violence, but injustice (crooked guards who'll be sold out for a nickel, inmates who'll kill on order and get away with it, well mannered, middle class inmates being turned into prison bitches due to their lack of street skills or prison experience) watching oz, you may become comfortable with what is uncomfortable viewing....thats if you can get in touch with your darker side.\""
            ],
            "application/vnd.google.colaboratory.intrinsic+json": {
              "type": "string"
            }
          },
          "metadata": {},
          "execution_count": 10
        }
      ]
    },
    {
      "cell_type": "markdown",
      "source": [
        "**Remove HTML TAGS**"
      ],
      "metadata": {
        "id": "GMs4FarISQRq"
      }
    },
    {
      "cell_type": "code",
      "source": [
        "import re\n",
        "\n",
        "def removeHtmlTags(text):\n",
        "  pattern = re.compile('<.*?>')\n",
        "  return pattern.sub(r'',text)"
      ],
      "metadata": {
        "id": "b24-ZHUnSOLD"
      },
      "execution_count": null,
      "outputs": []
    },
    {
      "cell_type": "code",
      "source": [
        "#removing tags from all review in reviews by calling removeHtmlTags() for each review\n",
        "reviews = [removeHtmlTags(review) for review in reviews]\n",
        "reviews[0]"
      ],
      "metadata": {
        "colab": {
          "base_uri": "https://localhost:8080/",
          "height": 127
        },
        "id": "FEatx4CLTA8-",
        "outputId": "b1972912-4555-401a-9d1d-00a7d8307752"
      },
      "execution_count": null,
      "outputs": [
        {
          "output_type": "execute_result",
          "data": {
            "text/plain": [
              "\"one of the other reviewers has mentioned that after watching just 1 oz episode you'll be hooked. they are right, as this is exactly what happened with me.the first thing that struck me about oz was its brutality and unflinching scenes of violence, which set in right from the word go. trust me, this is not a show for the faint hearted or timid. this show pulls no punches with regards to drugs, sex or violence. its is hardcore, in the classic use of the word.it is called oz as that is the nickname given to the oswald maximum security state penitentary. it focuses mainly on emerald city, an experimental section of the prison where all the cells have glass fronts and face inwards, so privacy is not high on the agenda. em city is home to many..aryans, muslims, gangstas, latinos, christians, italians, irish and more....so scuffles, death stares, dodgy dealings and shady agreements are never far away.i would say the main appeal of the show is due to the fact that it goes where other shows wouldn't dare. forget pretty pictures painted for mainstream audiences, forget charm, forget romance...oz doesn't mess around. the first episode i ever saw struck me as so nasty it was surreal, i couldn't say i was ready for it, but as i watched more, i developed a taste for oz, and got accustomed to the high levels of graphic violence. not just violence, but injustice (crooked guards who'll be sold out for a nickel, inmates who'll kill on order and get away with it, well mannered, middle class inmates being turned into prison bitches due to their lack of street skills or prison experience) watching oz, you may become comfortable with what is uncomfortable viewing....thats if you can get in touch with your darker side.\""
            ],
            "application/vnd.google.colaboratory.intrinsic+json": {
              "type": "string"
            }
          },
          "metadata": {},
          "execution_count": 12
        }
      ]
    },
    {
      "cell_type": "markdown",
      "source": [
        "**URL REMOVALS (if present)**"
      ],
      "metadata": {
        "id": "Fv6YG_SVT3V2"
      }
    },
    {
      "cell_type": "code",
      "source": [
        "def removeUrls(text):\n",
        "  pattern = re.compile(r'http\\S+|www\\S+')\n",
        "  return pattern.sub(r'',text)\n",
        "\n",
        "url1 = \"https://www.example.com\"\n",
        "url2 = \"http://example.com\"\n",
        "url3 = \"www.example.com\"\n",
        "text = f\"This is a sample text with embedded URLs: {url1}, {url2}, {url3}. Please visit the websites.\"\n",
        "\n",
        "print(text)\n",
        "\n",
        "removeUrls(text)"
      ],
      "metadata": {
        "colab": {
          "base_uri": "https://localhost:8080/",
          "height": 54
        },
        "id": "Gh2QbW0PVde-",
        "outputId": "3c15d043-6704-4b5d-90ab-1639653f0e41"
      },
      "execution_count": null,
      "outputs": [
        {
          "output_type": "stream",
          "name": "stdout",
          "text": [
            "This is a sample text with embedded URLs: https://www.example.com, http://example.com, www.example.com. Please visit the websites.\n"
          ]
        },
        {
          "output_type": "execute_result",
          "data": {
            "text/plain": [
              "'This is a sample text with embedded URLs:    Please visit the websites.'"
            ],
            "application/vnd.google.colaboratory.intrinsic+json": {
              "type": "string"
            }
          },
          "metadata": {},
          "execution_count": 13
        }
      ]
    },
    {
      "cell_type": "markdown",
      "source": [
        "**REMOVE PUNCTUATIONS**"
      ],
      "metadata": {
        "id": "Dl0tbkZIYo6s"
      }
    },
    {
      "cell_type": "code",
      "source": [
        "import string\n",
        "\n",
        "#SLOW\n",
        "def removePunc(text):\n",
        "  text = ''.join ([ch for ch in text if ch not in string.punctuation])\n",
        "  return text\n",
        "\n",
        "#FAST\n",
        "def removePuncFast(text):\n",
        "  text = text.translate(str.maketrans('','',string.punctuation))\n",
        "  return text\n",
        "\n",
        "text = \"This is a sample string containing punctuation marks: !@#$%^&*()_+{}[];':,.<>?/\"\n",
        "print(removePuncFast(text))\n",
        "removePunc(text)"
      ],
      "metadata": {
        "colab": {
          "base_uri": "https://localhost:8080/",
          "height": 54
        },
        "id": "FTasMwR-YsZm",
        "outputId": "ae0a4e32-1af1-4a25-9068-b6060642c369"
      },
      "execution_count": null,
      "outputs": [
        {
          "output_type": "stream",
          "name": "stdout",
          "text": [
            "This is a sample string containing punctuation marks \n"
          ]
        },
        {
          "output_type": "execute_result",
          "data": {
            "text/plain": [
              "'This is a sample string containing punctuation marks '"
            ],
            "application/vnd.google.colaboratory.intrinsic+json": {
              "type": "string"
            }
          },
          "metadata": {},
          "execution_count": 14
        }
      ]
    },
    {
      "cell_type": "code",
      "source": [
        "#apply on our dataset\n",
        "reviews = [removePunc(review) for review in reviews]\n",
        "reviews[4]\n",
        "\n",
        "#one issue figured, is matti's became mattis with this"
      ],
      "metadata": {
        "colab": {
          "base_uri": "https://localhost:8080/",
          "height": 127
        },
        "id": "0ujxjHL9bpSF",
        "outputId": "0a83191c-faa0-4408-dcc1-d9b646c9746e"
      },
      "execution_count": null,
      "outputs": [
        {
          "output_type": "execute_result",
          "data": {
            "text/plain": [
              "'petter matteis love in the time of money is a visually stunning film to watch mr mattei offers us a vivid portrait about human relations this is a movie that seems to be telling us what money power and success do to people in the different situations we encounter this being a variation on the arthur schnitzlers play about the same theme the director transfers the action to the present time new york where all these different characters meet and connect each one is connected in one way or another to the next person but no one seems to know the previous point of contact stylishly the film has a sophisticated luxurious look we are taken to see how these people live and the world they live in their own habitatthe only thing one gets out of all these souls in the picture is the different stages of loneliness each one inhabits a big city is not exactly the best place in which human relations find sincere fulfillment as one discerns is the case with most of the people we encounterthe acting is good under mr matteis direction steve buscemi rosario dawson carol kane michael imperioli adrian grenier and the rest of the talented cast make these characters come alivewe wish mr mattei good luck and await anxiously for his next work'"
            ],
            "application/vnd.google.colaboratory.intrinsic+json": {
              "type": "string"
            }
          },
          "metadata": {},
          "execution_count": 15
        }
      ]
    },
    {
      "cell_type": "markdown",
      "source": [
        "**Short Form Work Treatment**"
      ],
      "metadata": {
        "id": "s9xxIzE-jl_Q"
      }
    },
    {
      "cell_type": "code",
      "source": [
        "acronyms = {\n",
        "    \"AFAIK\": \"As Far As I Know\",\n",
        "    \"AFK\": \"Away From Keyboard\",\n",
        "    \"ASAP\": \"As Soon As Possible\",\n",
        "    \"ATK\": \"At The Keyboard\",\n",
        "    \"ATM\": \"At The Moment\",\n",
        "    \"A3\": \"Anytime, Anywhere, Anyplace\",\n",
        "    \"BAK\": \"Back At Keyboard\",\n",
        "    \"BBL\": \"Be Back Later\",\n",
        "    \"BBS\": \"Be Back Soon\",\n",
        "    \"BFN\": \"Bye For Now\",\n",
        "    \"B4N\": \"Bye For Now\",\n",
        "    \"BRB\": \"Be Right Back\",\n",
        "    \"BRT\": \"Be Right There\",\n",
        "    \"BTW\": \"By The Way\",\n",
        "    \"B4\": \"Before\",\n",
        "    \"B4N\": \"Bye For Now\",\n",
        "    \"CU\": \"See You\",\n",
        "    \"CUL8R\": \"See You Later\",\n",
        "    \"CYA\": \"See You\",\n",
        "    \"FAQ\": \"Frequently Asked Questions\",\n",
        "    \"FC\": \"Fingers Crossed\",\n",
        "    \"FWIW\": \"For What It's Worth\",\n",
        "    \"FYI\": \"For Your Information\",\n",
        "    \"GAL\": \"Get A Life\",\n",
        "    \"GG\": \"Good Game\",\n",
        "    \"GN\": \"Good Night\",\n",
        "    \"GMTA\": \"Great Minds Think Alike\",\n",
        "    \"GR8\": \"Great!\",\n",
        "    \"G9\": \"Genius\",\n",
        "    \"IC\": \"I See\",\n",
        "    \"ICQ\": \"I Seek you (also a chat program)\",\n",
        "    \"ILU\": \"ILU: I Love You\",\n",
        "    \"IMHO\": \"In My Honest/Humble Opinion\",\n",
        "    \"IMO\": \"In My Opinion\",\n",
        "    \"IOW\": \"In Other Words\",\n",
        "    \"IRL\": \"In Real Life\",\n",
        "    \"KISS\": \"Keep It Simple, Stupid\",\n",
        "    \"LDR\": \"Long Distance Relationship\",\n",
        "    \"LMAO\": \"Laugh My A.. Off\",\n",
        "    \"LOL\": \"Laughing Out Loud\",\n",
        "    \"LTNS\": \"Long Time No See\",\n",
        "    \"L8R\": \"Later\",\n",
        "    \"MTE\": \"My Thoughts Exactly\",\n",
        "    \"M8\": \"Mate\",\n",
        "    \"NRN\": \"No Reply Necessary\",\n",
        "    \"OIC\": \"Oh I See\",\n",
        "    \"PITA\": \"Pain In The A..\",\n",
        "    \"PRT\": \"Party\",\n",
        "    \"PRW\": \"Parents Are Watching\",\n",
        "    \"QPSA?\": \"Que Pasa?\",\n",
        "    \"ROFL\": \"Rolling On The Floor Laughing\",\n",
        "    \"ROFLOL\": \"Rolling On The Floor Laughing Out Loud\",\n",
        "    \"ROTFLMAO\": \"Rolling On The Floor Laughing My A.. Off\",\n",
        "    \"SK8\": \"Skate\",\n",
        "    \"STATS\": \"Your sex and age\",\n",
        "    \"ASL\": \"Age, Sex, Location\",\n",
        "    \"THX\": \"Thank You\",\n",
        "    \"TTFN\": \"Ta-Ta For Now!\",\n",
        "    \"TTYL\": \"Talk To You Later\",\n",
        "    \"U\": \"You\",\n",
        "    \"U2\": \"You Too\",\n",
        "    \"U4E\": \"Yours For Ever\",\n",
        "    \"WB\": \"Welcome Back\",\n",
        "    \"WTF\": \"What The F...\",\n",
        "    \"WTG\": \"Way To Go!\",\n",
        "    \"WUF\": \"Where Are You From?\",\n",
        "    \"W8\": \"Wait...\",\n",
        "    \"7K\": \"Sick:-D Laughter\"\n",
        "}\n",
        "\n",
        "def slangTranslate(text):\n",
        "  newText = []\n",
        "  newText = [acronyms[w.upper()] if w.upper() in acronyms else w for w in text.split()]\n",
        "  return ' '.join(newText)\n",
        "\n",
        "slangTranslate('Hellow TTFN kesy ho TTYL')"
      ],
      "metadata": {
        "colab": {
          "base_uri": "https://localhost:8080/",
          "height": 36
        },
        "id": "-vvMnUiNju--",
        "outputId": "512fa1a6-ace8-443e-ce51-8d90ba5e00f6"
      },
      "execution_count": null,
      "outputs": [
        {
          "output_type": "execute_result",
          "data": {
            "text/plain": [
              "'Hellow Ta-Ta For Now! kesy ho Talk To You Later'"
            ],
            "application/vnd.google.colaboratory.intrinsic+json": {
              "type": "string"
            }
          },
          "metadata": {},
          "execution_count": 21
        }
      ]
    },
    {
      "cell_type": "code",
      "source": [
        "reviews = [slangTranslate(review) for review in reviews ]\n",
        "reviews[:4]"
      ],
      "metadata": {
        "colab": {
          "base_uri": "https://localhost:8080/"
        },
        "id": "4m5-vPnvnYIE",
        "outputId": "96e2b84c-6ff1-4c80-ec19-daa826d39809"
      },
      "execution_count": null,
      "outputs": [
        {
          "output_type": "execute_result",
          "data": {
            "text/plain": [
              "['one of the other reviewers has mentioned that after watching just 1 oz episode youll be hooked they are right as this is exactly what happened with methe first thing that struck me about oz was its brutality and unflinching scenes of violence which set in right from the word go trust me this is not a show for the faint hearted or timid this show pulls no punches with regards to drugs sex or violence its is hardcore in the classic use of the wordit is called oz as that is the nickname given to the oswald maximum security state penitentary it focuses mainly on emerald city an experimental section of the prison where all the cells have glass fronts and face inwards so privacy is not high on the agenda em city is home to manyaryans muslims gangstas latinos christians italians irish and moreso scuffles death stares dodgy dealings and shady agreements are never far awayi would say the main appeal of the show is due to the fact that it goes where other shows wouldnt dare forget pretty pictures painted for mainstream audiences forget charm forget romanceoz doesnt mess around the first episode i ever saw struck me as so nasty it was surreal i couldnt say i was ready for it but as i watched more i developed a taste for oz and got accustomed to the high levels of graphic violence not just violence but injustice crooked guards wholl be sold out for a nickel inmates wholl kill on order and get away with it well mannered middle class inmates being turned into prison bitches due to their lack of street skills or prison experience watching oz you may become comfortable with what is uncomfortable viewingthats if you can get in touch with your darker side',\n",
              " 'a wonderful little production the filming technique is very unassuming very oldtimebbc fashion and gives a comforting and sometimes discomforting sense of realism to the entire piece the actors are extremely well chosen michael sheen not only has got all the polari but he has all the voices down pat too you can truly see the seamless editing guided by the references to williams diary entries not only is it well worth the watching but it is a terrificly written and performed piece a masterful production about one of the great masters of comedy and his life the realism really comes home with the little things the fantasy of the guard which rather than use the traditional dream techniques remains solid then disappears it plays on our knowledge and our senses particularly with the scenes concerning orton and halliwell and the sets particularly of their flat with halliwells murals decorating every surface are terribly well done',\n",
              " 'i thought this was a wonderful way to spend time on a too hot summer weekend sitting in the air conditioned theater and watching a lighthearted comedy the plot is simplistic but the dialogue is witty and the characters are likable even the well bread suspected serial killer while some may be disappointed when they realize this is not match point 2 risk addiction i thought it was proof that woody allen is still fully in control of the style many of us have grown to lovethis was the most id laughed at one of woodys comedies in years dare i say a decade while ive never been impressed with scarlet johanson in this she managed to tone down her sexy image and jumped right into a average but spirited young womanthis may not be the crown jewel of his career but it was wittier than devil wears prada and more interesting than superman a great comedy to go see with friends',\n",
              " 'basically theres a family where a little boy jake thinks theres a zombie in his closet his parents are fighting all the timethis movie is slower than a soap opera and suddenly jake decides to become rambo and kill the zombieok first of all when youre going to make a film you must decide if its a thriller or a drama as a drama the movie is watchable parents are divorcing arguing like in real life and then we have jake with his closet which totally ruins all the film i expected to see a boogeyman similar movie and instead i watched a drama with some meaningless thriller spots3 out of 10 just for the well playing parents descent dialogs as for the shots with jake just ignore them']"
            ]
          },
          "metadata": {},
          "execution_count": 17
        }
      ]
    },
    {
      "cell_type": "markdown",
      "source": [
        "**SPELLING CORRECTIONS**"
      ],
      "metadata": {
        "id": "CfRQzmUloRhx"
      }
    },
    {
      "cell_type": "code",
      "source": [
        "#TextBlob is good for just correcting simple spellings\n",
        "import textblob\n",
        "from textblob import TextBlob\n",
        "\n",
        "def correctSpellings(text):\n",
        "  return TextBlob(text).correct().string\n",
        "\n",
        "\n",
        "correctSpellings('i eam finne brother whate abuot yuo')\n",
        "# reviews = [correctSpellings(r) for r in reviews]"
      ],
      "metadata": {
        "colab": {
          "base_uri": "https://localhost:8080/",
          "height": 36
        },
        "id": "sj1JaYSOoYAI",
        "outputId": "177c236d-5c41-473b-e55e-c7ee0d599d66"
      },
      "execution_count": null,
      "outputs": [
        {
          "output_type": "execute_result",
          "data": {
            "text/plain": [
              "'i am fine brother what about you'"
            ],
            "application/vnd.google.colaboratory.intrinsic+json": {
              "type": "string"
            }
          },
          "metadata": {},
          "execution_count": 18
        }
      ]
    },
    {
      "cell_type": "markdown",
      "source": [
        "**STOPWORD REMOVAL**"
      ],
      "metadata": {
        "id": "MqIh1IoUsuR_"
      }
    },
    {
      "cell_type": "code",
      "source": [
        "import nltk\n",
        "nltk.download('stopwords')\n",
        "from nltk.corpus import stopwords"
      ],
      "metadata": {
        "colab": {
          "base_uri": "https://localhost:8080/"
        },
        "id": "8WaTKl5bvrxF",
        "outputId": "e0139ff3-2444-4a77-cc35-4088b04842b7"
      },
      "execution_count": null,
      "outputs": [
        {
          "output_type": "stream",
          "name": "stderr",
          "text": [
            "[nltk_data] Downloading package stopwords to /root/nltk_data...\n",
            "[nltk_data]   Package stopwords is already up-to-date!\n"
          ]
        }
      ]
    },
    {
      "cell_type": "code",
      "source": [
        "def removestopwords(text):\n",
        "  toRemove = set(stopwords.words('english'))\n",
        "  filtered = [w if w not in toRemove else '' for w in text.split() ]\n",
        "  return ' '.join(filtered)\n",
        "\n",
        "removestopwords('i am a professional deep learning and machine learning engineers .')"
      ],
      "metadata": {
        "colab": {
          "base_uri": "https://localhost:8080/",
          "height": 36
        },
        "id": "I-XpvTvMszNb",
        "outputId": "111d226d-862c-4ca2-95b5-f77e4ae67e5d"
      },
      "execution_count": null,
      "outputs": [
        {
          "output_type": "execute_result",
          "data": {
            "text/plain": [
              "'   professional deep learning  machine learning engineers .'"
            ],
            "application/vnd.google.colaboratory.intrinsic+json": {
              "type": "string"
            }
          },
          "metadata": {},
          "execution_count": 20
        }
      ]
    },
    {
      "cell_type": "code",
      "source": [
        "reviews = [removestopwords(review) for review in reviews]\n",
        "reviews[:2]"
      ],
      "metadata": {
        "colab": {
          "base_uri": "https://localhost:8080/"
        },
        "id": "npnF7l4Pvy-W",
        "outputId": "58c8a7e2-0b64-49e9-94ee-40b04a00f6c6"
      },
      "execution_count": null,
      "outputs": [
        {
          "output_type": "execute_result",
          "data": {
            "text/plain": [
              "['one    reviewers  mentioned   watching  1 oz episode youll  hooked   right    exactly  happened  methe first thing  struck   oz   brutality  unflinching scenes  violence  set  right   word go trust      show   faint hearted  timid  show pulls  punches  regards  drugs sex  violence   hardcore   classic use   wordit  called oz     nickname given   oswald maximum security state penitentary  focuses mainly  emerald city  experimental section   prison    cells  glass fronts  face inwards  privacy   high   agenda em city  home  manyaryans muslims gangstas latinos christians italians irish  moreso scuffles death stares dodgy dealings  shady agreements  never far awayi would say  main appeal   show  due   fact   goes   shows wouldnt dare forget pretty pictures painted  mainstream audiences forget charm forget romanceoz doesnt mess around  first episode  ever saw struck    nasty   surreal  couldnt say   ready      watched   developed  taste  oz  got accustomed   high levels  graphic violence   violence  injustice crooked guards wholl  sold    nickel inmates wholl kill  order  get away   well mannered middle class inmates  turned  prison bitches due   lack  street skills  prison experience watching oz  may become comfortable    uncomfortable viewingthats    get  touch   darker side',\n",
              " ' wonderful little production  filming technique   unassuming  oldtimebbc fashion  gives  comforting  sometimes discomforting sense  realism   entire piece  actors  extremely well chosen michael sheen    got   polari      voices  pat    truly see  seamless editing guided   references  williams diary entries     well worth  watching     terrificly written  performed piece  masterful production  one   great masters  comedy   life  realism really comes home   little things  fantasy   guard  rather  use  traditional dream techniques remains solid  disappears  plays   knowledge   senses particularly   scenes concerning orton  halliwell   sets particularly   flat  halliwells murals decorating every surface  terribly well done']"
            ]
          },
          "metadata": {},
          "execution_count": 22
        }
      ]
    },
    {
      "cell_type": "markdown",
      "source": [
        "**REMOVE EMOJI**"
      ],
      "metadata": {
        "id": "PWes2w0Wadjm"
      }
    },
    {
      "cell_type": "code",
      "execution_count": null,
      "metadata": {
        "id": "X2MNg4Jb_D4m",
        "colab": {
          "base_uri": "https://localhost:8080/"
        },
        "outputId": "49ff6539-5b4d-4faa-97a4-ab2e3a0e58e1"
      },
      "outputs": [
        {
          "output_type": "stream",
          "name": "stdout",
          "text": [
            "Hello!  How are you? \n"
          ]
        }
      ],
      "source": [
        "import re\n",
        "def remove_emojis(text):\n",
        "    emoji_pattern = re.compile(\"[\"\n",
        "                               u\"\\U0001F600-\\U0001F64F\"  # emoticons\n",
        "                               u\"\\U0001F300-\\U0001F5FF\"  # symbols & pictographs\n",
        "                               u\"\\U0001F680-\\U0001F6FF\"  # transport & map symbols\n",
        "                               u\"\\U0001F1E0-\\U0001F1FF\"  # flags (iOS)\n",
        "                               u\"\\U00002500-\\U00002BEF\"  # chinese char\n",
        "                               u\"\\U00002702-\\U000027B0\"\n",
        "                               u\"\\U00002702-\\U000027B0\"\n",
        "                               u\"\\U000024C2-\\U0001F251\"\n",
        "                               u\"\\U0001f926-\\U0001f937\"\n",
        "                               u\"\\U00010000-\\U0010ffff\"\n",
        "                               u\"\\u2640-\\u2642\"\n",
        "                               u\"\\u2600-\\u2B55\"\n",
        "                               u\"\\u200d\"\n",
        "                               u\"\\u23cf\"\n",
        "                               u\"\\u23e9\"\n",
        "                               u\"\\u231a\"\n",
        "                               u\"\\ufe0f\"  # dingbats\n",
        "                               u\"\\u3030\"\n",
        "                               \"]+\", flags=re.UNICODE)\n",
        "    cleaned = emoji_pattern.sub(r'',text)\n",
        "    return cleaned\n",
        "\n",
        "# Example usage\n",
        "text = \"Hello! 😃 How are you? 🌞\"\n",
        "cleaned_text = remove_emojis(text)\n",
        "print(cleaned_text)"
      ]
    },
    {
      "cell_type": "markdown",
      "source": [
        "**REPLACE EMOJI**"
      ],
      "metadata": {
        "id": "jRtCRnGqbVDz"
      }
    },
    {
      "cell_type": "code",
      "source": [
        "!pip install emoji\n",
        "import emoji\n",
        "def replaceEmoji (text):\n",
        "  return emoji.demojize(text)\n",
        "replaceEmoji('Hello! 😃 How are you? 🌞')"
      ],
      "metadata": {
        "colab": {
          "base_uri": "https://localhost:8080/",
          "height": 54
        },
        "id": "K2-PWvExbYmc",
        "outputId": "eb1e7e5e-de43-4f11-89a4-cbaed763aefa"
      },
      "execution_count": null,
      "outputs": [
        {
          "output_type": "stream",
          "name": "stdout",
          "text": [
            "Requirement already satisfied: emoji in /usr/local/lib/python3.10/dist-packages (2.6.0)\n"
          ]
        },
        {
          "output_type": "execute_result",
          "data": {
            "text/plain": [
              "'Hello! :grinning_face_with_big_eyes: How are you? :sun_with_face:'"
            ],
            "application/vnd.google.colaboratory.intrinsic+json": {
              "type": "string"
            }
          },
          "metadata": {},
          "execution_count": 24
        }
      ]
    },
    {
      "cell_type": "markdown",
      "source": [
        "**WORD TOKENIZATION**"
      ],
      "metadata": {
        "id": "8l4d6GOkcIVP"
      }
    },
    {
      "cell_type": "code",
      "source": [
        "from nltk.tokenize import word_tokenize\n",
        "import nltk\n",
        "nltk.download('punkt')\n"
      ],
      "metadata": {
        "colab": {
          "base_uri": "https://localhost:8080/"
        },
        "id": "hU64idG_cM13",
        "outputId": "1b470f56-22b7-415e-f7a7-8b76ea495db7"
      },
      "execution_count": null,
      "outputs": [
        {
          "output_type": "stream",
          "name": "stderr",
          "text": [
            "[nltk_data] Downloading package punkt to /root/nltk_data...\n",
            "[nltk_data]   Package punkt is already up-to-date!\n"
          ]
        },
        {
          "output_type": "execute_result",
          "data": {
            "text/plain": [
              "True"
            ]
          },
          "metadata": {},
          "execution_count": 25
        }
      ]
    },
    {
      "cell_type": "code",
      "source": [
        "def word_tokenization(text):\n",
        "  return word_tokenize(text)\n",
        "\n",
        "word_tokenization('hello i am going to australia!')"
      ],
      "metadata": {
        "colab": {
          "base_uri": "https://localhost:8080/"
        },
        "id": "emerMysNdzVH",
        "outputId": "8887ca39-9488-4a79-a06a-513d5e29822e"
      },
      "execution_count": null,
      "outputs": [
        {
          "output_type": "execute_result",
          "data": {
            "text/plain": [
              "['hello', 'i', 'am', 'going', 'to', 'australia', '!']"
            ]
          },
          "metadata": {},
          "execution_count": 26
        }
      ]
    },
    {
      "cell_type": "code",
      "source": [
        "#apply to DS\n",
        "reviews = [word_tokenization(review) for review in reviews ]\n",
        "reviews[:2]"
      ],
      "metadata": {
        "colab": {
          "base_uri": "https://localhost:8080/"
        },
        "id": "T3kRPSg6ovod",
        "outputId": "b95912ef-eea2-4441-976f-aab4690096b9"
      },
      "execution_count": null,
      "outputs": [
        {
          "output_type": "execute_result",
          "data": {
            "text/plain": [
              "[['one',\n",
              "  'reviewers',\n",
              "  'mentioned',\n",
              "  'watching',\n",
              "  '1',\n",
              "  'oz',\n",
              "  'episode',\n",
              "  'youll',\n",
              "  'hooked',\n",
              "  'right',\n",
              "  'exactly',\n",
              "  'happened',\n",
              "  'methe',\n",
              "  'first',\n",
              "  'thing',\n",
              "  'struck',\n",
              "  'oz',\n",
              "  'brutality',\n",
              "  'unflinching',\n",
              "  'scenes',\n",
              "  'violence',\n",
              "  'set',\n",
              "  'right',\n",
              "  'word',\n",
              "  'go',\n",
              "  'trust',\n",
              "  'show',\n",
              "  'faint',\n",
              "  'hearted',\n",
              "  'timid',\n",
              "  'show',\n",
              "  'pulls',\n",
              "  'punches',\n",
              "  'regards',\n",
              "  'drugs',\n",
              "  'sex',\n",
              "  'violence',\n",
              "  'hardcore',\n",
              "  'classic',\n",
              "  'use',\n",
              "  'wordit',\n",
              "  'called',\n",
              "  'oz',\n",
              "  'nickname',\n",
              "  'given',\n",
              "  'oswald',\n",
              "  'maximum',\n",
              "  'security',\n",
              "  'state',\n",
              "  'penitentary',\n",
              "  'focuses',\n",
              "  'mainly',\n",
              "  'emerald',\n",
              "  'city',\n",
              "  'experimental',\n",
              "  'section',\n",
              "  'prison',\n",
              "  'cells',\n",
              "  'glass',\n",
              "  'fronts',\n",
              "  'face',\n",
              "  'inwards',\n",
              "  'privacy',\n",
              "  'high',\n",
              "  'agenda',\n",
              "  'em',\n",
              "  'city',\n",
              "  'home',\n",
              "  'manyaryans',\n",
              "  'muslims',\n",
              "  'gangstas',\n",
              "  'latinos',\n",
              "  'christians',\n",
              "  'italians',\n",
              "  'irish',\n",
              "  'moreso',\n",
              "  'scuffles',\n",
              "  'death',\n",
              "  'stares',\n",
              "  'dodgy',\n",
              "  'dealings',\n",
              "  'shady',\n",
              "  'agreements',\n",
              "  'never',\n",
              "  'far',\n",
              "  'awayi',\n",
              "  'would',\n",
              "  'say',\n",
              "  'main',\n",
              "  'appeal',\n",
              "  'show',\n",
              "  'due',\n",
              "  'fact',\n",
              "  'goes',\n",
              "  'shows',\n",
              "  'wouldnt',\n",
              "  'dare',\n",
              "  'forget',\n",
              "  'pretty',\n",
              "  'pictures',\n",
              "  'painted',\n",
              "  'mainstream',\n",
              "  'audiences',\n",
              "  'forget',\n",
              "  'charm',\n",
              "  'forget',\n",
              "  'romanceoz',\n",
              "  'doesnt',\n",
              "  'mess',\n",
              "  'around',\n",
              "  'first',\n",
              "  'episode',\n",
              "  'ever',\n",
              "  'saw',\n",
              "  'struck',\n",
              "  'nasty',\n",
              "  'surreal',\n",
              "  'couldnt',\n",
              "  'say',\n",
              "  'ready',\n",
              "  'watched',\n",
              "  'developed',\n",
              "  'taste',\n",
              "  'oz',\n",
              "  'got',\n",
              "  'accustomed',\n",
              "  'high',\n",
              "  'levels',\n",
              "  'graphic',\n",
              "  'violence',\n",
              "  'violence',\n",
              "  'injustice',\n",
              "  'crooked',\n",
              "  'guards',\n",
              "  'wholl',\n",
              "  'sold',\n",
              "  'nickel',\n",
              "  'inmates',\n",
              "  'wholl',\n",
              "  'kill',\n",
              "  'order',\n",
              "  'get',\n",
              "  'away',\n",
              "  'well',\n",
              "  'mannered',\n",
              "  'middle',\n",
              "  'class',\n",
              "  'inmates',\n",
              "  'turned',\n",
              "  'prison',\n",
              "  'bitches',\n",
              "  'due',\n",
              "  'lack',\n",
              "  'street',\n",
              "  'skills',\n",
              "  'prison',\n",
              "  'experience',\n",
              "  'watching',\n",
              "  'oz',\n",
              "  'may',\n",
              "  'become',\n",
              "  'comfortable',\n",
              "  'uncomfortable',\n",
              "  'viewingthats',\n",
              "  'get',\n",
              "  'touch',\n",
              "  'darker',\n",
              "  'side'],\n",
              " ['wonderful',\n",
              "  'little',\n",
              "  'production',\n",
              "  'filming',\n",
              "  'technique',\n",
              "  'unassuming',\n",
              "  'oldtimebbc',\n",
              "  'fashion',\n",
              "  'gives',\n",
              "  'comforting',\n",
              "  'sometimes',\n",
              "  'discomforting',\n",
              "  'sense',\n",
              "  'realism',\n",
              "  'entire',\n",
              "  'piece',\n",
              "  'actors',\n",
              "  'extremely',\n",
              "  'well',\n",
              "  'chosen',\n",
              "  'michael',\n",
              "  'sheen',\n",
              "  'got',\n",
              "  'polari',\n",
              "  'voices',\n",
              "  'pat',\n",
              "  'truly',\n",
              "  'see',\n",
              "  'seamless',\n",
              "  'editing',\n",
              "  'guided',\n",
              "  'references',\n",
              "  'williams',\n",
              "  'diary',\n",
              "  'entries',\n",
              "  'well',\n",
              "  'worth',\n",
              "  'watching',\n",
              "  'terrificly',\n",
              "  'written',\n",
              "  'performed',\n",
              "  'piece',\n",
              "  'masterful',\n",
              "  'production',\n",
              "  'one',\n",
              "  'great',\n",
              "  'masters',\n",
              "  'comedy',\n",
              "  'life',\n",
              "  'realism',\n",
              "  'really',\n",
              "  'comes',\n",
              "  'home',\n",
              "  'little',\n",
              "  'things',\n",
              "  'fantasy',\n",
              "  'guard',\n",
              "  'rather',\n",
              "  'use',\n",
              "  'traditional',\n",
              "  'dream',\n",
              "  'techniques',\n",
              "  'remains',\n",
              "  'solid',\n",
              "  'disappears',\n",
              "  'plays',\n",
              "  'knowledge',\n",
              "  'senses',\n",
              "  'particularly',\n",
              "  'scenes',\n",
              "  'concerning',\n",
              "  'orton',\n",
              "  'halliwell',\n",
              "  'sets',\n",
              "  'particularly',\n",
              "  'flat',\n",
              "  'halliwells',\n",
              "  'murals',\n",
              "  'decorating',\n",
              "  'every',\n",
              "  'surface',\n",
              "  'terribly',\n",
              "  'well',\n",
              "  'done']]"
            ]
          },
          "metadata": {},
          "execution_count": 27
        }
      ]
    },
    {
      "cell_type": "markdown",
      "source": [
        "**SENTANCE TOKENIZE **"
      ],
      "metadata": {
        "id": "tEC7iyp5eV57"
      }
    },
    {
      "cell_type": "code",
      "source": [
        "from nltk.tokenize import sent_tokenize\n",
        "\n",
        "def sent_tokenization(text):\n",
        "  res= sent_tokenize(text)\n",
        "  return res\n",
        "\n",
        "sentences = [\n",
        "  \"The quick brown fox jumps over the lazy dog.\",\n",
        "  \"I am running in the park.\",\n",
        "  \"She has a collection of books on various topics.\",\n",
        "  \"They are playing football in the field.\",\n",
        "  \"The sun sets in the west.\"\n",
        "]\n",
        "[sent_tokenization(r) for r in sentences]"
      ],
      "metadata": {
        "colab": {
          "base_uri": "https://localhost:8080/"
        },
        "id": "d24XzJ54fAqL",
        "outputId": "aece81f7-d05c-450f-ac08-e374287d1022"
      },
      "execution_count": null,
      "outputs": [
        {
          "output_type": "execute_result",
          "data": {
            "text/plain": [
              "[['The quick brown fox jumps over the lazy dog.'],\n",
              " ['I am running in the park.'],\n",
              " ['She has a collection of books on various topics.'],\n",
              " ['They are playing football in the field.'],\n",
              " ['The sun sets in the west.']]"
            ]
          },
          "metadata": {},
          "execution_count": 28
        }
      ]
    },
    {
      "cell_type": "markdown",
      "source": [
        "**TOKENIZATION WITH SPACY (BETTER IN SOME CASES)**"
      ],
      "metadata": {
        "id": "nwBFdP4Wgjdy"
      }
    },
    {
      "cell_type": "code",
      "source": [
        "import spacy\n",
        "\n",
        "nlp = spacy.load('en_core_web_sm')\n",
        "sentence1 = \"Hello, how are you?\"\n",
        "sentence2 = \"I love to code in Python.\"\n",
        "sentence3 = \"The quick brown fox jumps over the lazy dog.\"\n",
        "sentence4 = \"I enjoy reading books and listening to music.\"\n",
        "sentence5 = \"Can you please pass me the salt and pepper?\"\n",
        "\n",
        "\n",
        "doc1 = nlp(sentence1)\n",
        "doc2 = nlp(sentence2)\n",
        "doc3 = nlp(sentence3)\n",
        "\n",
        "for token in doc3:\n",
        "  print(token)"
      ],
      "metadata": {
        "colab": {
          "base_uri": "https://localhost:8080/"
        },
        "id": "p0Djq1jRgqqN",
        "outputId": "bc7cbe7e-f6f5-48d5-b1e7-f595e07df8f5"
      },
      "execution_count": null,
      "outputs": [
        {
          "output_type": "stream",
          "name": "stdout",
          "text": [
            "The\n",
            "quick\n",
            "brown\n",
            "fox\n",
            "jumps\n",
            "over\n",
            "the\n",
            "lazy\n",
            "dog\n",
            ".\n"
          ]
        }
      ]
    },
    {
      "cell_type": "markdown",
      "source": [
        "**STEMMING **"
      ],
      "metadata": {
        "id": "FiJDR7g_iSBx"
      }
    },
    {
      "cell_type": "markdown",
      "source": [
        "Stemming is the process of reducing a word to its stem that affixes to suffixes and prefixes or to the roots of words known as \"lemmas\"."
      ],
      "metadata": {
        "id": "Ga6DfuMTiXEG"
      }
    },
    {
      "cell_type": "markdown",
      "source": [
        "EXAMPLE:\n",
        "playing --> play\n",
        "played --> play\n",
        "plays --> play\n",
        "player --> player\n",
        "happiness --> happi\n",
        "happier --> happier\n",
        "happiest --> happiest\n",
        "\n",
        "\n",
        "**Stemming vs Lemmitization**\n",
        "\n",
        "\n",
        "**Stemming** is fast,sometimes generates words that maynot be part of language(SO use it when you are not showing output to user)\n",
        "\n",
        "\n",
        "**Lemmitization** is slower then stemming but accurate words generation."
      ],
      "metadata": {
        "id": "cVtFVWayi5ON"
      }
    },
    {
      "cell_type": "code",
      "source": [
        "from nltk.stem import PorterStemmer\n",
        "\n",
        "pStemmer = PorterStemmer()\n",
        "\n",
        "def stemming(text):\n",
        "  # words = text.split()\n",
        "  stemmed_words = [pStemmer.stem(word) for word in text]\n",
        "  return ' '.join(stemmed_words)\n",
        "\n",
        "\n",
        "stemming(['walk', 'walking', 'walked'])"
      ],
      "metadata": {
        "colab": {
          "base_uri": "https://localhost:8080/",
          "height": 36
        },
        "id": "kEaM5QQfiY1n",
        "outputId": "087a7ce1-b4dd-4d0a-9ef4-8b6f817f702e"
      },
      "execution_count": null,
      "outputs": [
        {
          "output_type": "execute_result",
          "data": {
            "text/plain": [
              "'walk walk walk'"
            ],
            "application/vnd.google.colaboratory.intrinsic+json": {
              "type": "string"
            }
          },
          "metadata": {},
          "execution_count": 30
        }
      ]
    },
    {
      "cell_type": "code",
      "source": [
        "#applying to reviews\n",
        "reviews = [stemming(review) for review in reviews]\n",
        "reviews[:2]"
      ],
      "metadata": {
        "colab": {
          "base_uri": "https://localhost:8080/"
        },
        "id": "_eJakAvEn7RT",
        "outputId": "d5d95067-75f9-446b-8d65-e68cc2d66347"
      },
      "execution_count": null,
      "outputs": [
        {
          "output_type": "execute_result",
          "data": {
            "text/plain": [
              "['one review mention watch 1 oz episod youll hook right exactli happen meth first thing struck oz brutal unflinch scene violenc set right word go trust show faint heart timid show pull punch regard drug sex violenc hardcor classic use wordit call oz nicknam given oswald maximum secur state penitentari focus mainli emerald citi experiment section prison cell glass front face inward privaci high agenda em citi home manyaryan muslim gangsta latino christian italian irish moreso scuffl death stare dodgi deal shadi agreement never far awayi would say main appeal show due fact goe show wouldnt dare forget pretti pictur paint mainstream audienc forget charm forget romanceoz doesnt mess around first episod ever saw struck nasti surreal couldnt say readi watch develop tast oz got accustom high level graphic violenc violenc injustic crook guard wholl sold nickel inmat wholl kill order get away well manner middl class inmat turn prison bitch due lack street skill prison experi watch oz may becom comfort uncomfort viewingthat get touch darker side',\n",
              " 'wonder littl product film techniqu unassum oldtimebbc fashion give comfort sometim discomfort sens realism entir piec actor extrem well chosen michael sheen got polari voic pat truli see seamless edit guid refer william diari entri well worth watch terrificli written perform piec master product one great master comedi life realism realli come home littl thing fantasi guard rather use tradit dream techniqu remain solid disappear play knowledg sens particularli scene concern orton halliwel set particularli flat halliwel mural decor everi surfac terribl well done']"
            ]
          },
          "metadata": {},
          "execution_count": 31
        }
      ]
    },
    {
      "cell_type": "markdown",
      "source": [
        "**Lemminization**\n",
        "\n",
        "POS must be specifies when calling Lemmitizer.lemitize(text, pos ='v/n/a/o')"
      ],
      "metadata": {
        "id": "FibKBvr3p-aI"
      }
    },
    {
      "cell_type": "code",
      "source": [
        "import nltk\n",
        "from nltk.stem import WordNetLemmatizer\n",
        "\n",
        "nltk.download('wordnet')  # Download required resource for lemmatization\n"
      ],
      "metadata": {
        "colab": {
          "base_uri": "https://localhost:8080/"
        },
        "id": "tySiGXKmi7Np",
        "outputId": "77072d04-5fa1-44af-fecf-870b77c6336c"
      },
      "execution_count": null,
      "outputs": [
        {
          "output_type": "stream",
          "name": "stderr",
          "text": [
            "[nltk_data] Downloading package wordnet to /root/nltk_data...\n",
            "[nltk_data]   Package wordnet is already up-to-date!\n"
          ]
        },
        {
          "output_type": "execute_result",
          "data": {
            "text/plain": [
              "True"
            ]
          },
          "metadata": {},
          "execution_count": 33
        }
      ]
    },
    {
      "cell_type": "code",
      "source": [
        "#not applied to reviews\n",
        "lemi = WordNetLemmatizer()\n",
        "sentences  = [\n",
        "  \"The quick brown fox jumps over the lazy dog.\",\n",
        "  \"I am running in the park.\",\n",
        "  \"She has a collection of books on various topics.\",\n",
        "  \"They are playing football in the field.\",\n",
        "  \"The sun sets in the west.\"\n",
        "]\n",
        "\n",
        "\n",
        "def lemitization(text):\n",
        "  lemitized = [lemi.lemmatize(w,pos='v') for w in text]\n",
        "  return ' '.join(lemitized)\n",
        "sentences = [word_tokenization(s) for s in sentences]\n",
        "[lemitization(sentence) for sentence in sentences]"
      ],
      "metadata": {
        "colab": {
          "base_uri": "https://localhost:8080/"
        },
        "outputId": "a11bf1cc-95ce-4aaf-e449-b8f99340da0f",
        "id": "6HFQsHmu05iw"
      },
      "execution_count": null,
      "outputs": [
        {
          "output_type": "execute_result",
          "data": {
            "text/plain": [
              "['The quick brown fox jump over the lazy dog .',\n",
              " 'I be run in the park .',\n",
              " 'She have a collection of book on various topics .',\n",
              " 'They be play football in the field .',\n",
              " 'The sun set in the west .']"
            ]
          },
          "metadata": {},
          "execution_count": 34
        }
      ]
    },
    {
      "cell_type": "code",
      "source": [
        "#not applied to reviews\n",
        "lemi = WordNetLemmatizer()\n",
        "sentences  = [\n",
        "  \"The quick brown fox jumps over the lazy dog.\",\n",
        "  \"I am running in the park.\",\n",
        "  \"She has a collection of books on various topics.\",\n",
        "  \"They are playing football in the field.\",\n",
        "  \"The sun sets in the west.\"\n",
        "]\n",
        "\n",
        "\n",
        "def lemitization(text):\n",
        "  lemitized = [lemi.lemmatize(w,pos='v') for w in text]\n",
        "  return ' '.join(lemitized)\n",
        "sentences = [word_tokenization(s) for s in sentences]\n",
        "[lemitization(sentence) for sentence in sentences]"
      ],
      "metadata": {
        "colab": {
          "base_uri": "https://localhost:8080/"
        },
        "outputId": "48183b96-c3b3-4439-a554-f3a92757695c",
        "id": "3vt0pbZc04fn"
      },
      "execution_count": null,
      "outputs": [
        {
          "output_type": "execute_result",
          "data": {
            "text/plain": [
              "['The quick brown fox jump over the lazy dog .',\n",
              " 'I be run in the park .',\n",
              " 'She have a collection of book on various topics .',\n",
              " 'They be play football in the field .',\n",
              " 'The sun set in the west .']"
            ]
          },
          "metadata": {},
          "execution_count": 35
        }
      ]
    },
    {
      "cell_type": "code",
      "execution_count": null,
      "metadata": {
        "colab": {
          "base_uri": "https://localhost:8080/",
          "height": 127
        },
        "id": "QnVMsnKSy9yv",
        "outputId": "2f9e2a97-180b-40b9-f76f-1ecf22ed0402"
      },
      "outputs": [
        {
          "output_type": "execute_result",
          "data": {
            "text/plain": [
              "'one review mention watch 1 oz episod youll hook right exactli happen meth first thing struck oz brutal unflinch scene violenc set right word go trust show faint heart timid show pull punch regard drug sex violenc hardcor classic use wordit call oz nicknam given oswald maximum secur state penitentari focus mainli emerald citi experiment section prison cell glass front face inward privaci high agenda em citi home manyaryan muslim gangsta latino christian italian irish moreso scuffl death stare dodgi deal shadi agreement never far awayi would say main appeal show due fact goe show wouldnt dare forget pretti pictur paint mainstream audienc forget charm forget romanceoz doesnt mess around first episod ever saw struck nasti surreal couldnt say readi watch develop tast oz got accustom high level graphic violenc violenc injustic crook guard wholl sold nickel inmat wholl kill order get away well manner middl class inmat turn prison bitch due lack street skill prison experi watch oz may becom comfort uncomfort viewingthat get touch darker side'"
            ],
            "application/vnd.google.colaboratory.intrinsic+json": {
              "type": "string"
            }
          },
          "metadata": {},
          "execution_count": 36
        }
      ],
      "source": [
        "reviews[0]"
      ]
    },
    {
      "cell_type": "markdown",
      "source": [
        "**FEATURE ENGINEERING/ Text Representation STEP**"
      ],
      "metadata": {
        "id": "baiqJQXi2Mqz"
      }
    },
    {
      "cell_type": "markdown",
      "source": [
        "Text representation:\n",
        "\n",
        "C = corpus (total words in data)\n",
        "V= vocabulary (unique words in corpus)\n",
        "D= document (unique sentance)\n",
        "W = word (each single word)\n",
        "\n",
        "\n",
        "1- 1Hot Encoding:\n",
        "\t- each word will be converted to vector of size equal to vocab value.\n",
        "\t- one sentance will be represented by array of rows(rows equal to unique words in sentance/document)\n",
        "\n",
        "\tpros:\n",
        "\t- intuitive\n",
        "\t- easy implementation\n",
        "\n",
        "\tcons:\n",
        "\t- spare vectors (useless and large no of 0's -- only 1 one in each vector for each word)\n",
        "\t- no fixed size (if documents size is'nt same vectors dimentions will also not be -- but machine learning models require input of same dimentions)\n",
        "\t- OOV (ot of vocabulary) if test input contain new word then model will'nt able to recognize.\n",
        "\t- no capturing of symantic meaning (distence btw words)\n",
        "Not used now aday in any model.\n",
        "\n",
        "\n",
        "\n",
        "2-Bag of words / Bag of unigram(1,1):\n",
        "\t- make vector of vocabolary and then check each doc/sentance ,count no of time each word come and fill value against it in vector\n",
        "\t- good for text classification tasks .\n",
        " \t- order of words doesn't matters\n",
        "\n",
        " \tpros:\n",
        " \t- intuitive and simple\n",
        " \t- handle variable size input no need to add new dimention for new input , because it just count freq of word and put it in\n",
        " \t- handle OOV prob bcz it just don't take them into account only care about words in vocab\n",
        " \t- not capturing best symmetic info but better than 1HE technique\n",
        "\n",
        "\n",
        "\n",
        " \tcons:\n",
        " \t- sparcity same as 1HE cz overfitting\n",
        " \t- as ignoring OOV words comming in input ,not taking that info in account\n",
        " \t- not focusing on sequence or order of words\n",
        " \t- cosine simmilarity btw vectors may mislead model in some cases .\n",
        "\n",
        "\n",
        " \te.g:\n",
        " \t\td1 : this is a very good cofee.\n",
        " \t\td2 : this is not a very good cofee.\n",
        " \t\there acc to BOW tech these two vec are close to each other becasue of max num of same words.\n",
        "\n",
        "\n",
        "2.1- Bag of bi-gram(2,2):\n",
        "\t- just the way vocabory build is diff in bi-gram take continously 2 words together in vocab and thenc ount no of time each word come and fill value against it in vector\n",
        "\n",
        "\tpros:\n",
        "\t- this will increase the cosine diff btw different sentances like dicussed above/ able to capture symmentic meaning.\n",
        "\t- intuitive and simple\n",
        "\n",
        "\tcons:\n",
        "\t- vocab dimentionality will increase as n goes above make model slow\n",
        "\t- OOV still there\n",
        "\n",
        "\n",
        "2.2- BAG OF N-GRAMS(N,N):\n",
        "\tif (1,2): it mean vocab contain both uni-grams pair and bi-grams... and soo on\n",
        "\n",
        "\n",
        "3- TFIDF:\n",
        "\t- find tf and idf ans multiply\n",
        "\t- tf(t,d) = # of occur of t in d / total # of t  in d\n",
        "\t- idf(t) = log(total # of docs(d) in corpus / # of d  with term (t)in them) + 1\n",
        "\n",
        "\tpros:\n",
        "\t- informative retrival sys me use hota(sub branch of  nlp)\n",
        "\n",
        "\n",
        "\tcons:\n",
        "\t- sparce\n",
        "\t- OOV\n",
        "\t- large dimentionality\n",
        "\t- symmentic meaning still not capturing in all of these tech\n",
        "\n",
        "4- Custom features\t: One with domain knowledge define own features."
      ],
      "metadata": {
        "id": "ZEz2w_-wn6mS"
      }
    },
    {
      "cell_type": "code",
      "source": [
        "#applying One Hot Incoding\n",
        "# Problem 3\n",
        "\n",
        "# Apply One Hot Encoding\n",
        "from sklearn.feature_extraction.text import CountVectorizer\n",
        "\n",
        "# Initialize CountVectorizer\n",
        "vectorizer = CountVectorizer()\n",
        "\n",
        "k = ['This is the first sentence',\n",
        "     'This is the second sentence!',\n",
        "     'And this is the third sentence?',\n",
        "     'This is the fourth sentence']\n",
        "\n",
        "# Fit and transform the documents\n",
        "one_hot_encoded = vectorizer.fit_transform(k)\n",
        "\n",
        "# Convert the one-hot encoded matrix to a list of lists\n",
        "one_hot_encoded_list = one_hot_encoded.toarray().tolist()\n",
        "\n",
        "print(\"One-Hot Encoded Matrix:\")\n",
        "for document, vector in zip(k, one_hot_encoded_list):\n",
        "    print(document)\n",
        "    print(vector)\n",
        "    print(\"-\" * 30)\n",
        "\n"
      ],
      "metadata": {
        "id": "GfsMXIWeqsEv",
        "colab": {
          "base_uri": "https://localhost:8080/"
        },
        "outputId": "6142060c-d486-49f8-8a7e-ed279db90a76"
      },
      "execution_count": null,
      "outputs": [
        {
          "output_type": "stream",
          "name": "stdout",
          "text": [
            "One-Hot Encoded Matrix:\n",
            "This is the first sentence\n",
            "[0, 1, 0, 1, 0, 1, 1, 0, 1]\n",
            "------------------------------\n",
            "This is the second sentence!\n",
            "[0, 0, 0, 1, 1, 1, 1, 0, 1]\n",
            "------------------------------\n",
            "And this is the third sentence?\n",
            "[1, 0, 0, 1, 0, 1, 1, 1, 1]\n",
            "------------------------------\n",
            "This is the fourth sentence\n",
            "[0, 0, 1, 1, 0, 1, 1, 0, 1]\n",
            "------------------------------\n"
          ]
        }
      ]
    },
    {
      "cell_type": "code",
      "source": [
        "len(reviews)"
      ],
      "metadata": {
        "colab": {
          "base_uri": "https://localhost:8080/"
        },
        "id": "fbZXf6GltAK3",
        "outputId": "57480104-5128-421e-e1ec-96a7e1d0123b"
      },
      "execution_count": null,
      "outputs": [
        {
          "output_type": "execute_result",
          "data": {
            "text/plain": [
              "50000"
            ]
          },
          "metadata": {},
          "execution_count": 38
        }
      ]
    },
    {
      "cell_type": "code",
      "source": [
        "#applying bag of n-gram words on our dataset\n",
        "\n",
        "vectorizer = CountVectorizer(ngram_range=(1, 3))\n",
        "\n",
        "# Fit and transform the documents\n",
        "bag_of_words = vectorizer.fit_transform(reviews)\n",
        "\n",
        "\n",
        "# Convert the bag-of-words encoded matrix to a list of lists\n",
        "bag_of_words_list = bag_of_words.toarray().tolist()\n"
      ],
      "metadata": {
        "id": "vUk_yXO4oxnr"
      },
      "execution_count": null,
      "outputs": []
    },
    {
      "cell_type": "code",
      "source": [
        "# Print the  bag-of-words encoded matrix\n",
        "print(\"Bag-of-N-gram Encoded Matrix:\")\n",
        "for document, vector in zip(reviews, bag_of_words_list):\n",
        "    print(document)\n",
        "    print(vector)\n",
        "    print(\"-\" * 30)"
      ],
      "metadata": {
        "id": "HPcDeI7Ks56z"
      },
      "execution_count": null,
      "outputs": []
    },
    {
      "cell_type": "markdown",
      "source": [
        "**MODELLING STEP**"
      ],
      "metadata": {
        "id": "TU9daOQu2W8r"
      }
    },
    {
      "cell_type": "markdown",
      "source": [
        "**EVALuaTION AND DEPLOYEMNT STEP**"
      ],
      "metadata": {
        "id": "bBWuaN8I2a-F"
      }
    }
  ],
  "metadata": {
    "accelerator": "GPU",
    "colab": {
      "provenance": [],
      "gpuType": "T4"
    },
    "kernelspec": {
      "display_name": "Python 3",
      "name": "python3"
    },
    "language_info": {
      "name": "python"
    }
  },
  "nbformat": 4,
  "nbformat_minor": 0
}