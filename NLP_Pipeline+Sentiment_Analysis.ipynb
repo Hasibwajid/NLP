{
  "cells": [
    {
      "cell_type": "markdown",
      "source": [
        "**DATA ACQUISITION STEP**"
      ],
      "metadata": {
        "id": "BaiUBW0u3baR"
      }
    },
    {
      "cell_type": "code",
      "execution_count": 299,
      "metadata": {
        "colab": {
          "base_uri": "https://localhost:8080/"
        },
        "id": "T8JljEhX3ETQ",
        "outputId": "472bbc27-5e64-470f-c37a-5712dff2c730"
      },
      "outputs": [
        {
          "output_type": "stream",
          "name": "stdout",
          "text": [
            "Drive already mounted at /content/drive; to attempt to forcibly remount, call drive.mount(\"/content/drive\", force_remount=True).\n"
          ]
        }
      ],
      "source": [
        "#mounting drive\n",
        "from google.colab import drive\n",
        "drive.mount('/content/drive')"
      ]
    },
    {
      "cell_type": "code",
      "execution_count": 300,
      "metadata": {
        "id": "MqM5MpPX1sXn"
      },
      "outputs": [],
      "source": [
        "#connect to kaggle for dataset downlord\n",
        "!mkdir -p ~/.kaggle\n",
        "!cp /content/drive/MyDrive/NLP/kaggle.json ~/.kaggle/"
      ]
    },
    {
      "cell_type": "code",
      "execution_count": 301,
      "metadata": {
        "colab": {
          "base_uri": "https://localhost:8080/"
        },
        "id": "g0DOiWBG2REo",
        "outputId": "54e36b90-f8a1-4a3e-b0d4-0320a24d98bf"
      },
      "outputs": [
        {
          "output_type": "stream",
          "name": "stdout",
          "text": [
            "imdb-dataset-of-50k-movie-reviews.zip: Skipping, found more recently modified local copy (use --force to force download)\n"
          ]
        }
      ],
      "source": [
        "#downlord dataset\n",
        "!kaggle datasets download -d lakshmi25npathi/imdb-dataset-of-50k-movie-reviews\n"
      ]
    },
    {
      "cell_type": "code",
      "execution_count": 302,
      "metadata": {
        "colab": {
          "base_uri": "https://localhost:8080/"
        },
        "id": "LFQc2GLk3u4w",
        "outputId": "d354d8f4-016b-4381-8641-922ea461737d"
      },
      "outputs": [
        {
          "output_type": "stream",
          "name": "stdout",
          "text": [
            "Archive:  imdb-dataset-of-50k-movie-reviews.zip\n",
            "replace IMDB Dataset.csv? [y]es, [n]o, [A]ll, [N]one, [r]ename: y\n",
            "  inflating: IMDB Dataset.csv        \n"
          ]
        }
      ],
      "source": [
        "#unzip dataset\n",
        "!unzip imdb-dataset-of-50k-movie-reviews.zip\n"
      ]
    },
    {
      "cell_type": "code",
      "execution_count": 303,
      "metadata": {
        "id": "zBu9G2Jj8clu"
      },
      "outputs": [],
      "source": [
        "#taking sample of top just 1000 rows\n",
        "import pandas as pd\n",
        "df = pd.read_csv('IMDB Dataset.csv').head(1000)"
      ]
    },
    {
      "cell_type": "code",
      "execution_count": 304,
      "metadata": {
        "id": "Bg9KpiHoyiSw",
        "colab": {
          "base_uri": "https://localhost:8080/",
          "height": 206
        },
        "outputId": "f42e93cc-f725-4c6d-b280-ebfc70fe93fd"
      },
      "outputs": [
        {
          "output_type": "execute_result",
          "data": {
            "text/plain": [
              "                                              review sentiment\n",
              "0  One of the other reviewers has mentioned that ...  positive\n",
              "1  A wonderful little production. <br /><br />The...  positive\n",
              "2  I thought this was a wonderful way to spend ti...  positive\n",
              "3  Basically there's a family where a little boy ...  negative\n",
              "4  Petter Mattei's \"Love in the Time of Money\" is...  positive"
            ],
            "text/html": [
              "\n",
              "  <div id=\"df-708be3e1-ce54-42f3-a4e1-6613bf2c0cad\">\n",
              "    <div class=\"colab-df-container\">\n",
              "      <div>\n",
              "<style scoped>\n",
              "    .dataframe tbody tr th:only-of-type {\n",
              "        vertical-align: middle;\n",
              "    }\n",
              "\n",
              "    .dataframe tbody tr th {\n",
              "        vertical-align: top;\n",
              "    }\n",
              "\n",
              "    .dataframe thead th {\n",
              "        text-align: right;\n",
              "    }\n",
              "</style>\n",
              "<table border=\"1\" class=\"dataframe\">\n",
              "  <thead>\n",
              "    <tr style=\"text-align: right;\">\n",
              "      <th></th>\n",
              "      <th>review</th>\n",
              "      <th>sentiment</th>\n",
              "    </tr>\n",
              "  </thead>\n",
              "  <tbody>\n",
              "    <tr>\n",
              "      <th>0</th>\n",
              "      <td>One of the other reviewers has mentioned that ...</td>\n",
              "      <td>positive</td>\n",
              "    </tr>\n",
              "    <tr>\n",
              "      <th>1</th>\n",
              "      <td>A wonderful little production. &lt;br /&gt;&lt;br /&gt;The...</td>\n",
              "      <td>positive</td>\n",
              "    </tr>\n",
              "    <tr>\n",
              "      <th>2</th>\n",
              "      <td>I thought this was a wonderful way to spend ti...</td>\n",
              "      <td>positive</td>\n",
              "    </tr>\n",
              "    <tr>\n",
              "      <th>3</th>\n",
              "      <td>Basically there's a family where a little boy ...</td>\n",
              "      <td>negative</td>\n",
              "    </tr>\n",
              "    <tr>\n",
              "      <th>4</th>\n",
              "      <td>Petter Mattei's \"Love in the Time of Money\" is...</td>\n",
              "      <td>positive</td>\n",
              "    </tr>\n",
              "  </tbody>\n",
              "</table>\n",
              "</div>\n",
              "      <button class=\"colab-df-convert\" onclick=\"convertToInteractive('df-708be3e1-ce54-42f3-a4e1-6613bf2c0cad')\"\n",
              "              title=\"Convert this dataframe to an interactive table.\"\n",
              "              style=\"display:none;\">\n",
              "        \n",
              "  <svg xmlns=\"http://www.w3.org/2000/svg\" height=\"24px\"viewBox=\"0 0 24 24\"\n",
              "       width=\"24px\">\n",
              "    <path d=\"M0 0h24v24H0V0z\" fill=\"none\"/>\n",
              "    <path d=\"M18.56 5.44l.94 2.06.94-2.06 2.06-.94-2.06-.94-.94-2.06-.94 2.06-2.06.94zm-11 1L8.5 8.5l.94-2.06 2.06-.94-2.06-.94L8.5 2.5l-.94 2.06-2.06.94zm10 10l.94 2.06.94-2.06 2.06-.94-2.06-.94-.94-2.06-.94 2.06-2.06.94z\"/><path d=\"M17.41 7.96l-1.37-1.37c-.4-.4-.92-.59-1.43-.59-.52 0-1.04.2-1.43.59L10.3 9.45l-7.72 7.72c-.78.78-.78 2.05 0 2.83L4 21.41c.39.39.9.59 1.41.59.51 0 1.02-.2 1.41-.59l7.78-7.78 2.81-2.81c.8-.78.8-2.07 0-2.86zM5.41 20L4 18.59l7.72-7.72 1.47 1.35L5.41 20z\"/>\n",
              "  </svg>\n",
              "      </button>\n",
              "      \n",
              "  <style>\n",
              "    .colab-df-container {\n",
              "      display:flex;\n",
              "      flex-wrap:wrap;\n",
              "      gap: 12px;\n",
              "    }\n",
              "\n",
              "    .colab-df-convert {\n",
              "      background-color: #E8F0FE;\n",
              "      border: none;\n",
              "      border-radius: 50%;\n",
              "      cursor: pointer;\n",
              "      display: none;\n",
              "      fill: #1967D2;\n",
              "      height: 32px;\n",
              "      padding: 0 0 0 0;\n",
              "      width: 32px;\n",
              "    }\n",
              "\n",
              "    .colab-df-convert:hover {\n",
              "      background-color: #E2EBFA;\n",
              "      box-shadow: 0px 1px 2px rgba(60, 64, 67, 0.3), 0px 1px 3px 1px rgba(60, 64, 67, 0.15);\n",
              "      fill: #174EA6;\n",
              "    }\n",
              "\n",
              "    [theme=dark] .colab-df-convert {\n",
              "      background-color: #3B4455;\n",
              "      fill: #D2E3FC;\n",
              "    }\n",
              "\n",
              "    [theme=dark] .colab-df-convert:hover {\n",
              "      background-color: #434B5C;\n",
              "      box-shadow: 0px 1px 3px 1px rgba(0, 0, 0, 0.15);\n",
              "      filter: drop-shadow(0px 1px 2px rgba(0, 0, 0, 0.3));\n",
              "      fill: #FFFFFF;\n",
              "    }\n",
              "  </style>\n",
              "\n",
              "      <script>\n",
              "        const buttonEl =\n",
              "          document.querySelector('#df-708be3e1-ce54-42f3-a4e1-6613bf2c0cad button.colab-df-convert');\n",
              "        buttonEl.style.display =\n",
              "          google.colab.kernel.accessAllowed ? 'block' : 'none';\n",
              "\n",
              "        async function convertToInteractive(key) {\n",
              "          const element = document.querySelector('#df-708be3e1-ce54-42f3-a4e1-6613bf2c0cad');\n",
              "          const dataTable =\n",
              "            await google.colab.kernel.invokeFunction('convertToInteractive',\n",
              "                                                     [key], {});\n",
              "          if (!dataTable) return;\n",
              "\n",
              "          const docLinkHtml = 'Like what you see? Visit the ' +\n",
              "            '<a target=\"_blank\" href=https://colab.research.google.com/notebooks/data_table.ipynb>data table notebook</a>'\n",
              "            + ' to learn more about interactive tables.';\n",
              "          element.innerHTML = '';\n",
              "          dataTable['output_type'] = 'display_data';\n",
              "          await google.colab.output.renderOutput(dataTable, element);\n",
              "          const docLink = document.createElement('div');\n",
              "          docLink.innerHTML = docLinkHtml;\n",
              "          element.appendChild(docLink);\n",
              "        }\n",
              "      </script>\n",
              "    </div>\n",
              "  </div>\n",
              "  "
            ]
          },
          "metadata": {},
          "execution_count": 304
        }
      ],
      "source": [
        "df.head()"
      ]
    },
    {
      "cell_type": "code",
      "source": [
        "#assign Variables to reviews and labels\n",
        "reviews = df['review']\n",
        "sentiments = df['sentiment']\n",
        "reviews"
      ],
      "metadata": {
        "colab": {
          "base_uri": "https://localhost:8080/"
        },
        "id": "Ftba58gzEfoA",
        "outputId": "baa85756-4fb6-4eac-f43b-88035939aa4e"
      },
      "execution_count": 305,
      "outputs": [
        {
          "output_type": "execute_result",
          "data": {
            "text/plain": [
              "0      One of the other reviewers has mentioned that ...\n",
              "1      A wonderful little production. <br /><br />The...\n",
              "2      I thought this was a wonderful way to spend ti...\n",
              "3      Basically there's a family where a little boy ...\n",
              "4      Petter Mattei's \"Love in the Time of Money\" is...\n",
              "                             ...                        \n",
              "995    Nothing is sacred. Just ask Ernie Fosselius. T...\n",
              "996    I hated it. I hate self-aware pretentious inan...\n",
              "997    I usually try to be professional and construct...\n",
              "998    If you like me is going to see this in a film ...\n",
              "999    This is like a zoology textbook, given that it...\n",
              "Name: review, Length: 1000, dtype: object"
            ]
          },
          "metadata": {},
          "execution_count": 305
        }
      ]
    },
    {
      "cell_type": "code",
      "execution_count": 306,
      "metadata": {
        "id": "fpVNl5HO9bDy",
        "colab": {
          "base_uri": "https://localhost:8080/"
        },
        "outputId": "e5789d57-b582-4c38-98a5-05bb55c14b5b"
      },
      "outputs": [
        {
          "output_type": "execute_result",
          "data": {
            "text/plain": [
              "(1000, 2)"
            ]
          },
          "metadata": {},
          "execution_count": 306
        }
      ],
      "source": [
        "df.shape"
      ]
    },
    {
      "cell_type": "code",
      "execution_count": 307,
      "metadata": {
        "colab": {
          "base_uri": "https://localhost:8080/"
        },
        "id": "Z6_UlCDT9fe6",
        "outputId": "97dd4d06-b718-4774-b290-8cc03f755127"
      },
      "outputs": [
        {
          "output_type": "execute_result",
          "data": {
            "text/plain": [
              "False"
            ]
          },
          "metadata": {},
          "execution_count": 307
        }
      ],
      "source": [
        "#chk missing values\n",
        "df.isnull().values.any()"
      ]
    },
    {
      "cell_type": "code",
      "execution_count": 308,
      "metadata": {
        "colab": {
          "base_uri": "https://localhost:8080/",
          "height": 467
        },
        "id": "8E52yuy69jJd",
        "outputId": "42d20c05-184b-4a80-a13d-475f64f6dc25"
      },
      "outputs": [
        {
          "output_type": "execute_result",
          "data": {
            "text/plain": [
              "<Axes: xlabel='sentiment', ylabel='count'>"
            ]
          },
          "metadata": {},
          "execution_count": 308
        },
        {
          "output_type": "display_data",
          "data": {
            "text/plain": [
              "<Figure size 640x480 with 1 Axes>"
            ],
            "image/png": "[encoded data removed]"
          },
          "metadata": {}
        }
      ],
      "source": [
        "#check if data is balanced?\n",
        "import seaborn as sn\n",
        "sn.countplot(x = 'sentiment',data= df)"
      ]
    },
    {
      "cell_type": "markdown",
      "metadata": {
        "id": "hFbvxRID-dyi"
      },
      "source": [
        "**DATA PREPROCESSING STEP**"
      ]
    },
    {
      "cell_type": "markdown",
      "source": [
        "**CONVERT ALL TEXT INTO LOWERCASE**"
      ],
      "metadata": {
        "id": "v-t44wolQ0qL"
      }
    },
    {
      "cell_type": "code",
      "source": [
        "reviews = [each.lower() for each in reviews]\n",
        "reviews[0]"
      ],
      "metadata": {
        "colab": {
          "base_uri": "https://localhost:8080/",
          "height": 144
        },
        "id": "PuMry1lBQzFn",
        "outputId": "a7d9fb7d-ec8f-4717-c238-30fbff65d531"
      },
      "execution_count": 309,
      "outputs": [
        {
          "output_type": "execute_result",
          "data": {
            "text/plain": [
              "\"one of the other reviewers has mentioned that after watching just 1 oz episode you'll be hooked. they are right, as this is exactly what happened with me.<br /><br />the first thing that struck me about oz was its brutality and unflinching scenes of violence, which set in right from the word go. trust me, this is not a show for the faint hearted or timid. this show pulls no punches with regards to drugs, sex or violence. its is hardcore, in the classic use of the word.<br /><br />it is called oz as that is the nickname given to the oswald maximum security state penitentary. it focuses mainly on emerald city, an experimental section of the prison where all the cells have glass fronts and face inwards, so privacy is not high on the agenda. em city is home to many..aryans, muslims, gangstas, latinos, christians, italians, irish and more....so scuffles, death stares, dodgy dealings and shady agreements are never far away.<br /><br />i would say the main appeal of the show is due to the fact that it goes where other shows wouldn't dare. forget pretty pictures painted for mainstream audiences, forget charm, forget romance...oz doesn't mess around. the first episode i ever saw struck me as so nasty it was surreal, i couldn't say i was ready for it, but as i watched more, i developed a taste for oz, and got accustomed to the high levels of graphic violence. not just violence, but injustice (crooked guards who'll be sold out for a nickel, inmates who'll kill on order and get away with it, well mannered, middle class inmates being turned into prison bitches due to their lack of street skills or prison experience) watching oz, you may become comfortable with what is uncomfortable viewing....thats if you can get in touch with your darker side.\""
            ],
            "application/vnd.google.colaboratory.intrinsic+json": {
              "type": "string"
            }
          },
          "metadata": {},
          "execution_count": 309
        }
      ]
    },
    {
      "cell_type": "markdown",
      "source": [
        "**Remove HTML TAGS**"
      ],
      "metadata": {
        "id": "GMs4FarISQRq"
      }
    },
    {
      "cell_type": "code",
      "source": [
        "import re\n",
        "\n",
        "def removeHtmlTags(text):\n",
        "  pattern = re.compile('<.*?>')\n",
        "  return pattern.sub(r'',text)"
      ],
      "metadata": {
        "id": "b24-ZHUnSOLD"
      },
      "execution_count": 310,
      "outputs": []
    },
    {
      "cell_type": "code",
      "source": [
        "#removing tags from all review in reviews by calling removeHtmlTags() for each review\n",
        "reviews = [removeHtmlTags(review) for review in reviews]\n",
        "reviews[0]"
      ],
      "metadata": {
        "colab": {
          "base_uri": "https://localhost:8080/",
          "height": 144
        },
        "id": "FEatx4CLTA8-",
        "outputId": "da84964e-6cc6-4d76-c6bd-278cdc8a25de"
      },
      "execution_count": 311,
      "outputs": [
        {
          "output_type": "execute_result",
          "data": {
            "text/plain": [
              "\"one of the other reviewers has mentioned that after watching just 1 oz episode you'll be hooked. they are right, as this is exactly what happened with me.the first thing that struck me about oz was its brutality and unflinching scenes of violence, which set in right from the word go. trust me, this is not a show for the faint hearted or timid. this show pulls no punches with regards to drugs, sex or violence. its is hardcore, in the classic use of the word.it is called oz as that is the nickname given to the oswald maximum security state penitentary. it focuses mainly on emerald city, an experimental section of the prison where all the cells have glass fronts and face inwards, so privacy is not high on the agenda. em city is home to many..aryans, muslims, gangstas, latinos, christians, italians, irish and more....so scuffles, death stares, dodgy dealings and shady agreements are never far away.i would say the main appeal of the show is due to the fact that it goes where other shows wouldn't dare. forget pretty pictures painted for mainstream audiences, forget charm, forget romance...oz doesn't mess around. the first episode i ever saw struck me as so nasty it was surreal, i couldn't say i was ready for it, but as i watched more, i developed a taste for oz, and got accustomed to the high levels of graphic violence. not just violence, but injustice (crooked guards who'll be sold out for a nickel, inmates who'll kill on order and get away with it, well mannered, middle class inmates being turned into prison bitches due to their lack of street skills or prison experience) watching oz, you may become comfortable with what is uncomfortable viewing....thats if you can get in touch with your darker side.\""
            ],
            "application/vnd.google.colaboratory.intrinsic+json": {
              "type": "string"
            }
          },
          "metadata": {},
          "execution_count": 311
        }
      ]
    },
    {
      "cell_type": "markdown",
      "source": [
        "**URL REMOVALS (if present)**"
      ],
      "metadata": {
        "id": "Fv6YG_SVT3V2"
      }
    },
    {
      "cell_type": "code",
      "source": [
        "def removeUrls(text):\n",
        "  pattern = re.compile(r'http\\S+|www\\S+')\n",
        "  return pattern.sub(r'',text)\n",
        "\n",
        "url1 = \"https://www.example.com\"\n",
        "url2 = \"http://example.com\"\n",
        "url3 = \"www.example.com\"\n",
        "text = f\"This is a sample text with embedded URLs: {url1}, {url2}, {url3}. Please visit the websites.\"\n",
        "\n",
        "print(text)\n",
        "\n",
        "removeUrls(text)"
      ],
      "metadata": {
        "colab": {
          "base_uri": "https://localhost:8080/",
          "height": 55
        },
        "id": "Gh2QbW0PVde-",
        "outputId": "ed9778fe-1204-4f1e-fd4e-115a6ccdc2c5"
      },
      "execution_count": 312,
      "outputs": [
        {
          "output_type": "stream",
          "name": "stdout",
          "text": [
            "This is a sample text with embedded URLs: https://www.example.com, http://example.com, www.example.com. Please visit the websites.\n"
          ]
        },
        {
          "output_type": "execute_result",
          "data": {
            "text/plain": [
              "'This is a sample text with embedded URLs:    Please visit the websites.'"
            ],
            "application/vnd.google.colaboratory.intrinsic+json": {
              "type": "string"
            }
          },
          "metadata": {},
          "execution_count": 312
        }
      ]
    },
    {
      "cell_type": "markdown",
      "source": [
        "**REMOVE PUNCTUATIONS**"
      ],
      "metadata": {
        "id": "Dl0tbkZIYo6s"
      }
    },
    {
      "cell_type": "code",
      "source": [
        "import string\n",
        "\n",
        "#SLOW\n",
        "def removePunc(text):\n",
        "  text = ''.join ([ch for ch in text if ch not in string.punctuation])\n",
        "  return text\n",
        "\n",
        "#FAST\n",
        "def removePuncFast(text):\n",
        "  text = text.translate(str.maketrans('','',string.punctuation))\n",
        "  return text\n",
        "\n",
        "text = \"This is a sample string containing punctuation marks: !@#$%^&*()_+{}[];':,.<>?/\"\n",
        "print(removePuncFast(text))\n",
        "removePunc(text)"
      ],
      "metadata": {
        "colab": {
          "base_uri": "https://localhost:8080/",
          "height": 55
        },
        "id": "FTasMwR-YsZm",
        "outputId": "5a282b00-b188-459e-b3b9-d9d13c079a5e"
      },
      "execution_count": 313,
      "outputs": [
        {
          "output_type": "stream",
          "name": "stdout",
          "text": [
            "This is a sample string containing punctuation marks \n"
          ]
        },
        {
          "output_type": "execute_result",
          "data": {
            "text/plain": [
              "'This is a sample string containing punctuation marks '"
            ],
            "application/vnd.google.colaboratory.intrinsic+json": {
              "type": "string"
            }
          },
          "metadata": {},
          "execution_count": 313
        }
      ]
    },
    {
      "cell_type": "code",
      "source": [
        "#apply on our dataset\n",
        "reviews = [removePunc(review) for review in reviews]\n",
        "reviews[4]\n",
        "\n",
        "#one issue figured, is matti's became mattis with this"
      ],
      "metadata": {
        "colab": {
          "base_uri": "https://localhost:8080/",
          "height": 144
        },
        "id": "0ujxjHL9bpSF",
        "outputId": "742895af-e391-4842-f9d2-97f673e6cf0f"
      },
      "execution_count": 314,
      "outputs": [
        {
          "output_type": "execute_result",
          "data": {
            "text/plain": [
              "'petter matteis love in the time of money is a visually stunning film to watch mr mattei offers us a vivid portrait about human relations this is a movie that seems to be telling us what money power and success do to people in the different situations we encounter this being a variation on the arthur schnitzlers play about the same theme the director transfers the action to the present time new york where all these different characters meet and connect each one is connected in one way or another to the next person but no one seems to know the previous point of contact stylishly the film has a sophisticated luxurious look we are taken to see how these people live and the world they live in their own habitatthe only thing one gets out of all these souls in the picture is the different stages of loneliness each one inhabits a big city is not exactly the best place in which human relations find sincere fulfillment as one discerns is the case with most of the people we encounterthe acting is good under mr matteis direction steve buscemi rosario dawson carol kane michael imperioli adrian grenier and the rest of the talented cast make these characters come alivewe wish mr mattei good luck and await anxiously for his next work'"
            ],
            "application/vnd.google.colaboratory.intrinsic+json": {
              "type": "string"
            }
          },
          "metadata": {},
          "execution_count": 314
        }
      ]
    },
    {
      "cell_type": "markdown",
      "source": [
        "**Short Form Work Treatment**"
      ],
      "metadata": {
        "id": "s9xxIzE-jl_Q"
      }
    },
    {
      "cell_type": "code",
      "source": [
        "acronyms = {\n",
        "    \"AFAIK\": \"As Far As I Know\",\n",
        "    \"AFK\": \"Away From Keyboard\",\n",
        "    \"ASAP\": \"As Soon As Possible\",\n",
        "    \"ATK\": \"At The Keyboard\",\n",
        "    \"ATM\": \"At The Moment\",\n",
        "    \"A3\": \"Anytime, Anywhere, Anyplace\",\n",
        "    \"BAK\": \"Back At Keyboard\",\n",
        "    \"BBL\": \"Be Back Later\",\n",
        "    \"BBS\": \"Be Back Soon\",\n",
        "    \"BFN\": \"Bye For Now\",\n",
        "    \"B4N\": \"Bye For Now\",\n",
        "    \"BRB\": \"Be Right Back\",\n",
        "    \"BRT\": \"Be Right There\",\n",
        "    \"BTW\": \"By The Way\",\n",
        "    \"B4\": \"Before\",\n",
        "    \"B4N\": \"Bye For Now\",\n",
        "    \"CU\": \"See You\",\n",
        "    \"CUL8R\": \"See You Later\",\n",
        "    \"CYA\": \"See You\",\n",
        "    \"FAQ\": \"Frequently Asked Questions\",\n",
        "    \"FC\": \"Fingers Crossed\",\n",
        "    \"FWIW\": \"For What It's Worth\",\n",
        "    \"FYI\": \"For Your Information\",\n",
        "    \"GAL\": \"Get A Life\",\n",
        "    \"GG\": \"Good Game\",\n",
        "    \"GN\": \"Good Night\",\n",
        "    \"GMTA\": \"Great Minds Think Alike\",\n",
        "    \"GR8\": \"Great!\",\n",
        "    \"G9\": \"Genius\",\n",
        "    \"IC\": \"I See\",\n",
        "    \"ICQ\": \"I Seek you (also a chat program)\",\n",
        "    \"ILU\": \"ILU: I Love You\",\n",
        "    \"IMHO\": \"In My Honest/Humble Opinion\",\n",
        "    \"IMO\": \"In My Opinion\",\n",
        "    \"IOW\": \"In Other Words\",\n",
        "    \"IRL\": \"In Real Life\",\n",
        "    \"KISS\": \"Keep It Simple, Stupid\",\n",
        "    \"LDR\": \"Long Distance Relationship\",\n",
        "    \"LMAO\": \"Laugh My A.. Off\",\n",
        "    \"LOL\": \"Laughing Out Loud\",\n",
        "    \"LTNS\": \"Long Time No See\",\n",
        "    \"L8R\": \"Later\",\n",
        "    \"MTE\": \"My Thoughts Exactly\",\n",
        "    \"M8\": \"Mate\",\n",
        "    \"NRN\": \"No Reply Necessary\",\n",
        "    \"OIC\": \"Oh I See\",\n",
        "    \"PITA\": \"Pain In The A..\",\n",
        "    \"PRT\": \"Party\",\n",
        "    \"PRW\": \"Parents Are Watching\",\n",
        "    \"QPSA?\": \"Que Pasa?\",\n",
        "    \"ROFL\": \"Rolling On The Floor Laughing\",\n",
        "    \"ROFLOL\": \"Rolling On The Floor Laughing Out Loud\",\n",
        "    \"ROTFLMAO\": \"Rolling On The Floor Laughing My A.. Off\",\n",
        "    \"SK8\": \"Skate\",\n",
        "    \"STATS\": \"Your sex and age\",\n",
        "    \"ASL\": \"Age, Sex, Location\",\n",
        "    \"THX\": \"Thank You\",\n",
        "    \"TTFN\": \"Ta-Ta For Now!\",\n",
        "    \"TTYL\": \"Talk To You Later\",\n",
        "    \"U\": \"You\",\n",
        "    \"U2\": \"You Too\",\n",
        "    \"U4E\": \"Yours For Ever\",\n",
        "    \"WB\": \"Welcome Back\",\n",
        "    \"WTF\": \"What The F...\",\n",
        "    \"WTG\": \"Way To Go!\",\n",
        "    \"WUF\": \"Where Are You From?\",\n",
        "    \"W8\": \"Wait...\",\n",
        "    \"7K\": \"Sick:-D Laughter\"\n",
        "}\n",
        "\n",
        "def slangTranslate(text):\n",
        "  newText = []\n",
        "  newText = [acronyms[w.upper()] if w.upper() in acronyms else w for w in text.split()]\n",
        "  return ' '.join(newText)\n",
        "\n",
        "slangTranslate('Hellow TTFN kesy ho TTYL')"
      ],
      "metadata": {
        "colab": {
          "base_uri": "https://localhost:8080/",
          "height": 36
        },
        "id": "-vvMnUiNju--",
        "outputId": "9e5cd730-a368-4908-b9ce-44de4c487cb2"
      },
      "execution_count": 315,
      "outputs": [
        {
          "output_type": "execute_result",
          "data": {
            "text/plain": [
              "'Hellow Ta-Ta For Now! kesy ho Talk To You Later'"
            ],
            "application/vnd.google.colaboratory.intrinsic+json": {
              "type": "string"
            }
          },
          "metadata": {},
          "execution_count": 315
        }
      ]
    },
    {
      "cell_type": "code",
      "source": [
        "reviews = [slangTranslate(review) for review in reviews ]\n",
        "reviews[:4]"
      ],
      "metadata": {
        "colab": {
          "base_uri": "https://localhost:8080/"
        },
        "id": "4m5-vPnvnYIE",
        "outputId": "0cd423dc-44ae-43b4-8235-9d8440819716"
      },
      "execution_count": 316,
      "outputs": [
        {
          "output_type": "execute_result",
          "data": {
            "text/plain": [
              "['one of the other reviewers has mentioned that after watching just 1 oz episode youll be hooked they are right as this is exactly what happened with methe first thing that struck me about oz was its brutality and unflinching scenes of violence which set in right from the word go trust me this is not a show for the faint hearted or timid this show pulls no punches with regards to drugs sex or violence its is hardcore in the classic use of the wordit is called oz as that is the nickname given to the oswald maximum security state penitentary it focuses mainly on emerald city an experimental section of the prison where all the cells have glass fronts and face inwards so privacy is not high on the agenda em city is home to manyaryans muslims gangstas latinos christians italians irish and moreso scuffles death stares dodgy dealings and shady agreements are never far awayi would say the main appeal of the show is due to the fact that it goes where other shows wouldnt dare forget pretty pictures painted for mainstream audiences forget charm forget romanceoz doesnt mess around the first episode i ever saw struck me as so nasty it was surreal i couldnt say i was ready for it but as i watched more i developed a taste for oz and got accustomed to the high levels of graphic violence not just violence but injustice crooked guards wholl be sold out for a nickel inmates wholl kill on order and get away with it well mannered middle class inmates being turned into prison bitches due to their lack of street skills or prison experience watching oz you may become comfortable with what is uncomfortable viewingthats if you can get in touch with your darker side',\n",
              " 'a wonderful little production the filming technique is very unassuming very oldtimebbc fashion and gives a comforting and sometimes discomforting sense of realism to the entire piece the actors are extremely well chosen michael sheen not only has got all the polari but he has all the voices down pat too you can truly see the seamless editing guided by the references to williams diary entries not only is it well worth the watching but it is a terrificly written and performed piece a masterful production about one of the great masters of comedy and his life the realism really comes home with the little things the fantasy of the guard which rather than use the traditional dream techniques remains solid then disappears it plays on our knowledge and our senses particularly with the scenes concerning orton and halliwell and the sets particularly of their flat with halliwells murals decorating every surface are terribly well done',\n",
              " 'i thought this was a wonderful way to spend time on a too hot summer weekend sitting in the air conditioned theater and watching a lighthearted comedy the plot is simplistic but the dialogue is witty and the characters are likable even the well bread suspected serial killer while some may be disappointed when they realize this is not match point 2 risk addiction i thought it was proof that woody allen is still fully in control of the style many of us have grown to lovethis was the most id laughed at one of woodys comedies in years dare i say a decade while ive never been impressed with scarlet johanson in this she managed to tone down her sexy image and jumped right into a average but spirited young womanthis may not be the crown jewel of his career but it was wittier than devil wears prada and more interesting than superman a great comedy to go see with friends',\n",
              " 'basically theres a family where a little boy jake thinks theres a zombie in his closet his parents are fighting all the timethis movie is slower than a soap opera and suddenly jake decides to become rambo and kill the zombieok first of all when youre going to make a film you must decide if its a thriller or a drama as a drama the movie is watchable parents are divorcing arguing like in real life and then we have jake with his closet which totally ruins all the film i expected to see a boogeyman similar movie and instead i watched a drama with some meaningless thriller spots3 out of 10 just for the well playing parents descent dialogs as for the shots with jake just ignore them']"
            ]
          },
          "metadata": {},
          "execution_count": 316
        }
      ]
    },
    {
      "cell_type": "markdown",
      "source": [
        "**SPELLING CORRECTIONS**"
      ],
      "metadata": {
        "id": "CfRQzmUloRhx"
      }
    },
    {
      "cell_type": "code",
      "source": [
        "#TextBlob is good for just correcting simple spellings\n",
        "import textblob\n",
        "from textblob import TextBlob\n",
        "\n",
        "def correctSpellings(text):\n",
        "  return TextBlob(text).correct().string\n",
        "\n",
        "\n",
        "correctSpellings('i eam finne brother whate abuot yuo')\n",
        "# reviews = [correctSpellings(r) for r in reviews]"
      ],
      "metadata": {
        "colab": {
          "base_uri": "https://localhost:8080/",
          "height": 36
        },
        "id": "sj1JaYSOoYAI",
        "outputId": "cda30719-8f89-4f1f-8b9b-3c9a4ed5cf55"
      },
      "execution_count": 317,
      "outputs": [
        {
          "output_type": "execute_result",
          "data": {
            "text/plain": [
              "'i am fine brother what about you'"
            ],
            "application/vnd.google.colaboratory.intrinsic+json": {
              "type": "string"
            }
          },
          "metadata": {},
          "execution_count": 317
        }
      ]
    },
    {
      "cell_type": "markdown",
      "source": [
        "**STOPWORD REMOVAL**"
      ],
      "metadata": {
        "id": "MqIh1IoUsuR_"
      }
    },
    {
      "cell_type": "code",
      "source": [
        "import nltk\n",
        "nltk.download('stopwords')\n",
        "from nltk.corpus import stopwords"
      ],
      "metadata": {
        "colab": {
          "base_uri": "https://localhost:8080/"
        },
        "id": "8WaTKl5bvrxF",
        "outputId": "59d71620-79f2-4134-fb44-8ef1913208bd"
      },
      "execution_count": 318,
      "outputs": [
        {
          "output_type": "stream",
          "name": "stderr",
          "text": [
            "[nltk_data] Downloading package stopwords to /root/nltk_data...\n",
            "[nltk_data]   Package stopwords is already up-to-date!\n"
          ]
        }
      ]
    },
    {
      "cell_type": "code",
      "source": [
        "def removestopwords(text):\n",
        "  toRemove = set(stopwords.words('english'))\n",
        "  filtered = [w if w not in toRemove else '' for w in text.split() ]\n",
        "  return ' '.join(filtered)\n",
        "\n",
        "removestopwords('i am a professional deep learning and machine learning engineers .')"
      ],
      "metadata": {
        "colab": {
          "base_uri": "https://localhost:8080/",
          "height": 36
        },
        "id": "I-XpvTvMszNb",
        "outputId": "60905895-6010-4867-855b-1ba74487e972"
      },
      "execution_count": 319,
      "outputs": [
        {
          "output_type": "execute_result",
          "data": {
            "text/plain": [
              "'   professional deep learning  machine learning engineers .'"
            ],
            "application/vnd.google.colaboratory.intrinsic+json": {
              "type": "string"
            }
          },
          "metadata": {},
          "execution_count": 319
        }
      ]
    },
    {
      "cell_type": "code",
      "source": [
        "reviews = [removestopwords(review) for review in reviews]\n",
        "reviews[:2]"
      ],
      "metadata": {
        "colab": {
          "base_uri": "https://localhost:8080/"
        },
        "id": "npnF7l4Pvy-W",
        "outputId": "94e53ea0-8179-4852-d404-c805e85a804c"
      },
      "execution_count": 320,
      "outputs": [
        {
          "output_type": "execute_result",
          "data": {
            "text/plain": [
              "['one    reviewers  mentioned   watching  1 oz episode youll  hooked   right    exactly  happened  methe first thing  struck   oz   brutality  unflinching scenes  violence  set  right   word go trust      show   faint hearted  timid  show pulls  punches  regards  drugs sex  violence   hardcore   classic use   wordit  called oz     nickname given   oswald maximum security state penitentary  focuses mainly  emerald city  experimental section   prison    cells  glass fronts  face inwards  privacy   high   agenda em city  home  manyaryans muslims gangstas latinos christians italians irish  moreso scuffles death stares dodgy dealings  shady agreements  never far awayi would say  main appeal   show  due   fact   goes   shows wouldnt dare forget pretty pictures painted  mainstream audiences forget charm forget romanceoz doesnt mess around  first episode  ever saw struck    nasty   surreal  couldnt say   ready      watched   developed  taste  oz  got accustomed   high levels  graphic violence   violence  injustice crooked guards wholl  sold    nickel inmates wholl kill  order  get away   well mannered middle class inmates  turned  prison bitches due   lack  street skills  prison experience watching oz  may become comfortable    uncomfortable viewingthats    get  touch   darker side',\n",
              " ' wonderful little production  filming technique   unassuming  oldtimebbc fashion  gives  comforting  sometimes discomforting sense  realism   entire piece  actors  extremely well chosen michael sheen    got   polari      voices  pat    truly see  seamless editing guided   references  williams diary entries     well worth  watching     terrificly written  performed piece  masterful production  one   great masters  comedy   life  realism really comes home   little things  fantasy   guard  rather  use  traditional dream techniques remains solid  disappears  plays   knowledge   senses particularly   scenes concerning orton  halliwell   sets particularly   flat  halliwells murals decorating every surface  terribly well done']"
            ]
          },
          "metadata": {},
          "execution_count": 320
        }
      ]
    },
    {
      "cell_type": "markdown",
      "source": [
        "**REMOVE EMOJI**"
      ],
      "metadata": {
        "id": "PWes2w0Wadjm"
      }
    },
    {
      "cell_type": "code",
      "execution_count": 321,
      "metadata": {
        "id": "X2MNg4Jb_D4m",
        "colab": {
          "base_uri": "https://localhost:8080/"
        },
        "outputId": "a012dd75-218e-40a5-8e5a-312cb4b5333e"
      },
      "outputs": [
        {
          "output_type": "stream",
          "name": "stdout",
          "text": [
            "Hello!  How are you? \n"
          ]
        }
      ],
      "source": [
        "import re\n",
        "def remove_emojis(text):\n",
        "    emoji_pattern = re.compile(\"[\"\n",
        "                               u\"\\U0001F600-\\U0001F64F\"  # emoticons\n",
        "                               u\"\\U0001F300-\\U0001F5FF\"  # symbols & pictographs\n",
        "                               u\"\\U0001F680-\\U0001F6FF\"  # transport & map symbols\n",
        "                               u\"\\U0001F1E0-\\U0001F1FF\"  # flags (iOS)\n",
        "                               u\"\\U00002500-\\U00002BEF\"  # chinese char\n",
        "                               u\"\\U00002702-\\U000027B0\"\n",
        "                               u\"\\U00002702-\\U000027B0\"\n",
        "                               u\"\\U000024C2-\\U0001F251\"\n",
        "                               u\"\\U0001f926-\\U0001f937\"\n",
        "                               u\"\\U00010000-\\U0010ffff\"\n",
        "                               u\"\\u2640-\\u2642\"\n",
        "                               u\"\\u2600-\\u2B55\"\n",
        "                               u\"\\u200d\"\n",
        "                               u\"\\u23cf\"\n",
        "                               u\"\\u23e9\"\n",
        "                               u\"\\u231a\"\n",
        "                               u\"\\ufe0f\"  # dingbats\n",
        "                               u\"\\u3030\"\n",
        "                               \"]+\", flags=re.UNICODE)\n",
        "    cleaned = emoji_pattern.sub(r'',text)\n",
        "    return cleaned\n",
        "\n",
        "# Example usage\n",
        "text = \"Hello! 😃 How are you? 🌞\"\n",
        "cleaned_text = remove_emojis(text)\n",
        "print(cleaned_text)"
      ]
    },
    {
      "cell_type": "markdown",
      "source": [
        "**REPLACE EMOJI**"
      ],
      "metadata": {
        "id": "jRtCRnGqbVDz"
      }
    },
    {
      "cell_type": "code",
      "source": [
        "!pip install emoji\n",
        "import emoji\n",
        "def replaceEmoji (text):\n",
        "  return emoji.demojize(text)\n",
        "replaceEmoji('Hello! 😃 How are you? 🌞')"
      ],
      "metadata": {
        "colab": {
          "base_uri": "https://localhost:8080/",
          "height": 55
        },
        "id": "K2-PWvExbYmc",
        "outputId": "ea9e2592-faa2-4417-930b-30d9e7fca323"
      },
      "execution_count": 322,
      "outputs": [
        {
          "output_type": "stream",
          "name": "stdout",
          "text": [
            "Requirement already satisfied: emoji in /usr/local/lib/python3.10/dist-packages (2.6.0)\n"
          ]
        },
        {
          "output_type": "execute_result",
          "data": {
            "text/plain": [
              "'Hello! :grinning_face_with_big_eyes: How are you? :sun_with_face:'"
            ],
            "application/vnd.google.colaboratory.intrinsic+json": {
              "type": "string"
            }
          },
          "metadata": {},
          "execution_count": 322
        }
      ]
    },
    {
      "cell_type": "markdown",
      "source": [
        "**TOKENIZATION**"
      ],
      "metadata": {
        "id": "pmQB2U1-v5LE"
      }
    },
    {
      "cell_type": "markdown",
      "source": [
        "**WORD TOKENIZATION**"
      ],
      "metadata": {
        "id": "8l4d6GOkcIVP"
      }
    },
    {
      "cell_type": "code",
      "source": [
        "from nltk.tokenize import word_tokenize\n",
        "import nltk\n",
        "nltk.download('punkt')\n"
      ],
      "metadata": {
        "colab": {
          "base_uri": "https://localhost:8080/"
        },
        "id": "hU64idG_cM13",
        "outputId": "a362de09-a9bb-43a5-e431-a4cb54a5ccdf"
      },
      "execution_count": 323,
      "outputs": [
        {
          "output_type": "stream",
          "name": "stderr",
          "text": [
            "[nltk_data] Downloading package punkt to /root/nltk_data...\n",
            "[nltk_data]   Package punkt is already up-to-date!\n"
          ]
        },
        {
          "output_type": "execute_result",
          "data": {
            "text/plain": [
              "True"
            ]
          },
          "metadata": {},
          "execution_count": 323
        }
      ]
    },
    {
      "cell_type": "code",
      "source": [
        "def word_tokenization(text):\n",
        "  return word_tokenize(text)\n",
        "\n",
        "word_tokenization('hello i am going to australia!')"
      ],
      "metadata": {
        "colab": {
          "base_uri": "https://localhost:8080/"
        },
        "id": "emerMysNdzVH",
        "outputId": "b2d9f66d-cdf6-44e1-eedc-45d5ec8e6ea2"
      },
      "execution_count": 324,
      "outputs": [
        {
          "output_type": "execute_result",
          "data": {
            "text/plain": [
              "['hello', 'i', 'am', 'going', 'to', 'australia', '!']"
            ]
          },
          "metadata": {},
          "execution_count": 324
        }
      ]
    },
    {
      "cell_type": "code",
      "source": [
        "#apply to DS\n",
        "reviews = [word_tokenization(review) for review in reviews ]\n",
        "reviews[:2]"
      ],
      "metadata": {
        "colab": {
          "base_uri": "https://localhost:8080/"
        },
        "id": "T3kRPSg6ovod",
        "outputId": "23b88819-0d71-401c-a9c5-d1566f69c3a2"
      },
      "execution_count": 325,
      "outputs": [
        {
          "output_type": "execute_result",
          "data": {
            "text/plain": [
              "[['one',\n",
              "  'reviewers',\n",
              "  'mentioned',\n",
              "  'watching',\n",
              "  '1',\n",
              "  'oz',\n",
              "  'episode',\n",
              "  'youll',\n",
              "  'hooked',\n",
              "  'right',\n",
              "  'exactly',\n",
              "  'happened',\n",
              "  'methe',\n",
              "  'first',\n",
              "  'thing',\n",
              "  'struck',\n",
              "  'oz',\n",
              "  'brutality',\n",
              "  'unflinching',\n",
              "  'scenes',\n",
              "  'violence',\n",
              "  'set',\n",
              "  'right',\n",
              "  'word',\n",
              "  'go',\n",
              "  'trust',\n",
              "  'show',\n",
              "  'faint',\n",
              "  'hearted',\n",
              "  'timid',\n",
              "  'show',\n",
              "  'pulls',\n",
              "  'punches',\n",
              "  'regards',\n",
              "  'drugs',\n",
              "  'sex',\n",
              "  'violence',\n",
              "  'hardcore',\n",
              "  'classic',\n",
              "  'use',\n",
              "  'wordit',\n",
              "  'called',\n",
              "  'oz',\n",
              "  'nickname',\n",
              "  'given',\n",
              "  'oswald',\n",
              "  'maximum',\n",
              "  'security',\n",
              "  'state',\n",
              "  'penitentary',\n",
              "  'focuses',\n",
              "  'mainly',\n",
              "  'emerald',\n",
              "  'city',\n",
              "  'experimental',\n",
              "  'section',\n",
              "  'prison',\n",
              "  'cells',\n",
              "  'glass',\n",
              "  'fronts',\n",
              "  'face',\n",
              "  'inwards',\n",
              "  'privacy',\n",
              "  'high',\n",
              "  'agenda',\n",
              "  'em',\n",
              "  'city',\n",
              "  'home',\n",
              "  'manyaryans',\n",
              "  'muslims',\n",
              "  'gangstas',\n",
              "  'latinos',\n",
              "  'christians',\n",
              "  'italians',\n",
              "  'irish',\n",
              "  'moreso',\n",
              "  'scuffles',\n",
              "  'death',\n",
              "  'stares',\n",
              "  'dodgy',\n",
              "  'dealings',\n",
              "  'shady',\n",
              "  'agreements',\n",
              "  'never',\n",
              "  'far',\n",
              "  'awayi',\n",
              "  'would',\n",
              "  'say',\n",
              "  'main',\n",
              "  'appeal',\n",
              "  'show',\n",
              "  'due',\n",
              "  'fact',\n",
              "  'goes',\n",
              "  'shows',\n",
              "  'wouldnt',\n",
              "  'dare',\n",
              "  'forget',\n",
              "  'pretty',\n",
              "  'pictures',\n",
              "  'painted',\n",
              "  'mainstream',\n",
              "  'audiences',\n",
              "  'forget',\n",
              "  'charm',\n",
              "  'forget',\n",
              "  'romanceoz',\n",
              "  'doesnt',\n",
              "  'mess',\n",
              "  'around',\n",
              "  'first',\n",
              "  'episode',\n",
              "  'ever',\n",
              "  'saw',\n",
              "  'struck',\n",
              "  'nasty',\n",
              "  'surreal',\n",
              "  'couldnt',\n",
              "  'say',\n",
              "  'ready',\n",
              "  'watched',\n",
              "  'developed',\n",
              "  'taste',\n",
              "  'oz',\n",
              "  'got',\n",
              "  'accustomed',\n",
              "  'high',\n",
              "  'levels',\n",
              "  'graphic',\n",
              "  'violence',\n",
              "  'violence',\n",
              "  'injustice',\n",
              "  'crooked',\n",
              "  'guards',\n",
              "  'wholl',\n",
              "  'sold',\n",
              "  'nickel',\n",
              "  'inmates',\n",
              "  'wholl',\n",
              "  'kill',\n",
              "  'order',\n",
              "  'get',\n",
              "  'away',\n",
              "  'well',\n",
              "  'mannered',\n",
              "  'middle',\n",
              "  'class',\n",
              "  'inmates',\n",
              "  'turned',\n",
              "  'prison',\n",
              "  'bitches',\n",
              "  'due',\n",
              "  'lack',\n",
              "  'street',\n",
              "  'skills',\n",
              "  'prison',\n",
              "  'experience',\n",
              "  'watching',\n",
              "  'oz',\n",
              "  'may',\n",
              "  'become',\n",
              "  'comfortable',\n",
              "  'uncomfortable',\n",
              "  'viewingthats',\n",
              "  'get',\n",
              "  'touch',\n",
              "  'darker',\n",
              "  'side'],\n",
              " ['wonderful',\n",
              "  'little',\n",
              "  'production',\n",
              "  'filming',\n",
              "  'technique',\n",
              "  'unassuming',\n",
              "  'oldtimebbc',\n",
              "  'fashion',\n",
              "  'gives',\n",
              "  'comforting',\n",
              "  'sometimes',\n",
              "  'discomforting',\n",
              "  'sense',\n",
              "  'realism',\n",
              "  'entire',\n",
              "  'piece',\n",
              "  'actors',\n",
              "  'extremely',\n",
              "  'well',\n",
              "  'chosen',\n",
              "  'michael',\n",
              "  'sheen',\n",
              "  'got',\n",
              "  'polari',\n",
              "  'voices',\n",
              "  'pat',\n",
              "  'truly',\n",
              "  'see',\n",
              "  'seamless',\n",
              "  'editing',\n",
              "  'guided',\n",
              "  'references',\n",
              "  'williams',\n",
              "  'diary',\n",
              "  'entries',\n",
              "  'well',\n",
              "  'worth',\n",
              "  'watching',\n",
              "  'terrificly',\n",
              "  'written',\n",
              "  'performed',\n",
              "  'piece',\n",
              "  'masterful',\n",
              "  'production',\n",
              "  'one',\n",
              "  'great',\n",
              "  'masters',\n",
              "  'comedy',\n",
              "  'life',\n",
              "  'realism',\n",
              "  'really',\n",
              "  'comes',\n",
              "  'home',\n",
              "  'little',\n",
              "  'things',\n",
              "  'fantasy',\n",
              "  'guard',\n",
              "  'rather',\n",
              "  'use',\n",
              "  'traditional',\n",
              "  'dream',\n",
              "  'techniques',\n",
              "  'remains',\n",
              "  'solid',\n",
              "  'disappears',\n",
              "  'plays',\n",
              "  'knowledge',\n",
              "  'senses',\n",
              "  'particularly',\n",
              "  'scenes',\n",
              "  'concerning',\n",
              "  'orton',\n",
              "  'halliwell',\n",
              "  'sets',\n",
              "  'particularly',\n",
              "  'flat',\n",
              "  'halliwells',\n",
              "  'murals',\n",
              "  'decorating',\n",
              "  'every',\n",
              "  'surface',\n",
              "  'terribly',\n",
              "  'well',\n",
              "  'done']]"
            ]
          },
          "metadata": {},
          "execution_count": 325
        }
      ]
    },
    {
      "cell_type": "markdown",
      "source": [
        "**SENTANCE TOKENIZE**"
      ],
      "metadata": {
        "id": "tEC7iyp5eV57"
      }
    },
    {
      "cell_type": "code",
      "source": [
        "from nltk.tokenize import sent_tokenize\n",
        "\n",
        "def sent_tokenization(text):\n",
        "  res= sent_tokenize(text)\n",
        "  return res\n",
        "\n",
        "sentences = [\n",
        "  \"The quick brown fox jumps over the lazy dog.\",\n",
        "  \"I am running in the park.\",\n",
        "  \"She has a collection of books on various topics.\",\n",
        "  \"They are playing football in the field.\",\n",
        "  \"The sun sets in the west.\"\n",
        "]\n",
        "[sent_tokenization(r) for r in sentences]"
      ],
      "metadata": {
        "colab": {
          "base_uri": "https://localhost:8080/"
        },
        "id": "d24XzJ54fAqL",
        "outputId": "e4d1f75d-ac40-492a-8cf7-42b7294d3bfa"
      },
      "execution_count": 326,
      "outputs": [
        {
          "output_type": "execute_result",
          "data": {
            "text/plain": [
              "[['The quick brown fox jumps over the lazy dog.'],\n",
              " ['I am running in the park.'],\n",
              " ['She has a collection of books on various topics.'],\n",
              " ['They are playing football in the field.'],\n",
              " ['The sun sets in the west.']]"
            ]
          },
          "metadata": {},
          "execution_count": 326
        }
      ]
    },
    {
      "cell_type": "markdown",
      "source": [
        "**TOKENIZATION WITH SPACY (BETTER IN SOME CASES)**"
      ],
      "metadata": {
        "id": "nwBFdP4Wgjdy"
      }
    },
    {
      "cell_type": "code",
      "source": [
        "import spacy\n",
        "\n",
        "nlp = spacy.load('en_core_web_sm')\n",
        "sentence1 = \"Hello, how are you?\"\n",
        "sentence2 = \"I love to code in Python.\"\n",
        "sentence3 = \"The quick brown fox jumps over the lazy dog.\"\n",
        "sentence4 = \"I enjoy reading books and listening to music.\"\n",
        "sentence5 = \"Can you please pass me the salt and pepper?\"\n",
        "\n",
        "\n",
        "doc1 = nlp(sentence1)\n",
        "doc2 = nlp(sentence2)\n",
        "doc3 = nlp(sentence3)\n",
        "\n",
        "for token in doc3:\n",
        "  print(token)"
      ],
      "metadata": {
        "colab": {
          "base_uri": "https://localhost:8080/"
        },
        "id": "p0Djq1jRgqqN",
        "outputId": "7e42238c-9465-4373-8840-fa5555ff7b51"
      },
      "execution_count": 327,
      "outputs": [
        {
          "output_type": "stream",
          "name": "stdout",
          "text": [
            "The\n",
            "quick\n",
            "brown\n",
            "fox\n",
            "jumps\n",
            "over\n",
            "the\n",
            "lazy\n",
            "dog\n",
            ".\n"
          ]
        }
      ]
    },
    {
      "cell_type": "markdown",
      "source": [
        "**STEMMING**"
      ],
      "metadata": {
        "id": "FiJDR7g_iSBx"
      }
    },
    {
      "cell_type": "markdown",
      "source": [
        "Stemming is the process of reducing a word to its stem that affixes to suffixes and prefixes or to the roots of words known as \"lemmas\"."
      ],
      "metadata": {
        "id": "Ga6DfuMTiXEG"
      }
    },
    {
      "cell_type": "markdown",
      "source": [
        "EXAMPLE:\n",
        "playing --> play\n",
        "played --> play\n",
        "plays --> play\n",
        "player --> player\n",
        "happiness --> happi\n",
        "happier --> happier\n",
        "happiest --> happiest\n",
        "\n",
        "\n",
        "**Stemming vs Lemmitization**\n",
        "\n",
        "\n",
        "**Stemming** is fast,sometimes generates words that maynot be part of language(SO use it when you are not showing output to user)\n",
        "\n",
        "\n",
        "**Lemmitization** is slower then stemming but accurate words generation."
      ],
      "metadata": {
        "id": "cVtFVWayi5ON"
      }
    },
    {
      "cell_type": "code",
      "source": [
        "from nltk.stem import PorterStemmer\n",
        "\n",
        "pStemmer = PorterStemmer()\n",
        "\n",
        "def stemming(text):\n",
        "  # words = text.split()\n",
        "  stemmed_words = [pStemmer.stem(word) for word in text]\n",
        "  return stemmed_words\n",
        "\n",
        "stemming(['walk', 'walking', 'walked'])"
      ],
      "metadata": {
        "colab": {
          "base_uri": "https://localhost:8080/"
        },
        "id": "kEaM5QQfiY1n",
        "outputId": "e86ef300-206f-4c5c-b74b-2645435f424c"
      },
      "execution_count": 328,
      "outputs": [
        {
          "output_type": "execute_result",
          "data": {
            "text/plain": [
              "['walk', 'walk', 'walk']"
            ]
          },
          "metadata": {},
          "execution_count": 328
        }
      ]
    },
    {
      "cell_type": "code",
      "source": [
        "#applying to reviews\n",
        "reviews = [stemming(review) for review in reviews]\n",
        "reviews\n",
        "reviews = [' '.join(review) for review in reviews]"
      ],
      "metadata": {
        "id": "_eJakAvEn7RT"
      },
      "execution_count": 329,
      "outputs": []
    },
    {
      "cell_type": "markdown",
      "source": [
        "**Lemminization**\n",
        "\n",
        "POS must be specifies when calling Lemmitizer.lemitize(text, pos ='v/n/a/o')"
      ],
      "metadata": {
        "id": "FibKBvr3p-aI"
      }
    },
    {
      "cell_type": "code",
      "source": [
        "\n",
        "import nltk\n",
        "from nltk.stem import WordNetLemmatizer\n",
        "\n",
        "nltk.download('wordnet')  # Download required resource for lemmatization\n"
      ],
      "metadata": {
        "id": "tySiGXKmi7Np",
        "colab": {
          "base_uri": "https://localhost:8080/"
        },
        "outputId": "c5a75a32-b274-456c-a960-80f555b6905d"
      },
      "execution_count": 330,
      "outputs": [
        {
          "output_type": "stream",
          "name": "stderr",
          "text": [
            "[nltk_data] Downloading package wordnet to /root/nltk_data...\n",
            "[nltk_data]   Package wordnet is already up-to-date!\n"
          ]
        },
        {
          "output_type": "execute_result",
          "data": {
            "text/plain": [
              "True"
            ]
          },
          "metadata": {},
          "execution_count": 330
        }
      ]
    },
    {
      "cell_type": "code",
      "source": [
        "#not applied to reviews\n",
        "lemi = WordNetLemmatizer()\n",
        "sentences  = [\n",
        "  \"The quick brown fox jumps over the lazy dog.\",\n",
        "  \"I am running in the park.\",\n",
        "  \"She has a collection of books on various topics.\",\n",
        "  \"They are playing football in the field.\",\n",
        "  \"The sun sets in the west.\"\n",
        "]\n",
        "\n",
        "\n",
        "def lemitization(text):\n",
        "  lemitized = [lemi.lemmatize(w,pos='v') for w in text]\n",
        "  return ' '.join(lemitized)\n",
        "sentences = [word_tokenization(s) for s in sentences]\n",
        "[lemitization(sentence) for sentence in sentences]"
      ],
      "metadata": {
        "id": "6HFQsHmu05iw",
        "colab": {
          "base_uri": "https://localhost:8080/"
        },
        "outputId": "407bf4e6-bf30-4944-9df9-d9390dc054b2"
      },
      "execution_count": 331,
      "outputs": [
        {
          "output_type": "execute_result",
          "data": {
            "text/plain": [
              "['The quick brown fox jump over the lazy dog .',\n",
              " 'I be run in the park .',\n",
              " 'She have a collection of book on various topics .',\n",
              " 'They be play football in the field .',\n",
              " 'The sun set in the west .']"
            ]
          },
          "metadata": {},
          "execution_count": 331
        }
      ]
    },
    {
      "cell_type": "code",
      "source": [
        "#not applied to reviews\n",
        "lemi = WordNetLemmatizer()\n",
        "sentences  = [\n",
        "  \"The quick brown fox jumps over the lazy dog.\",\n",
        "  \"I am running in the park.\",\n",
        "  \"She has a collection of books on various topics.\",\n",
        "  \"They are playing football in the field.\",\n",
        "  \"The sun sets in the west.\"\n",
        "]\n",
        "\n",
        "\n",
        "def lemitization(text):\n",
        "  lemitized = [lemi.lemmatize(w,pos='v') for w in text]\n",
        "  return ' '.join(lemitized)\n",
        "sentences = [word_tokenization(s) for s in sentences]\n",
        "[lemitization(sentence) for sentence in sentences]"
      ],
      "metadata": {
        "id": "3vt0pbZc04fn",
        "colab": {
          "base_uri": "https://localhost:8080/"
        },
        "outputId": "7618eb57-cc64-4c1f-933f-b81682164f98"
      },
      "execution_count": 332,
      "outputs": [
        {
          "output_type": "execute_result",
          "data": {
            "text/plain": [
              "['The quick brown fox jump over the lazy dog .',\n",
              " 'I be run in the park .',\n",
              " 'She have a collection of book on various topics .',\n",
              " 'They be play football in the field .',\n",
              " 'The sun set in the west .']"
            ]
          },
          "metadata": {},
          "execution_count": 332
        }
      ]
    },
    {
      "cell_type": "code",
      "execution_count": 333,
      "metadata": {
        "id": "QnVMsnKSy9yv",
        "colab": {
          "base_uri": "https://localhost:8080/"
        },
        "outputId": "18b77a41-5f7b-41f0-d80e-133fd5f2d5ba"
      },
      "outputs": [
        {
          "output_type": "execute_result",
          "data": {
            "text/plain": [
              "['one review mention watch 1 oz episod youll hook right exactli happen meth first thing struck oz brutal unflinch scene violenc set right word go trust show faint heart timid show pull punch regard drug sex violenc hardcor classic use wordit call oz nicknam given oswald maximum secur state penitentari focus mainli emerald citi experiment section prison cell glass front face inward privaci high agenda em citi home manyaryan muslim gangsta latino christian italian irish moreso scuffl death stare dodgi deal shadi agreement never far awayi would say main appeal show due fact goe show wouldnt dare forget pretti pictur paint mainstream audienc forget charm forget romanceoz doesnt mess around first episod ever saw struck nasti surreal couldnt say readi watch develop tast oz got accustom high level graphic violenc violenc injustic crook guard wholl sold nickel inmat wholl kill order get away well manner middl class inmat turn prison bitch due lack street skill prison experi watch oz may becom comfort uncomfort viewingthat get touch darker side',\n",
              " 'wonder littl product film techniqu unassum oldtimebbc fashion give comfort sometim discomfort sens realism entir piec actor extrem well chosen michael sheen got polari voic pat truli see seamless edit guid refer william diari entri well worth watch terrificli written perform piec master product one great master comedi life realism realli come home littl thing fantasi guard rather use tradit dream techniqu remain solid disappear play knowledg sens particularli scene concern orton halliwel set particularli flat halliwel mural decor everi surfac terribl well done']"
            ]
          },
          "metadata": {},
          "execution_count": 333
        }
      ],
      "source": [
        "reviews[:2]"
      ]
    },
    {
      "cell_type": "markdown",
      "source": [
        "**Train Test Split**"
      ],
      "metadata": {
        "id": "oCrUp0cCGBmw"
      }
    },
    {
      "cell_type": "code",
      "source": [
        "from sklearn.model_selection import train_test_split\n",
        "\n",
        "X_train,X_test,y_train,y_test = train_test_split(reviews,sentiments,test_size= 0.2,random_state = 42)\n",
        "len(y_train)\n",
        "len(X_train)\n"
      ],
      "metadata": {
        "colab": {
          "base_uri": "https://localhost:8080/"
        },
        "id": "en4FuX5JGFXn",
        "outputId": "725f1899-7eb9-43ae-a3a1-d7aec1c5c7f5"
      },
      "execution_count": 334,
      "outputs": [
        {
          "output_type": "execute_result",
          "data": {
            "text/plain": [
              "800"
            ]
          },
          "metadata": {},
          "execution_count": 334
        }
      ]
    },
    {
      "cell_type": "markdown",
      "source": [
        "**FEATURE ENGINEERING/ Text Representation STEP (OHE,BOW ,TFIDF)**"
      ],
      "metadata": {
        "id": "baiqJQXi2Mqz"
      }
    },
    {
      "cell_type": "markdown",
      "source": [
        "                                    **ONE HOT ENCODING WITH GUASSIAN NAIVE BAYES**"
      ],
      "metadata": {
        "id": "X1EIVTH7FSx6"
      }
    },
    {
      "cell_type": "code",
      "source": [
        "# Apply One Hot Encoding\n",
        "from sklearn.feature_extraction.text import CountVectorizer\n",
        "\n",
        "# Initialize CountVectorizer\n",
        "vectorizer_for_ohe = CountVectorizer()\n",
        "\n",
        "k = ['This is the first sentence',\n",
        "     'This is the second sentence!',\n",
        "     'And this is the third sentence?',\n",
        "     'This is the fourth sentence']\n",
        "\n",
        "# Fit and transform the documents\n",
        "train_one_hot_encoded = vectorizer_for_ohe.fit_transform(X_train).toarray()\n",
        "test_one_hot_encoded = vectorizer_for_ohe.transform(X_test).toarray()\n",
        "\n"
      ],
      "metadata": {
        "id": "GfsMXIWeqsEv"
      },
      "execution_count": 335,
      "outputs": []
    },
    {
      "cell_type": "code",
      "source": [
        "from sklearn.naive_bayes import GaussianNB\n",
        "\n",
        "gnb = GaussianNB()\n",
        "\n",
        "gnb.fit(train_one_hot_encoded,y_train)\n",
        "y_pred = gnb.predict(test_one_hot_encoded)\n",
        "from sklearn.metrics import accuracy_score\n",
        "accuracy = accuracy_score(y_test, y_pred)\n",
        "print(\"Accuracy:\", accuracy)\n"
      ],
      "metadata": {
        "colab": {
          "base_uri": "https://localhost:8080/"
        },
        "id": "MSKS9k7zYl51",
        "outputId": "4d9352a2-175f-4243-9416-c3d77dc4cc78"
      },
      "execution_count": 336,
      "outputs": [
        {
          "output_type": "stream",
          "name": "stdout",
          "text": [
            "Accuracy: 0.59\n"
          ]
        }
      ]
    },
    {
      "cell_type": "code",
      "source": [
        "def gnb_ohe_analysis():\n",
        "  i = input('Enter Your Review For prediction: ')\n",
        "  texts = [i]  # Wrap the input string in a list\n",
        "  num = vectorizer_for_ohe.transform(texts)\n",
        "  num = num.toarray()  # Convert sparse matrix to dense array\n",
        "  prediction_gnb = gnb.predict(num)\n",
        "  print('Review is:', prediction_gnb[0])\n",
        "\n",
        "gnb_ohe_analysis()"
      ],
      "metadata": {
        "colab": {
          "base_uri": "https://localhost:8080/"
        },
        "id": "_irIqjQrG4sA",
        "outputId": "138fac97-e749-411a-fc13-3e765ff70f95"
      },
      "execution_count": 337,
      "outputs": [
        {
          "output_type": "stream",
          "name": "stdout",
          "text": [
            "Enter Your Review For prediction: stunning movie , will watch again soon!\n",
            "Review is: negative\n"
          ]
        }
      ]
    },
    {
      "cell_type": "markdown",
      "source": [
        "                                            **TF-IDF WITH GUASSIAN NAIVE BAYES**"
      ],
      "metadata": {
        "id": "IK4pFKZhE8TW"
      }
    },
    {
      "cell_type": "code",
      "source": [
        "# Apply tf-idf and find out the idf scores of words, also find out the vocabulary.\n",
        "from sklearn.feature_extraction.text import TfidfVectorizer\n",
        "\n",
        "\n",
        "# Initialize TfidfVectorizer\n",
        "vectorizer_for_tfidf = TfidfVectorizer()\n",
        "\n",
        "# Fit and transform the documents\n",
        "train_tfidf_matrix = vectorizer_for_tfidf.fit_transform(X_train).toarray()\n",
        "test_tfidf_matrix = vectorizer_for_tfidf.transform(X_test).toarray()\n"
      ],
      "metadata": {
        "id": "vUk_yXO4oxnr"
      },
      "execution_count": 338,
      "outputs": []
    },
    {
      "cell_type": "code",
      "source": [
        "from sklearn.naive_bayes import GaussianNB\n",
        "\n",
        "gnb = GaussianNB()\n",
        "\n",
        "gnb.fit(train_tfidf_matrix,y_train)\n",
        "\n",
        "y_pred = gnb.predict(test_tfidf_matrix)\n",
        "from sklearn.metrics import accuracy_score\n",
        "accuracy = accuracy_score(y_test, y_pred)\n",
        "print(\"Accuracy:\", accuracy)"
      ],
      "metadata": {
        "colab": {
          "base_uri": "https://localhost:8080/"
        },
        "id": "nwpLMOJSGlqC",
        "outputId": "dcaa0437-1f83-418a-a678-7c865ed3415f"
      },
      "execution_count": 339,
      "outputs": [
        {
          "output_type": "stream",
          "name": "stdout",
          "text": [
            "Accuracy: 0.59\n"
          ]
        }
      ]
    },
    {
      "cell_type": "code",
      "source": [
        "def gnb_tfidf_analysis():\n",
        "  i = input('Enter Your Review For prediction: ')\n",
        "  texts = [i]  # Wrap the input string in a list\n",
        "  num = vectorizer_for_tfidf.transform(texts)\n",
        "  num = num.toarray()  # Convert sparse matrix to dense array\n",
        "  prediction_gnb = gnb.predict(num)\n",
        "  print('Review is:', prediction_gnb[0])\n",
        "\n",
        "gnb_tfidf_analysis()"
      ],
      "metadata": {
        "colab": {
          "base_uri": "https://localhost:8080/"
        },
        "id": "fsRkCWh3GTf7",
        "outputId": "19ac0e0b-0192-46d0-b9b2-b485a3ed85a7"
      },
      "execution_count": 340,
      "outputs": [
        {
          "output_type": "stream",
          "name": "stdout",
          "text": [
            "Enter Your Review For prediction: stunning movie , will watch again soon!\n",
            "Review is: negative\n"
          ]
        }
      ]
    },
    {
      "cell_type": "markdown",
      "source": [
        "**MODELLING STEP**"
      ],
      "metadata": {
        "id": "PqUR7ivR16KM"
      }
    },
    {
      "cell_type": "markdown",
      "source": [
        "                                            **BOW with GUASSIAN NAIVE BAYES**"
      ],
      "metadata": {
        "id": "nmLA9zg8FXXc"
      }
    },
    {
      "cell_type": "code",
      "source": [
        "#apply BOW(bag of word)\n",
        "from sklearn.feature_extraction.text import CountVectorizer\n",
        "\n",
        "\n",
        "cv_for_bow = CountVectorizer()\n",
        "train_bow = cv_for_bow.fit_transform(X_train).toarray()\n",
        "test_bow = cv_for_bow.transform(X_test).toarray()\n",
        "vocab_size = len(cv_for_bow.vocabulary_)  # Get the vocabulary size\n",
        "print('Vocab size : ',vocab_size)\n",
        "print('train shape: ',test_bow.shape)\n",
        "print('train shape: ',train_bow.shape)"
      ],
      "metadata": {
        "colab": {
          "base_uri": "https://localhost:8080/"
        },
        "id": "iv7Em1rXFauu",
        "outputId": "e4968789-e94a-4ea5-d037-ede315f13c08"
      },
      "execution_count": 341,
      "outputs": [
        {
          "output_type": "stream",
          "name": "stdout",
          "text": [
            "Vocab size :  13876\n",
            "train shape:  (200, 13876)\n",
            "train shape:  (800, 13876)\n"
          ]
        }
      ]
    },
    {
      "cell_type": "code",
      "source": [
        "from sklearn.naive_bayes import GaussianNB\n",
        "\n",
        "gnb = GaussianNB()\n",
        "\n",
        "gnb.fit(train_bow,y_train)\n",
        "\n",
        "y_pred = gnb.predict(test_bow)\n",
        "from sklearn.metrics import accuracy_score\n",
        "accuracy = accuracy_score(y_test, y_pred)\n",
        "print(\"Accuracy:\", accuracy)"
      ],
      "metadata": {
        "colab": {
          "base_uri": "https://localhost:8080/"
        },
        "id": "paW7QDX2MVR4",
        "outputId": "e3cf2c3e-145f-4e42-a6b3-91d22446b807"
      },
      "execution_count": 342,
      "outputs": [
        {
          "output_type": "stream",
          "name": "stdout",
          "text": [
            "Accuracy: 0.59\n"
          ]
        }
      ]
    },
    {
      "cell_type": "code",
      "source": [
        "def gnb_bow_analysis():\n",
        "  i = input('Enter Your Review For prediction: ')\n",
        "  texts = [i]  # Wrap the input string in a list\n",
        "  num = cv_for_bow.transform(texts)\n",
        "  num = num.toarray()  # Convert sparse matrix to dense array\n",
        "  prediction_gnb = gnb.predict(num)\n",
        "  print('Review is:', prediction_gnb[0])\n",
        "\n",
        "gnb_bow_analysis()"
      ],
      "metadata": {
        "colab": {
          "base_uri": "https://localhost:8080/"
        },
        "id": "_0VVI4gVFzVm",
        "outputId": "d5afd7ec-f475-427d-ad9e-1b1fc16f8457"
      },
      "execution_count": 343,
      "outputs": [
        {
          "output_type": "stream",
          "name": "stdout",
          "text": [
            "Enter Your Review For prediction: stunning movie , will watch again soon!\n",
            "Review is: negative\n"
          ]
        }
      ]
    },
    {
      "cell_type": "markdown",
      "source": [
        "**BOW with LOGISTIC REGRESSION**"
      ],
      "metadata": {
        "id": "enH8SHyyXp23"
      }
    },
    {
      "cell_type": "code",
      "source": [
        "from sklearn.model_selection import train_test_split\n",
        "from sklearn.linear_model import LogisticRegression\n",
        "\n",
        "\n",
        "# Initialize and train the logistic regression model\n",
        "lr_model = LogisticRegression()\n",
        "lr_model.fit(train_bow,y_train)\n",
        "y_pred = lr_model.predict(test_bow)\n",
        "from sklearn.metrics import accuracy_score\n",
        "accuracy = accuracy_score(y_test, y_pred)\n",
        "print(\"Accuracy:\", accuracy)\n",
        "\n"
      ],
      "metadata": {
        "id": "mOkAilKuxrbp",
        "colab": {
          "base_uri": "https://localhost:8080/"
        },
        "outputId": "d8fb9dbe-cf35-4772-ed68-a9373022e368"
      },
      "execution_count": 344,
      "outputs": [
        {
          "output_type": "stream",
          "name": "stdout",
          "text": [
            "Accuracy: 0.83\n"
          ]
        }
      ]
    },
    {
      "cell_type": "code",
      "source": [
        "def lr_bow_analysis():\n",
        "  i = input('Enter Your Review For prediction: ')\n",
        "  texts = [i]  # Wrap the input string in a list\n",
        "  num = cv_for_bow.transform(texts)\n",
        "  num = num.toarray()  # Convert sparse matrix to dense array\n",
        "  prediction_gnb = lr_model.predict(num)\n",
        "  print('Review is:', prediction_gnb[0])\n",
        "\n",
        "lr_bow_analysis()"
      ],
      "metadata": {
        "colab": {
          "base_uri": "https://localhost:8080/"
        },
        "id": "fWlPpH0EFUaO",
        "outputId": "b9626fb5-6b22-4e26-d63e-6ea75091c8fb"
      },
      "execution_count": 345,
      "outputs": [
        {
          "output_type": "stream",
          "name": "stdout",
          "text": [
            "Enter Your Review For prediction: stunning movie , will watch again soon!\n",
            "Review is: positive\n"
          ]
        }
      ]
    },
    {
      "cell_type": "markdown",
      "source": [
        "****BOW with RANDOMFOREST CLASSIFIER****"
      ],
      "metadata": {
        "id": "wbNhZ4ilZMA3"
      }
    },
    {
      "cell_type": "code",
      "source": [
        "from sklearn.ensemble import RandomForestClassifier\n",
        "rf_classifier = RandomForestClassifier()\n",
        "\n",
        "# Fit the classifier to the training data\n",
        "rf_classifier.fit(train_bow, y_train)\n",
        "\n",
        "# Make predictions on the test data\n",
        "y_pred = rf_classifier.predict(test_bow)\n",
        "\n",
        "# Calculate and print the accuracy score\n",
        "accuracy = accuracy_score(y_test, y_pred)\n",
        "print(\"Accuracy:\", accuracy)"
      ],
      "metadata": {
        "colab": {
          "base_uri": "https://localhost:8080/"
        },
        "id": "bWeZfizIY98F",
        "outputId": "911a1618-9fe8-421b-b189-07972794048b"
      },
      "execution_count": 346,
      "outputs": [
        {
          "output_type": "stream",
          "name": "stdout",
          "text": [
            "Accuracy: 0.81\n"
          ]
        }
      ]
    },
    {
      "cell_type": "code",
      "source": [
        "def rf_bow_analysis():\n",
        "  i = input('Enter Your Review For prediction: ')\n",
        "  texts = [i]  # Wrap the input string in a list\n",
        "  num = cv_for_bow.transform(texts)\n",
        "  num = num.toarray()  # Convert sparse matrix to dense array\n",
        "  prediction_gnb = rf_classifier.predict(num)\n",
        "  print('Review is:', prediction_gnb[0])\n",
        "\n",
        "rf_bow_analysis()"
      ],
      "metadata": {
        "colab": {
          "base_uri": "https://localhost:8080/"
        },
        "id": "l0ymsTNRy1BV",
        "outputId": "2ee53b33-5b69-4437-8ece-56d930726345"
      },
      "execution_count": 347,
      "outputs": [
        {
          "output_type": "stream",
          "name": "stdout",
          "text": [
            "Enter Your Review For prediction: stunning movie , will watch again soon!\n",
            "Review is: positive\n"
          ]
        }
      ]
    },
    {
      "cell_type": "markdown",
      "source": [
        "                                       **SELF TRAINED WORD2VEC MODEL**"
      ],
      "metadata": {
        "id": "HLwXeiHTk6wc"
      }
    },
    {
      "cell_type": "code",
      "source": [
        "import gensim\n",
        "import numpy as np\n",
        "import pandas as pd\n",
        "!ls"
      ],
      "metadata": {
        "colab": {
          "base_uri": "https://localhost:8080/"
        },
        "id": "YqQNJVvPlFUw",
        "outputId": "4ba0efad-6ef1-4755-b3ba-64f843d536f6"
      },
      "execution_count": 348,
      "outputs": [
        {
          "output_type": "stream",
          "name": "stdout",
          "text": [
            " drive\t\t     imdb-dataset-of-50k-movie-reviews.zip\n",
            "'IMDB Dataset.csv'   sample_data\n"
          ]
        }
      ]
    },
    {
      "cell_type": "code",
      "source": [
        "reviews_for_word2vec = [r.split() for r in reviews]\n",
        "reviews_for_word2vec [:3]"
      ],
      "metadata": {
        "colab": {
          "base_uri": "https://localhost:8080/"
        },
        "id": "pFGKoQDRhPnI",
        "outputId": "7ef9fc02-0ea0-4cb7-a95f-1b918ffdcca8"
      },
      "execution_count": 349,
      "outputs": [
        {
          "output_type": "execute_result",
          "data": {
            "text/plain": [
              "[['one',\n",
              "  'review',\n",
              "  'mention',\n",
              "  'watch',\n",
              "  '1',\n",
              "  'oz',\n",
              "  'episod',\n",
              "  'youll',\n",
              "  'hook',\n",
              "  'right',\n",
              "  'exactli',\n",
              "  'happen',\n",
              "  'meth',\n",
              "  'first',\n",
              "  'thing',\n",
              "  'struck',\n",
              "  'oz',\n",
              "  'brutal',\n",
              "  'unflinch',\n",
              "  'scene',\n",
              "  'violenc',\n",
              "  'set',\n",
              "  'right',\n",
              "  'word',\n",
              "  'go',\n",
              "  'trust',\n",
              "  'show',\n",
              "  'faint',\n",
              "  'heart',\n",
              "  'timid',\n",
              "  'show',\n",
              "  'pull',\n",
              "  'punch',\n",
              "  'regard',\n",
              "  'drug',\n",
              "  'sex',\n",
              "  'violenc',\n",
              "  'hardcor',\n",
              "  'classic',\n",
              "  'use',\n",
              "  'wordit',\n",
              "  'call',\n",
              "  'oz',\n",
              "  'nicknam',\n",
              "  'given',\n",
              "  'oswald',\n",
              "  'maximum',\n",
              "  'secur',\n",
              "  'state',\n",
              "  'penitentari',\n",
              "  'focus',\n",
              "  'mainli',\n",
              "  'emerald',\n",
              "  'citi',\n",
              "  'experiment',\n",
              "  'section',\n",
              "  'prison',\n",
              "  'cell',\n",
              "  'glass',\n",
              "  'front',\n",
              "  'face',\n",
              "  'inward',\n",
              "  'privaci',\n",
              "  'high',\n",
              "  'agenda',\n",
              "  'em',\n",
              "  'citi',\n",
              "  'home',\n",
              "  'manyaryan',\n",
              "  'muslim',\n",
              "  'gangsta',\n",
              "  'latino',\n",
              "  'christian',\n",
              "  'italian',\n",
              "  'irish',\n",
              "  'moreso',\n",
              "  'scuffl',\n",
              "  'death',\n",
              "  'stare',\n",
              "  'dodgi',\n",
              "  'deal',\n",
              "  'shadi',\n",
              "  'agreement',\n",
              "  'never',\n",
              "  'far',\n",
              "  'awayi',\n",
              "  'would',\n",
              "  'say',\n",
              "  'main',\n",
              "  'appeal',\n",
              "  'show',\n",
              "  'due',\n",
              "  'fact',\n",
              "  'goe',\n",
              "  'show',\n",
              "  'wouldnt',\n",
              "  'dare',\n",
              "  'forget',\n",
              "  'pretti',\n",
              "  'pictur',\n",
              "  'paint',\n",
              "  'mainstream',\n",
              "  'audienc',\n",
              "  'forget',\n",
              "  'charm',\n",
              "  'forget',\n",
              "  'romanceoz',\n",
              "  'doesnt',\n",
              "  'mess',\n",
              "  'around',\n",
              "  'first',\n",
              "  'episod',\n",
              "  'ever',\n",
              "  'saw',\n",
              "  'struck',\n",
              "  'nasti',\n",
              "  'surreal',\n",
              "  'couldnt',\n",
              "  'say',\n",
              "  'readi',\n",
              "  'watch',\n",
              "  'develop',\n",
              "  'tast',\n",
              "  'oz',\n",
              "  'got',\n",
              "  'accustom',\n",
              "  'high',\n",
              "  'level',\n",
              "  'graphic',\n",
              "  'violenc',\n",
              "  'violenc',\n",
              "  'injustic',\n",
              "  'crook',\n",
              "  'guard',\n",
              "  'wholl',\n",
              "  'sold',\n",
              "  'nickel',\n",
              "  'inmat',\n",
              "  'wholl',\n",
              "  'kill',\n",
              "  'order',\n",
              "  'get',\n",
              "  'away',\n",
              "  'well',\n",
              "  'manner',\n",
              "  'middl',\n",
              "  'class',\n",
              "  'inmat',\n",
              "  'turn',\n",
              "  'prison',\n",
              "  'bitch',\n",
              "  'due',\n",
              "  'lack',\n",
              "  'street',\n",
              "  'skill',\n",
              "  'prison',\n",
              "  'experi',\n",
              "  'watch',\n",
              "  'oz',\n",
              "  'may',\n",
              "  'becom',\n",
              "  'comfort',\n",
              "  'uncomfort',\n",
              "  'viewingthat',\n",
              "  'get',\n",
              "  'touch',\n",
              "  'darker',\n",
              "  'side'],\n",
              " ['wonder',\n",
              "  'littl',\n",
              "  'product',\n",
              "  'film',\n",
              "  'techniqu',\n",
              "  'unassum',\n",
              "  'oldtimebbc',\n",
              "  'fashion',\n",
              "  'give',\n",
              "  'comfort',\n",
              "  'sometim',\n",
              "  'discomfort',\n",
              "  'sens',\n",
              "  'realism',\n",
              "  'entir',\n",
              "  'piec',\n",
              "  'actor',\n",
              "  'extrem',\n",
              "  'well',\n",
              "  'chosen',\n",
              "  'michael',\n",
              "  'sheen',\n",
              "  'got',\n",
              "  'polari',\n",
              "  'voic',\n",
              "  'pat',\n",
              "  'truli',\n",
              "  'see',\n",
              "  'seamless',\n",
              "  'edit',\n",
              "  'guid',\n",
              "  'refer',\n",
              "  'william',\n",
              "  'diari',\n",
              "  'entri',\n",
              "  'well',\n",
              "  'worth',\n",
              "  'watch',\n",
              "  'terrificli',\n",
              "  'written',\n",
              "  'perform',\n",
              "  'piec',\n",
              "  'master',\n",
              "  'product',\n",
              "  'one',\n",
              "  'great',\n",
              "  'master',\n",
              "  'comedi',\n",
              "  'life',\n",
              "  'realism',\n",
              "  'realli',\n",
              "  'come',\n",
              "  'home',\n",
              "  'littl',\n",
              "  'thing',\n",
              "  'fantasi',\n",
              "  'guard',\n",
              "  'rather',\n",
              "  'use',\n",
              "  'tradit',\n",
              "  'dream',\n",
              "  'techniqu',\n",
              "  'remain',\n",
              "  'solid',\n",
              "  'disappear',\n",
              "  'play',\n",
              "  'knowledg',\n",
              "  'sens',\n",
              "  'particularli',\n",
              "  'scene',\n",
              "  'concern',\n",
              "  'orton',\n",
              "  'halliwel',\n",
              "  'set',\n",
              "  'particularli',\n",
              "  'flat',\n",
              "  'halliwel',\n",
              "  'mural',\n",
              "  'decor',\n",
              "  'everi',\n",
              "  'surfac',\n",
              "  'terribl',\n",
              "  'well',\n",
              "  'done'],\n",
              " ['thought',\n",
              "  'wonder',\n",
              "  'way',\n",
              "  'spend',\n",
              "  'time',\n",
              "  'hot',\n",
              "  'summer',\n",
              "  'weekend',\n",
              "  'sit',\n",
              "  'air',\n",
              "  'condit',\n",
              "  'theater',\n",
              "  'watch',\n",
              "  'lightheart',\n",
              "  'comedi',\n",
              "  'plot',\n",
              "  'simplist',\n",
              "  'dialogu',\n",
              "  'witti',\n",
              "  'charact',\n",
              "  'likabl',\n",
              "  'even',\n",
              "  'well',\n",
              "  'bread',\n",
              "  'suspect',\n",
              "  'serial',\n",
              "  'killer',\n",
              "  'may',\n",
              "  'disappoint',\n",
              "  'realiz',\n",
              "  'match',\n",
              "  'point',\n",
              "  '2',\n",
              "  'risk',\n",
              "  'addict',\n",
              "  'thought',\n",
              "  'proof',\n",
              "  'woodi',\n",
              "  'allen',\n",
              "  'still',\n",
              "  'fulli',\n",
              "  'control',\n",
              "  'style',\n",
              "  'mani',\n",
              "  'us',\n",
              "  'grown',\n",
              "  'lovethi',\n",
              "  'id',\n",
              "  'laugh',\n",
              "  'one',\n",
              "  'woodi',\n",
              "  'comedi',\n",
              "  'year',\n",
              "  'dare',\n",
              "  'say',\n",
              "  'decad',\n",
              "  'ive',\n",
              "  'never',\n",
              "  'impress',\n",
              "  'scarlet',\n",
              "  'johanson',\n",
              "  'manag',\n",
              "  'tone',\n",
              "  'sexi',\n",
              "  'imag',\n",
              "  'jump',\n",
              "  'right',\n",
              "  'averag',\n",
              "  'spirit',\n",
              "  'young',\n",
              "  'womanthi',\n",
              "  'may',\n",
              "  'crown',\n",
              "  'jewel',\n",
              "  'career',\n",
              "  'wittier',\n",
              "  'devil',\n",
              "  'wear',\n",
              "  'prada',\n",
              "  'interest',\n",
              "  'superman',\n",
              "  'great',\n",
              "  'comedi',\n",
              "  'go',\n",
              "  'see',\n",
              "  'friend']]"
            ]
          },
          "metadata": {},
          "execution_count": 349
        }
      ]
    },
    {
      "cell_type": "code",
      "source": [
        "model = gensim.models.Word2Vec(reviews_for_word2vec, vector_size=100, window=5, min_count=1)\n"
      ],
      "metadata": {
        "id": "ixVJyP6InMDY"
      },
      "execution_count": 350,
      "outputs": []
    },
    {
      "cell_type": "code",
      "source": [
        "model.build_vocab(reviews_for_word2vec)"
      ],
      "metadata": {
        "id": "57bN9Fy9nu61",
        "colab": {
          "base_uri": "https://localhost:8080/"
        },
        "outputId": "62420736-f218-499b-f2fc-ae1b3b57b83d"
      },
      "execution_count": 351,
      "outputs": [
        {
          "output_type": "stream",
          "name": "stderr",
          "text": [
            "WARNING:gensim.models.keyedvectors:sorting after vectors have been allocated is expensive & error-prone\n"
          ]
        }
      ]
    },
    {
      "cell_type": "code",
      "source": [
        "model.train(reviews_for_word2vec, total_examples = model.corpus_count, epochs= model.epochs)\n",
        "# model.save(\"/content/drive/MyDrive/NLP/word2vec_model.bin\")"
      ],
      "metadata": {
        "id": "7H-lLt3Jsdwa",
        "colab": {
          "base_uri": "https://localhost:8080/"
        },
        "outputId": "c8f3e5dc-caaa-4620-b092-ca6fb7132298"
      },
      "execution_count": 352,
      "outputs": [
        {
          "output_type": "stream",
          "name": "stderr",
          "text": [
            "WARNING:gensim.models.word2vec:Effective 'alpha' higher than previous training cycles\n"
          ]
        },
        {
          "output_type": "execute_result",
          "data": {
            "text/plain": [
              "(571457, 600915)"
            ]
          },
          "metadata": {},
          "execution_count": 352
        }
      ]
    },
    {
      "cell_type": "code",
      "source": [
        "model.wv.most_similar('best')"
      ],
      "metadata": {
        "colab": {
          "base_uri": "https://localhost:8080/"
        },
        "id": "hCVpHDv9s4Yy",
        "outputId": "a5fcdd7c-ed25-48da-ecd5-71379f66f9e3"
      },
      "execution_count": 353,
      "outputs": [
        {
          "output_type": "execute_result",
          "data": {
            "text/plain": [
              "[('truli', 0.999832272529602),\n",
              " ('experi', 0.9998305439949036),\n",
              " ('great', 0.9998133778572083),\n",
              " ('lot', 0.9998133778572083),\n",
              " ('favorit', 0.9998084902763367),\n",
              " ('film', 0.9998036623001099),\n",
              " ('wonder', 0.9998031854629517),\n",
              " ('manyaryan', 0.9998020529747009),\n",
              " ('tast', 0.9997975826263428),\n",
              " ('may', 0.9997966289520264)]"
            ]
          },
          "metadata": {},
          "execution_count": 353
        }
      ]
    },
    {
      "cell_type": "code",
      "source": [
        "model.wv.doesnt_match(['like', 'actor', 'director', 'action', 'amazing', 'loyal'])"
      ],
      "metadata": {
        "colab": {
          "base_uri": "https://localhost:8080/",
          "height": 55
        },
        "id": "2zlaLdnFtNPI",
        "outputId": "b61ba025-cfce-42dc-a90f-e1b688e13e3e"
      },
      "execution_count": 354,
      "outputs": [
        {
          "output_type": "stream",
          "name": "stderr",
          "text": [
            "WARNING:gensim.models.keyedvectors:vectors for words {'amazing'} are not present in the model, ignoring these words\n"
          ]
        },
        {
          "output_type": "execute_result",
          "data": {
            "text/plain": [
              "'loyal'"
            ],
            "application/vnd.google.colaboratory.intrinsic+json": {
              "type": "string"
            }
          },
          "metadata": {},
          "execution_count": 354
        }
      ]
    },
    {
      "cell_type": "code",
      "source": [
        "model.wv['like']"
      ],
      "metadata": {
        "colab": {
          "base_uri": "https://localhost:8080/"
        },
        "id": "tDQEVlcAuZq-",
        "outputId": "ef933ca9-cea6-4654-ea59-e8dff98a42b7"
      },
      "execution_count": 355,
      "outputs": [
        {
          "output_type": "execute_result",
          "data": {
            "text/plain": [
              "array([-5.00233948e-01,  9.36407626e-01,  4.06480521e-01,  3.30117196e-01,\n",
              "        2.56482027e-02, -1.48868513e+00,  2.95181930e-01,  2.15884280e+00,\n",
              "       -5.58831394e-01, -5.29595315e-01, -3.43218237e-01, -1.56632590e+00,\n",
              "       -2.01622143e-01,  3.19959491e-01,  6.92057237e-02, -8.92827630e-01,\n",
              "        2.78903812e-01, -1.13634288e+00,  1.01899832e-01, -1.61508131e+00,\n",
              "        5.66773951e-01,  4.94744956e-01,  5.51834404e-01, -4.81220782e-01,\n",
              "       -2.65235931e-01,  1.31470279e-03, -8.23000252e-01, -5.45289934e-01,\n",
              "       -5.39062560e-01, -2.00794905e-01,  1.25978255e+00,  8.18976685e-02,\n",
              "        7.38722801e-01, -7.21183360e-01, -4.01138842e-01,  1.02351046e+00,\n",
              "        2.22528353e-01, -6.14336550e-01, -4.67390060e-01, -1.65859008e+00,\n",
              "        3.77663039e-02, -1.09923911e+00, -7.20388889e-01, -4.25445169e-01,\n",
              "        6.02763772e-01, -4.99051243e-01, -6.26347005e-01, -6.35460466e-02,\n",
              "        7.25325882e-01,  7.69714475e-01,  4.67939138e-01, -8.17409933e-01,\n",
              "       -3.44656259e-01, -1.38075769e-01, -5.76412141e-01,  7.84494162e-01,\n",
              "        8.04899156e-01,  1.43704694e-02, -1.07895565e+00,  1.36070102e-01,\n",
              "       -8.03474635e-02,  3.00058097e-01, -2.42886856e-01, -3.48733574e-01,\n",
              "       -9.32479203e-01,  5.72644234e-01,  2.69476652e-01,  6.73158526e-01,\n",
              "       -9.80908751e-01,  1.19280875e+00, -8.68743002e-01,  5.54556191e-01,\n",
              "        1.48497641e+00, -2.95171827e-01,  1.02981329e+00,  5.05845666e-01,\n",
              "       -1.37037650e-01, -4.72686589e-01, -8.08375359e-01, -1.19270161e-01,\n",
              "       -4.04863119e-01, -8.79587233e-02, -8.46542358e-01,  1.05518854e+00,\n",
              "       -1.53969467e-01,  8.74861479e-02, -2.27692038e-01,  8.91253054e-01,\n",
              "        1.13066518e+00,  3.11386317e-01,  9.08340454e-01,  4.49371338e-01,\n",
              "        4.88193631e-02,  2.50463635e-01,  1.39825320e+00,  9.00588870e-01,\n",
              "        4.38242435e-01, -8.75679135e-01,  1.14255145e-01, -2.05898285e-01],\n",
              "      dtype=float32)"
            ]
          },
          "metadata": {},
          "execution_count": 355
        }
      ]
    },
    {
      "cell_type": "code",
      "source": [
        "model.wv.similarity('like','yellow')"
      ],
      "metadata": {
        "colab": {
          "base_uri": "https://localhost:8080/"
        },
        "id": "328tfAjeutdF",
        "outputId": "265c038e-bd8a-44c8-bc86-db00c8e9daf4"
      },
      "execution_count": 356,
      "outputs": [
        {
          "output_type": "execute_result",
          "data": {
            "text/plain": [
              "0.9985351"
            ]
          },
          "metadata": {},
          "execution_count": 356
        }
      ]
    },
    {
      "cell_type": "code",
      "source": [
        "model.wv.get_normed_vectors().shape #7332 vectors of 100 dimentions"
      ],
      "metadata": {
        "colab": {
          "base_uri": "https://localhost:8080/"
        },
        "id": "poV9DXuxu0EE",
        "outputId": "ba4783b7-abab-407a-e509-154d2645a582"
      },
      "execution_count": 357,
      "outputs": [
        {
          "output_type": "execute_result",
          "data": {
            "text/plain": [
              "(15825, 100)"
            ]
          },
          "metadata": {},
          "execution_count": 357
        }
      ]
    },
    {
      "cell_type": "code",
      "source": [
        "#each word of vocab is represented by 100 dimentional vector\n",
        "print('key::', model.wv.index_to_key[0])\n",
        "print('vector represtation ',model.wv.get_normed_vectors()[0])"
      ],
      "metadata": {
        "colab": {
          "base_uri": "https://localhost:8080/"
        },
        "id": "wGrsOA63wOa-",
        "outputId": "7346a491-51ae-4420-b87d-b868d27ecc10"
      },
      "execution_count": 358,
      "outputs": [
        {
          "output_type": "stream",
          "name": "stdout",
          "text": [
            "key:: movi\n",
            "vector represtation  [-0.06719168  0.12250402  0.04883105  0.04807571 -0.00247508 -0.2036603\n",
            "  0.04470978  0.29886976 -0.07365907 -0.0831087  -0.04024331 -0.2041429\n",
            " -0.03030943  0.03831544  0.00848184 -0.11435983  0.04361397 -0.15487023\n",
            "  0.01334082 -0.23089865  0.07978486  0.0668848   0.08074912 -0.06952487\n",
            " -0.03682592 -0.00131985 -0.11790665 -0.07240746 -0.07173943 -0.02619484\n",
            "  0.16878293  0.01117284  0.09935682 -0.10162739 -0.05713331  0.14035347\n",
            "  0.03185236 -0.08533921 -0.06492896 -0.22502658  0.00584579 -0.15343826\n",
            " -0.09966493 -0.05681467  0.07914649 -0.06443625 -0.08362181 -0.00960104\n",
            "  0.09971375  0.10699494  0.06417362 -0.11732246 -0.03872285 -0.02161669\n",
            " -0.07494159  0.11544444  0.11259983  0.00318033 -0.14520045  0.01686057\n",
            " -0.01643781  0.03350099 -0.02705425 -0.05712466 -0.13060549  0.08381657\n",
            "  0.03651318  0.09526804 -0.14664562  0.15605658 -0.11687457  0.07123358\n",
            "  0.20300812 -0.04086934  0.14032045  0.05969609 -0.01901985 -0.06906938\n",
            " -0.11805661 -0.01208373 -0.06327776 -0.00985052 -0.11154536  0.14698546\n",
            " -0.01906615  0.00755951 -0.02877487  0.12171122  0.15080911  0.04471362\n",
            "  0.13012975  0.06194611  0.00389276  0.0395764   0.1936464   0.1207193\n",
            "  0.06378676 -0.11080141  0.01532465 -0.02678057]\n"
          ]
        }
      ]
    },
    {
      "cell_type": "markdown",
      "source": [
        "                                      **DIMENTIONALITY REDUCTION(100 D to 3D) FOR VISUALIZATION**"
      ],
      "metadata": {
        "id": "By_rJu3puwzP"
      }
    },
    {
      "cell_type": "code",
      "source": [
        "from sklearn.decomposition import PCA\n",
        "pca = PCA(n_components=3)\n",
        "X = pca.fit_transform(model.wv.get_normed_vectors())\n",
        "X.shape\n",
        "(17453, 3)\n",
        "import plotly.express as px\n",
        "fig = px.scatter_3d(X[300:400],x=0,y=1,z=2, color=sentiments[300:400])\n",
        "fig.show()"
      ],
      "metadata": {
        "id": "7TsopBrw7Ojo",
        "colab": {
          "base_uri": "https://localhost:8080/",
          "height": 542
        },
        "outputId": "47a69716-ec13-40d1-cc1a-ac49bbb66707"
      },
      "execution_count": 359,
      "outputs": [
        {
          "output_type": "display_data",
          "data": {
            "text/html": [
              "<html>\n",
              "<head><meta charset=\"utf-8\" /></head>\n",
              "<body>\n",
              "    <div>            <script src=\"https://cdnjs.cloudflare.com/ajax/libs/mathjax/2.7.5/MathJax.js?config=TeX-AMS-MML_SVG\"></script><script type=\"text/javascript\">if (window.MathJax && window.MathJax.Hub && window.MathJax.Hub.Config) {window.MathJax.Hub.Config({SVG: {font: \"STIX-Web\"}});}</script>                <script type=\"text/javascript\">window.PlotlyConfig = {MathJaxConfig: 'local'};</script>\n",
              "        <script src=\"https://cdn.plot.ly/plotly-2.18.2.min.js\"></script>                <div id=\"72166a05-cf3c-481d-975c-90bc32a12b29\" class=\"plotly-graph-div\" style=\"height:525px; width:100%;\"></div>            <script type=\"text/javascript\">                                    window.PLOTLYENV=window.PLOTLYENV || {};                                    if (document.getElementById(\"72166a05-cf3c-481d-975c-90bc32a12b29\")) {                    Plotly.newPlot(                        \"72166a05-cf3c-481d-975c-90bc32a12b29\",                        [{\"hovertemplate\":\"color=negative<br>0=%{x}<br>1=%{y}<br>2=%{z}<extra></extra>\",\"legendgroup\":\"negative\",\"marker\":{\"color\":\"#636efa\",\"symbol\":\"circle\"},\"mode\":\"markers\",\"name\":\"negative\",\"scene\":\"scene\",\"showlegend\":true,\"x\":[-0.042235396802425385,-0.042236823588609695,-0.042487889528274536,-0.04231247678399086,-0.042213283479213715,-0.042489636689424515,-0.04226947948336601,-0.04233352094888687,-0.04228470101952553,-0.04229974001646042,-0.04240850359201431,-0.042754799127578735,-0.04134325683116913,-0.0411282442510128,-0.04238630831241608,-0.04242316633462906,-0.04212108999490738,-0.0425356850028038,-0.04244665056467056,-0.04209383577108383,-0.04258235916495323,-0.042527101933956146,-0.04225606471300125,-0.042598966509103775,-0.04250781983137131,-0.042505376040935516,-0.04265420138835907,-0.04256410524249077,-0.04243526980280876,-0.04223775863647461,-0.04291664436459541,-0.04234746843576431,-0.04237418994307518,-0.04215455427765846,-0.04226034879684448,-0.0426478274166584,-0.042485058307647705,-0.04276764392852783,-0.04162759706377983,-0.042466260492801666,-0.04266228899359703,-0.04252733662724495,-0.042456939816474915,-0.04213227704167366,-0.04213302582502365,-0.042518049478530884,-0.042143240571022034,-0.042123641818761826,-0.04239896312355995],\"y\":[-0.001709102070890367,0.003279299009591341,0.00129183498211205,-0.003075638087466359,0.0004979927907697856,0.0035513078328222036,-0.0010446079540997744,-0.001752146054059267,0.003120965790003538,-0.0020785697270184755,-0.0007396111614070833,0.005719922017306089,-0.011732140555977821,-0.005704132374376059,-0.00034175711334683,-0.0033445418812334538,-0.003606687067076564,0.004490405321121216,0.001799583900719881,-0.0018733862088993192,-0.00019438276649452746,0.0005133242812007666,0.00030532199889421463,0.0010015302104875445,0.003439703257754445,0.0004282320151105523,-2.9095419449731708e-05,-0.0012545560020953417,0.0029611256904900074,-0.005524184089154005,0.008095486089587212,0.0018122006440535188,0.00019016802252735943,0.0021348309237509966,-0.0038526225835084915,-0.00039856095099821687,0.0015600952319800854,0.002180698560550809,-0.005218192934989929,0.00018286542035639286,-0.002149365609511733,0.0002477240050211549,-0.0019237108062952757,0.0008129726629704237,-0.004698667675256729,-0.0008995300158858299,-0.0028061296325176954,-0.0010217385133728385,-0.0007157317013479769],\"z\":[0.00028871282120235264,-0.0015226667746901512,-0.0016695217927917838,-0.001991772558540106,6.342377309920266e-05,0.002013701945543289,-0.003056511515751481,0.0021699247881770134,-0.00020568398758769035,-0.005732549820095301,0.0007136609638109803,-7.975759945111349e-05,-0.006716707721352577,0.0019216296495869756,-0.001308909384533763,-0.001202874118462205,-0.0012914725812152028,-0.0010552422609180212,-0.0012738958466798067,-0.0016781572485342622,0.0015942808240652084,0.001119636232033372,0.0009367913589812815,0.00043265687418170273,-0.0008313350263051689,-0.00024856856907717884,-0.0015894907992333174,-0.0035396083258092403,-0.0028924387879669666,-0.0004303435853216797,0.0016524257371202111,-0.002213285770267248,3.953248324251035e-06,0.0008336302707903087,-0.00014358268526848406,0.0006608830881305039,-0.0010014829458668828,0.0016343722818419337,-0.006243461277335882,0.000268714182311669,-0.0007289252243936062,0.0007828415837138891,-0.0013671841006726027,0.0014985832385718822,-0.0017767543904483318,-0.0021382353734225035,0.0029204455204308033,-0.0006888635107316077,-0.0017986439634114504],\"type\":\"scatter3d\"},{\"hovertemplate\":\"color=positive<br>0=%{x}<br>1=%{y}<br>2=%{z}<extra></extra>\",\"legendgroup\":\"positive\",\"marker\":{\"color\":\"#EF553B\",\"symbol\":\"circle\"},\"mode\":\"markers\",\"name\":\"positive\",\"scene\":\"scene\",\"showlegend\":true,\"x\":[-0.04187297821044922,-0.04248718544840813,-0.04226378723978996,-0.04254388436675072,-0.04179697483778,-0.04274033010005951,-0.042318932712078094,-0.04238614812493324,-0.04248107224702835,-0.04230542853474617,-0.04210629686713219,-0.04213441535830498,-0.041985757648944855,-0.0424988828599453,-0.04246993362903595,-0.04225054383277893,-0.04230669513344765,-0.042561788111925125,-0.042628686875104904,-0.042291928082704544,-0.042544446885585785,-0.04182249680161476,-0.04244990274310112,-0.04249564930796623,-0.04236951842904091,-0.04231460392475128,-0.04265779256820679,-0.04203631356358528,-0.04244653135538101,-0.04246832802891731,-0.04237380996346474,-0.0426262728869915,-0.04219165816903114,-0.042260173708200455,-0.041962116956710815,-0.04199901968240738,-0.04246600717306137,-0.04226301610469818,-0.04249866306781769,-0.04253283143043518,-0.04222806170582771,-0.04243703559041023,-0.04219811409711838,-0.0427970215678215,-0.042620010673999786,-0.04157539829611778,-0.0418437160551548,-0.04237066209316254,-0.04213332012295723,-0.04231463372707367,-0.042501773685216904],\"y\":[-0.005400964058935642,-0.00033933648956008255,-0.002131665823981166,-0.0002788817510008812,-0.006731055211275816,0.0036739606875926256,0.0031635647173970938,-0.0010123559040948749,0.002733695786446333,-0.0005341539508663118,-0.0038578759413212538,0.0017090786714106798,-0.004340468440204859,0.001850718050263822,0.004261652007699013,-0.0019012847915291786,0.0019290173659101129,-0.000632324256002903,-5.853017864865251e-05,-0.00031237024813890457,-0.0011927990708500147,-0.006075096316635609,-0.0016481659840792418,0.0011139488779008389,-0.00061946822097525,-0.0035959254018962383,0.0035921642556786537,-0.0019946061074733734,0.0023416357580572367,-0.001790998037904501,0.0011127206962555647,0.004517123103141785,-0.003658358473330736,-0.0027906892355531454,-0.003169456496834755,-0.0012430661590769887,0.0008418029174208641,-0.002062893006950617,-0.0008118341793306172,0.0018262300873175263,-0.0027439792174845934,-0.001974675105884671,-0.001625970471650362,0.0034298456739634275,0.0029471314046531916,-0.007501138374209404,0.0005769506096839905,-0.0001451069110771641,-0.0037837866693735123,-0.0018738900544121861,-0.00029876717599108815],\"z\":[0.0016494484152644873,-0.001492115086875856,-0.0008464459679089487,0.0007739524589851499,-0.002898488426581025,-0.0005734615842811763,-0.000110512541141361,0.0002541090361773968,-0.00034883120679296553,0.002061546314507723,-0.0011653871042653918,-0.0008042870904318988,-0.0024297081399708986,-0.0012493046233430505,0.004126676358282566,-0.0008020683890208602,0.0036856483202427626,-0.0010780233424156904,-0.000956359610427171,-0.0013028399553149939,0.0016513197915628552,-0.001715529477223754,0.0007256522658281028,0.0009961675386875868,7.712871592957526e-05,-0.0021720470394939184,-0.0008392403251491487,-0.0005641387542709708,0.00355033902451396,0.0023146322928369045,-0.00015184770745690912,-0.0003955851716455072,-0.0005451961187645793,-0.0011945671867579222,-0.0039216079749166965,-0.0024187257513403893,0.0011404011165723205,0.0001881723728729412,-0.0009579842444509268,0.0014344101073220372,-0.0004986539715901017,-0.0009868646739050746,-0.0019248579628765583,0.0050733573734760284,-0.0016681450651958585,-0.001931498758494854,0.0007128194556571543,-0.004286149051040411,0.0005163737223483622,0.00015851022908464074,-0.002344328910112381],\"type\":\"scatter3d\"}],                        {\"template\":{\"data\":{\"histogram2dcontour\":[{\"type\":\"histogram2dcontour\",\"colorbar\":{\"outlinewidth\":0,\"ticks\":\"\"},\"colorscale\":[[0.0,\"#0d0887\"],[0.1111111111111111,\"#46039f\"],[0.2222222222222222,\"#7201a8\"],[0.3333333333333333,\"#9c179e\"],[0.4444444444444444,\"#bd3786\"],[0.5555555555555556,\"#d8576b\"],[0.6666666666666666,\"#ed7953\"],[0.7777777777777778,\"#fb9f3a\"],[0.8888888888888888,\"#fdca26\"],[1.0,\"#f0f921\"]]}],\"choropleth\":[{\"type\":\"choropleth\",\"colorbar\":{\"outlinewidth\":0,\"ticks\":\"\"}}],\"histogram2d\":[{\"type\":\"histogram2d\",\"colorbar\":{\"outlinewidth\":0,\"ticks\":\"\"},\"colorscale\":[[0.0,\"#0d0887\"],[0.1111111111111111,\"#46039f\"],[0.2222222222222222,\"#7201a8\"],[0.3333333333333333,\"#9c179e\"],[0.4444444444444444,\"#bd3786\"],[0.5555555555555556,\"#d8576b\"],[0.6666666666666666,\"#ed7953\"],[0.7777777777777778,\"#fb9f3a\"],[0.8888888888888888,\"#fdca26\"],[1.0,\"#f0f921\"]]}],\"heatmap\":[{\"type\":\"heatmap\",\"colorbar\":{\"outlinewidth\":0,\"ticks\":\"\"},\"colorscale\":[[0.0,\"#0d0887\"],[0.1111111111111111,\"#46039f\"],[0.2222222222222222,\"#7201a8\"],[0.3333333333333333,\"#9c179e\"],[0.4444444444444444,\"#bd3786\"],[0.5555555555555556,\"#d8576b\"],[0.6666666666666666,\"#ed7953\"],[0.7777777777777778,\"#fb9f3a\"],[0.8888888888888888,\"#fdca26\"],[1.0,\"#f0f921\"]]}],\"heatmapgl\":[{\"type\":\"heatmapgl\",\"colorbar\":{\"outlinewidth\":0,\"ticks\":\"\"},\"colorscale\":[[0.0,\"#0d0887\"],[0.1111111111111111,\"#46039f\"],[0.2222222222222222,\"#7201a8\"],[0.3333333333333333,\"#9c179e\"],[0.4444444444444444,\"#bd3786\"],[0.5555555555555556,\"#d8576b\"],[0.6666666666666666,\"#ed7953\"],[0.7777777777777778,\"#fb9f3a\"],[0.8888888888888888,\"#fdca26\"],[1.0,\"#f0f921\"]]}],\"contourcarpet\":[{\"type\":\"contourcarpet\",\"colorbar\":{\"outlinewidth\":0,\"ticks\":\"\"}}],\"contour\":[{\"type\":\"contour\",\"colorbar\":{\"outlinewidth\":0,\"ticks\":\"\"},\"colorscale\":[[0.0,\"#0d0887\"],[0.1111111111111111,\"#46039f\"],[0.2222222222222222,\"#7201a8\"],[0.3333333333333333,\"#9c179e\"],[0.4444444444444444,\"#bd3786\"],[0.5555555555555556,\"#d8576b\"],[0.6666666666666666,\"#ed7953\"],[0.7777777777777778,\"#fb9f3a\"],[0.8888888888888888,\"#fdca26\"],[1.0,\"#f0f921\"]]}],\"surface\":[{\"type\":\"surface\",\"colorbar\":{\"outlinewidth\":0,\"ticks\":\"\"},\"colorscale\":[[0.0,\"#0d0887\"],[0.1111111111111111,\"#46039f\"],[0.2222222222222222,\"#7201a8\"],[0.3333333333333333,\"#9c179e\"],[0.4444444444444444,\"#bd3786\"],[0.5555555555555556,\"#d8576b\"],[0.6666666666666666,\"#ed7953\"],[0.7777777777777778,\"#fb9f3a\"],[0.8888888888888888,\"#fdca26\"],[1.0,\"#f0f921\"]]}],\"mesh3d\":[{\"type\":\"mesh3d\",\"colorbar\":{\"outlinewidth\":0,\"ticks\":\"\"}}],\"scatter\":[{\"fillpattern\":{\"fillmode\":\"overlay\",\"size\":10,\"solidity\":0.2},\"type\":\"scatter\"}],\"parcoords\":[{\"type\":\"parcoords\",\"line\":{\"colorbar\":{\"outlinewidth\":0,\"ticks\":\"\"}}}],\"scatterpolargl\":[{\"type\":\"scatterpolargl\",\"marker\":{\"colorbar\":{\"outlinewidth\":0,\"ticks\":\"\"}}}],\"bar\":[{\"error_x\":{\"color\":\"#2a3f5f\"},\"error_y\":{\"color\":\"#2a3f5f\"},\"marker\":{\"line\":{\"color\":\"#E5ECF6\",\"width\":0.5},\"pattern\":{\"fillmode\":\"overlay\",\"size\":10,\"solidity\":0.2}},\"type\":\"bar\"}],\"scattergeo\":[{\"type\":\"scattergeo\",\"marker\":{\"colorbar\":{\"outlinewidth\":0,\"ticks\":\"\"}}}],\"scatterpolar\":[{\"type\":\"scatterpolar\",\"marker\":{\"colorbar\":{\"outlinewidth\":0,\"ticks\":\"\"}}}],\"histogram\":[{\"marker\":{\"pattern\":{\"fillmode\":\"overlay\",\"size\":10,\"solidity\":0.2}},\"type\":\"histogram\"}],\"scattergl\":[{\"type\":\"scattergl\",\"marker\":{\"colorbar\":{\"outlinewidth\":0,\"ticks\":\"\"}}}],\"scatter3d\":[{\"type\":\"scatter3d\",\"line\":{\"colorbar\":{\"outlinewidth\":0,\"ticks\":\"\"}},\"marker\":{\"colorbar\":{\"outlinewidth\":0,\"ticks\":\"\"}}}],\"scattermapbox\":[{\"type\":\"scattermapbox\",\"marker\":{\"colorbar\":{\"outlinewidth\":0,\"ticks\":\"\"}}}],\"scatterternary\":[{\"type\":\"scatterternary\",\"marker\":{\"colorbar\":{\"outlinewidth\":0,\"ticks\":\"\"}}}],\"scattercarpet\":[{\"type\":\"scattercarpet\",\"marker\":{\"colorbar\":{\"outlinewidth\":0,\"ticks\":\"\"}}}],\"carpet\":[{\"aaxis\":{\"endlinecolor\":\"#2a3f5f\",\"gridcolor\":\"white\",\"linecolor\":\"white\",\"minorgridcolor\":\"white\",\"startlinecolor\":\"#2a3f5f\"},\"baxis\":{\"endlinecolor\":\"#2a3f5f\",\"gridcolor\":\"white\",\"linecolor\":\"white\",\"minorgridcolor\":\"white\",\"startlinecolor\":\"#2a3f5f\"},\"type\":\"carpet\"}],\"table\":[{\"cells\":{\"fill\":{\"color\":\"#EBF0F8\"},\"line\":{\"color\":\"white\"}},\"header\":{\"fill\":{\"color\":\"#C8D4E3\"},\"line\":{\"color\":\"white\"}},\"type\":\"table\"}],\"barpolar\":[{\"marker\":{\"line\":{\"color\":\"#E5ECF6\",\"width\":0.5},\"pattern\":{\"fillmode\":\"overlay\",\"size\":10,\"solidity\":0.2}},\"type\":\"barpolar\"}],\"pie\":[{\"automargin\":true,\"type\":\"pie\"}]},\"layout\":{\"autotypenumbers\":\"strict\",\"colorway\":[\"#636efa\",\"#EF553B\",\"#00cc96\",\"#ab63fa\",\"#FFA15A\",\"#19d3f3\",\"#FF6692\",\"#B6E880\",\"#FF97FF\",\"#FECB52\"],\"font\":{\"color\":\"#2a3f5f\"},\"hovermode\":\"closest\",\"hoverlabel\":{\"align\":\"left\"},\"paper_bgcolor\":\"white\",\"plot_bgcolor\":\"#E5ECF6\",\"polar\":{\"bgcolor\":\"#E5ECF6\",\"angularaxis\":{\"gridcolor\":\"white\",\"linecolor\":\"white\",\"ticks\":\"\"},\"radialaxis\":{\"gridcolor\":\"white\",\"linecolor\":\"white\",\"ticks\":\"\"}},\"ternary\":{\"bgcolor\":\"#E5ECF6\",\"aaxis\":{\"gridcolor\":\"white\",\"linecolor\":\"white\",\"ticks\":\"\"},\"baxis\":{\"gridcolor\":\"white\",\"linecolor\":\"white\",\"ticks\":\"\"},\"caxis\":{\"gridcolor\":\"white\",\"linecolor\":\"white\",\"ticks\":\"\"}},\"coloraxis\":{\"colorbar\":{\"outlinewidth\":0,\"ticks\":\"\"}},\"colorscale\":{\"sequential\":[[0.0,\"#0d0887\"],[0.1111111111111111,\"#46039f\"],[0.2222222222222222,\"#7201a8\"],[0.3333333333333333,\"#9c179e\"],[0.4444444444444444,\"#bd3786\"],[0.5555555555555556,\"#d8576b\"],[0.6666666666666666,\"#ed7953\"],[0.7777777777777778,\"#fb9f3a\"],[0.8888888888888888,\"#fdca26\"],[1.0,\"#f0f921\"]],\"sequentialminus\":[[0.0,\"#0d0887\"],[0.1111111111111111,\"#46039f\"],[0.2222222222222222,\"#7201a8\"],[0.3333333333333333,\"#9c179e\"],[0.4444444444444444,\"#bd3786\"],[0.5555555555555556,\"#d8576b\"],[0.6666666666666666,\"#ed7953\"],[0.7777777777777778,\"#fb9f3a\"],[0.8888888888888888,\"#fdca26\"],[1.0,\"#f0f921\"]],\"diverging\":[[0,\"#8e0152\"],[0.1,\"#c51b7d\"],[0.2,\"#de77ae\"],[0.3,\"#f1b6da\"],[0.4,\"#fde0ef\"],[0.5,\"#f7f7f7\"],[0.6,\"#e6f5d0\"],[0.7,\"#b8e186\"],[0.8,\"#7fbc41\"],[0.9,\"#4d9221\"],[1,\"#276419\"]]},\"xaxis\":{\"gridcolor\":\"white\",\"linecolor\":\"white\",\"ticks\":\"\",\"title\":{\"standoff\":15},\"zerolinecolor\":\"white\",\"automargin\":true,\"zerolinewidth\":2},\"yaxis\":{\"gridcolor\":\"white\",\"linecolor\":\"white\",\"ticks\":\"\",\"title\":{\"standoff\":15},\"zerolinecolor\":\"white\",\"automargin\":true,\"zerolinewidth\":2},\"scene\":{\"xaxis\":{\"backgroundcolor\":\"#E5ECF6\",\"gridcolor\":\"white\",\"linecolor\":\"white\",\"showbackground\":true,\"ticks\":\"\",\"zerolinecolor\":\"white\",\"gridwidth\":2},\"yaxis\":{\"backgroundcolor\":\"#E5ECF6\",\"gridcolor\":\"white\",\"linecolor\":\"white\",\"showbackground\":true,\"ticks\":\"\",\"zerolinecolor\":\"white\",\"gridwidth\":2},\"zaxis\":{\"backgroundcolor\":\"#E5ECF6\",\"gridcolor\":\"white\",\"linecolor\":\"white\",\"showbackground\":true,\"ticks\":\"\",\"zerolinecolor\":\"white\",\"gridwidth\":2}},\"shapedefaults\":{\"line\":{\"color\":\"#2a3f5f\"}},\"annotationdefaults\":{\"arrowcolor\":\"#2a3f5f\",\"arrowhead\":0,\"arrowwidth\":1},\"geo\":{\"bgcolor\":\"white\",\"landcolor\":\"#E5ECF6\",\"subunitcolor\":\"white\",\"showland\":true,\"showlakes\":true,\"lakecolor\":\"white\"},\"title\":{\"x\":0.05},\"mapbox\":{\"style\":\"light\"}}},\"scene\":{\"domain\":{\"x\":[0.0,1.0],\"y\":[0.0,1.0]},\"xaxis\":{\"title\":{\"text\":\"0\"}},\"yaxis\":{\"title\":{\"text\":\"1\"}},\"zaxis\":{\"title\":{\"text\":\"2\"}}},\"legend\":{\"title\":{\"text\":\"color\"},\"tracegroupgap\":0},\"margin\":{\"t\":60}},                        {\"responsive\": true}                    ).then(function(){\n",
              "                            \n",
              "var gd = document.getElementById('72166a05-cf3c-481d-975c-90bc32a12b29');\n",
              "var x = new MutationObserver(function (mutations, observer) {{\n",
              "        var display = window.getComputedStyle(gd).display;\n",
              "        if (!display || display === 'none') {{\n",
              "            console.log([gd, 'removed!']);\n",
              "            Plotly.purge(gd);\n",
              "            observer.disconnect();\n",
              "        }}\n",
              "}});\n",
              "\n",
              "// Listen for the removal of the full notebook cells\n",
              "var notebookContainer = gd.closest('#notebook-container');\n",
              "if (notebookContainer) {{\n",
              "    x.observe(notebookContainer, {childList: true});\n",
              "}}\n",
              "\n",
              "// Listen for the clearing of the current output cell\n",
              "var outputEl = gd.closest('.output');\n",
              "if (outputEl) {{\n",
              "    x.observe(outputEl, {childList: true});\n",
              "}}\n",
              "\n",
              "                        })                };                            </script>        </div>\n",
              "</body>\n",
              "</html>"
            ]
          },
          "metadata": {}
        }
      ]
    },
    {
      "cell_type": "code",
      "source": [
        "d = [w for w in reviews[9].split() if w in model.wv.index_to_key]\n",
        "model.wv[d]"
      ],
      "metadata": {
        "colab": {
          "base_uri": "https://localhost:8080/"
        },
        "id": "vW_3BWYGnPEF",
        "outputId": "72ae2c1b-939c-40b5-d6a3-5d4f7d15760d"
      },
      "execution_count": 360,
      "outputs": [
        {
          "output_type": "execute_result",
          "data": {
            "text/plain": [
              "array([[-0.50023395,  0.9364076 ,  0.40648052, ..., -0.87567914,\n",
              "         0.11425515, -0.20589828],\n",
              "       [-0.38869724,  0.7112755 ,  0.3129573 , ..., -0.65092134,\n",
              "         0.07718786, -0.12194216],\n",
              "       [-0.17996405,  0.32092008,  0.14125834, ..., -0.28806928,\n",
              "         0.04241731, -0.06612402],\n",
              "       ...,\n",
              "       [-0.50023395,  0.9364076 ,  0.40648052, ..., -0.87567914,\n",
              "         0.11425515, -0.20589828],\n",
              "       [-0.16209488,  0.30376908,  0.13651548, ..., -0.27552786,\n",
              "         0.03690223, -0.05828959],\n",
              "       [-0.18892731,  0.34997952,  0.15553327, ..., -0.32385176,\n",
              "         0.05213462, -0.06218845]], dtype=float32)"
            ]
          },
          "metadata": {},
          "execution_count": 360
        }
      ]
    },
    {
      "cell_type": "markdown",
      "source": [
        "# this is returning 100 dimentional vector for each word in reviews[9] (a single review) so we use average method to calculate only one average value for indvisual review in reviews by averaging the values of each word in that review row wise(axis = 0) rows = # of words in review"
      ],
      "metadata": {
        "id": "ZmOYsfhMpwvR"
      }
    },
    {
      "cell_type": "code",
      "source": [
        "# this method convert text into vector using word2vec\n",
        "def doc_vector(doc):\n",
        "  #remove oov words\n",
        "  doc = [w for w in doc.split() if w in model.wv.index_to_key]\n",
        "  if(len(doc) > 0):\n",
        "    return np.mean(model.wv[doc],axis = 0)\n",
        "  else:\n",
        "    return 'Info out of bound,Sorry Sir!!!!'"
      ],
      "metadata": {
        "id": "li4z_MRyi6Mb"
      },
      "execution_count": 361,
      "outputs": []
    },
    {
      "cell_type": "code",
      "source": [
        "reviews[2]"
      ],
      "metadata": {
        "colab": {
          "base_uri": "https://localhost:8080/",
          "height": 91
        },
        "id": "js1o7uKtkKPq",
        "outputId": "25d889fa-056f-40f9-a366-002becf60685"
      },
      "execution_count": 362,
      "outputs": [
        {
          "output_type": "execute_result",
          "data": {
            "text/plain": [
              "'thought wonder way spend time hot summer weekend sit air condit theater watch lightheart comedi plot simplist dialogu witti charact likabl even well bread suspect serial killer may disappoint realiz match point 2 risk addict thought proof woodi allen still fulli control style mani us grown lovethi id laugh one woodi comedi year dare say decad ive never impress scarlet johanson manag tone sexi imag jump right averag spirit young womanthi may crown jewel career wittier devil wear prada interest superman great comedi go see friend'"
            ],
            "application/vnd.google.colaboratory.intrinsic+json": {
              "type": "string"
            }
          },
          "metadata": {},
          "execution_count": 362
        }
      ]
    },
    {
      "cell_type": "code",
      "source": [
        "X =[]\n",
        "x_vectors = [X.append(doc_vector(review )) for review in reviews]\n",
        "x_vectors = np.array(X)\n",
        "x_vectors.shape"
      ],
      "metadata": {
        "colab": {
          "base_uri": "https://localhost:8080/"
        },
        "id": "EiTQzebKjtNl",
        "outputId": "f0a7d33e-a07f-46e0-9ffe-ca937d14f412"
      },
      "execution_count": 363,
      "outputs": [
        {
          "output_type": "execute_result",
          "data": {
            "text/plain": [
              "(1000, 100)"
            ]
          },
          "metadata": {},
          "execution_count": 363
        }
      ]
    },
    {
      "cell_type": "markdown",
      "source": [
        "                                    **NOW APPLY MODEL ON THIS WORD 2 VEC VECTORS**"
      ],
      "metadata": {
        "id": "9TcFo7fmrWcl"
      }
    },
    {
      "cell_type": "markdown",
      "source": [
        "**W2V WITH GUASSIAN NAIVE BAYES**"
      ],
      "metadata": {
        "id": "XLSssWEssBxD"
      }
    },
    {
      "cell_type": "code",
      "source": [
        "from sklearn.model_selection import train_test_split\n",
        "\n",
        "X_train_w2v,X_test_w2v,y_train_w2v,y_test_w2v = train_test_split(x_vectors,sentiments,test_size= 0.2,random_state = 42)\n",
        "len(y_train_w2v)\n",
        "len(X_train_w2v)\n"
      ],
      "metadata": {
        "colab": {
          "base_uri": "https://localhost:8080/"
        },
        "id": "9UIXPFzzqzqc",
        "outputId": "6ab39c0b-b5c1-40b0-f50b-45936ab0c5bc"
      },
      "execution_count": 364,
      "outputs": [
        {
          "output_type": "execute_result",
          "data": {
            "text/plain": [
              "800"
            ]
          },
          "metadata": {},
          "execution_count": 364
        }
      ]
    },
    {
      "cell_type": "code",
      "source": [
        "from sklearn.naive_bayes import GaussianNB\n",
        "\n",
        "gnb = GaussianNB()\n",
        "\n",
        "gnb.fit(X_train_w2v,y_train_w2v)\n",
        "\n",
        "y_pred_w2v = gnb.predict(X_test_w2v)\n",
        "from sklearn.metrics import accuracy_score\n",
        "accuracy = accuracy_score(y_test_w2v, y_pred_w2v)\n",
        "print(\"Accuracy:\", accuracy)\n"
      ],
      "metadata": {
        "colab": {
          "base_uri": "https://localhost:8080/"
        },
        "id": "yrJPuyyirVhg",
        "outputId": "f4cb820f-6a11-4e24-fc67-f81f13ac57c0"
      },
      "execution_count": 365,
      "outputs": [
        {
          "output_type": "stream",
          "name": "stdout",
          "text": [
            "Accuracy: 0.54\n"
          ]
        }
      ]
    },
    {
      "cell_type": "code",
      "source": [
        "def gnb_w2v_analysis():\n",
        "  i = input()\n",
        "  num = doc_vector(i) ## this method convert text into vector using word2vec (defined above)\n",
        "  if isinstance(num, str):\n",
        "    print(num)\n",
        "  else:\n",
        "    prediction_gnb = gnb.predict([num])\n",
        "    print('Review is :',prediction_gnb[0])\n",
        "\n",
        "gnb_w2v_analysis()"
      ],
      "metadata": {
        "colab": {
          "base_uri": "https://localhost:8080/"
        },
        "id": "vD1G7jjgw4I5",
        "outputId": "873e4f7f-c28a-4253-9b2f-4ba5333e650b"
      },
      "execution_count": 366,
      "outputs": [
        {
          "output_type": "stream",
          "name": "stdout",
          "text": [
            "stunning movie , will watch again soon!\n",
            "Review is : positive\n"
          ]
        }
      ]
    },
    {
      "cell_type": "markdown",
      "source": [
        "**W2V WITH RANDOMFOREST**"
      ],
      "metadata": {
        "id": "RVUAWKCEsIez"
      }
    },
    {
      "cell_type": "code",
      "source": [
        "from sklearn.ensemble import RandomForestClassifier\n",
        "rf_classifier = RandomForestClassifier()\n",
        "\n",
        "# Fit the classifier to the training data\n",
        "rf_classifier.fit(X_train_w2v,y_train_w2v)\n",
        "\n",
        "# Make predictions on the test data\n",
        "y_pred_w2v_rf = rf_classifier.predict(X_test_w2v)\n",
        "\n",
        "# Calculate and print the accuracy score\n",
        "accuracy = accuracy_score(y_test_w2v, y_pred_w2v_rf)\n",
        "print(\"Accuracy:\", accuracy)"
      ],
      "metadata": {
        "colab": {
          "base_uri": "https://localhost:8080/"
        },
        "id": "kVK8N3qXsTBe",
        "outputId": "425cd285-dcc4-4f0c-e221-f384d8891861"
      },
      "execution_count": 367,
      "outputs": [
        {
          "output_type": "stream",
          "name": "stdout",
          "text": [
            "Accuracy: 0.605\n"
          ]
        }
      ]
    },
    {
      "cell_type": "code",
      "source": [
        "def rf_w2v_analysis():\n",
        "  i = input()\n",
        "  num = doc_vector(i)\n",
        "  if (isinstance(num,str)):\n",
        "    print(num)\n",
        "  else:\n",
        "    prediction_gnb = rf_classifier.predict([num])\n",
        "    print('Review is :',prediction_gnb[0])"
      ],
      "metadata": {
        "id": "Vu5P8-V_9H2T"
      },
      "execution_count": 368,
      "outputs": []
    },
    {
      "cell_type": "code",
      "source": [
        "rf_w2v_analysis()"
      ],
      "metadata": {
        "colab": {
          "base_uri": "https://localhost:8080/"
        },
        "id": "KAHnip6-EKRj",
        "outputId": "e24b0d46-256d-4d05-8da6-91cb6f604f73"
      },
      "execution_count": 369,
      "outputs": [
        {
          "output_type": "stream",
          "name": "stdout",
          "text": [
            "stunning movie , will watch again soon!\n",
            "Review is : negative\n"
          ]
        }
      ]
    },
    {
      "cell_type": "markdown",
      "source": [
        "                            **PRE TRAINED BERT MODEL**"
      ],
      "metadata": {
        "id": "x75ySsw0us5K"
      }
    },
    {
      "cell_type": "code",
      "source": [
        "!pip install transformers requests beautifulsoup4 pandas numpy"
      ],
      "metadata": {
        "colab": {
          "base_uri": "https://localhost:8080/"
        },
        "id": "XB73xIzOtxIz",
        "outputId": "80f1202d-4b79-408c-e289-2b9728b2698e"
      },
      "execution_count": 370,
      "outputs": [
        {
          "output_type": "stream",
          "name": "stdout",
          "text": [
            "Requirement already satisfied: transformers in /usr/local/lib/python3.10/dist-packages (4.30.2)\n",
            "Requirement already satisfied: requests in /usr/local/lib/python3.10/dist-packages (2.27.1)\n",
            "Requirement already satisfied: beautifulsoup4 in /usr/local/lib/python3.10/dist-packages (4.11.2)\n",
            "Requirement already satisfied: pandas in /usr/local/lib/python3.10/dist-packages (1.5.3)\n",
            "Requirement already satisfied: numpy in /usr/local/lib/python3.10/dist-packages (1.22.4)\n",
            "Requirement already satisfied: filelock in /usr/local/lib/python3.10/dist-packages (from transformers) (3.12.2)\n",
            "Requirement already satisfied: huggingface-hub<1.0,>=0.14.1 in /usr/local/lib/python3.10/dist-packages (from transformers) (0.16.4)\n",
            "Requirement already satisfied: packaging>=20.0 in /usr/local/lib/python3.10/dist-packages (from transformers) (23.1)\n",
            "Requirement already satisfied: pyyaml>=5.1 in /usr/local/lib/python3.10/dist-packages (from transformers) (6.0)\n",
            "Requirement already satisfied: regex!=2019.12.17 in /usr/local/lib/python3.10/dist-packages (from transformers) (2022.10.31)\n",
            "Requirement already satisfied: tokenizers!=0.11.3,<0.14,>=0.11.1 in /usr/local/lib/python3.10/dist-packages (from transformers) (0.13.3)\n",
            "Requirement already satisfied: safetensors>=0.3.1 in /usr/local/lib/python3.10/dist-packages (from transformers) (0.3.1)\n",
            "Requirement already satisfied: tqdm>=4.27 in /usr/local/lib/python3.10/dist-packages (from transformers) (4.65.0)\n",
            "Requirement already satisfied: urllib3<1.27,>=1.21.1 in /usr/local/lib/python3.10/dist-packages (from requests) (1.26.16)\n",
            "Requirement already satisfied: certifi>=2017.4.17 in /usr/local/lib/python3.10/dist-packages (from requests) (2023.5.7)\n",
            "Requirement already satisfied: charset-normalizer~=2.0.0 in /usr/local/lib/python3.10/dist-packages (from requests) (2.0.12)\n",
            "Requirement already satisfied: idna<4,>=2.5 in /usr/local/lib/python3.10/dist-packages (from requests) (3.4)\n",
            "Requirement already satisfied: soupsieve>1.2 in /usr/local/lib/python3.10/dist-packages (from beautifulsoup4) (2.4.1)\n",
            "Requirement already satisfied: python-dateutil>=2.8.1 in /usr/local/lib/python3.10/dist-packages (from pandas) (2.8.2)\n",
            "Requirement already satisfied: pytz>=2020.1 in /usr/local/lib/python3.10/dist-packages (from pandas) (2022.7.1)\n",
            "Requirement already satisfied: fsspec in /usr/local/lib/python3.10/dist-packages (from huggingface-hub<1.0,>=0.14.1->transformers) (2023.6.0)\n",
            "Requirement already satisfied: typing-extensions>=3.7.4.3 in /usr/local/lib/python3.10/dist-packages (from huggingface-hub<1.0,>=0.14.1->transformers) (4.6.3)\n",
            "Requirement already satisfied: six>=1.5 in /usr/local/lib/python3.10/dist-packages (from python-dateutil>=2.8.1->pandas) (1.16.0)\n"
          ]
        }
      ]
    },
    {
      "cell_type": "code",
      "source": [
        "from transformers import AutoTokenizer, AutoModelForSequenceClassification\n",
        "import torch\n",
        "import requests\n",
        "from bs4 import BeautifulSoup\n",
        "import re"
      ],
      "metadata": {
        "id": "n-I_wUBVu4AO"
      },
      "execution_count": 371,
      "outputs": []
    },
    {
      "cell_type": "code",
      "source": [
        "tokenizer = AutoTokenizer.from_pretrained('nlptown/bert-base-multilingual-uncased-sentiment')\n",
        "\n",
        "model_pre = AutoModelForSequenceClassification.from_pretrained('nlptown/bert-base-multilingual-uncased-sentiment')"
      ],
      "metadata": {
        "id": "VPnukMx0vsvk"
      },
      "execution_count": 372,
      "outputs": []
    },
    {
      "cell_type": "code",
      "source": [
        "def sentiment_score(review):\n",
        "    tokens = tokenizer.encode(review, return_tensors='pt')\n",
        "    result = model_pre(tokens)\n",
        "    rating =  int(torch.argmax(result.logits))+1\n",
        "    return 'positive' if rating > 3 else ('neutral' if rating > 2  else 'negative')"
      ],
      "metadata": {
        "id": "jX4i_Ge7v5Ot"
      },
      "execution_count": 373,
      "outputs": []
    },
    {
      "cell_type": "code",
      "source": [
        "reviews[0]"
      ],
      "metadata": {
        "colab": {
          "base_uri": "https://localhost:8080/",
          "height": 144
        },
        "id": "sY4bR9FKv-jc",
        "outputId": "ebe3029a-ab02-4974-8fb3-8f9984527de0"
      },
      "execution_count": 374,
      "outputs": [
        {
          "output_type": "execute_result",
          "data": {
            "text/plain": [
              "'one review mention watch 1 oz episod youll hook right exactli happen meth first thing struck oz brutal unflinch scene violenc set right word go trust show faint heart timid show pull punch regard drug sex violenc hardcor classic use wordit call oz nicknam given oswald maximum secur state penitentari focus mainli emerald citi experiment section prison cell glass front face inward privaci high agenda em citi home manyaryan muslim gangsta latino christian italian irish moreso scuffl death stare dodgi deal shadi agreement never far awayi would say main appeal show due fact goe show wouldnt dare forget pretti pictur paint mainstream audienc forget charm forget romanceoz doesnt mess around first episod ever saw struck nasti surreal couldnt say readi watch develop tast oz got accustom high level graphic violenc violenc injustic crook guard wholl sold nickel inmat wholl kill order get away well manner middl class inmat turn prison bitch due lack street skill prison experi watch oz may becom comfort uncomfort viewingthat get touch darker side'"
            ],
            "application/vnd.google.colaboratory.intrinsic+json": {
              "type": "string"
            }
          },
          "metadata": {},
          "execution_count": 374
        }
      ]
    },
    {
      "cell_type": "code",
      "source": [
        "sentiment_score(reviews[0])"
      ],
      "metadata": {
        "colab": {
          "base_uri": "https://localhost:8080/",
          "height": 36
        },
        "id": "XDHUZv9gAqfo",
        "outputId": "a3ef6efc-9758-4f87-fb03-0e8ef00846a4"
      },
      "execution_count": 375,
      "outputs": [
        {
          "output_type": "execute_result",
          "data": {
            "text/plain": [
              "'negative'"
            ],
            "application/vnd.google.colaboratory.intrinsic+json": {
              "type": "string"
            }
          },
          "metadata": {},
          "execution_count": 375
        }
      ]
    },
    {
      "cell_type": "code",
      "source": [
        "def giveReview():\n",
        "  i = input('Enter Your Review : ')\n",
        "  return sentiment_score(i)"
      ],
      "metadata": {
        "id": "RFoQB4s8CT--"
      },
      "execution_count": 376,
      "outputs": []
    },
    {
      "cell_type": "code",
      "source": [
        "giveReview()"
      ],
      "metadata": {
        "colab": {
          "base_uri": "https://localhost:8080/",
          "height": 55
        },
        "id": "1N87YocGCc6X",
        "outputId": "3f32dd8a-9fb7-487a-c8ff-7ef60a1b6d44"
      },
      "execution_count": 377,
      "outputs": [
        {
          "name": "stdout",
          "output_type": "stream",
          "text": [
            "Enter Your Review : stunning movie , will watch again soon!\n"
          ]
        },
        {
          "output_type": "execute_result",
          "data": {
            "text/plain": [
              "'positive'"
            ],
            "application/vnd.google.colaboratory.intrinsic+json": {
              "type": "string"
            }
          },
          "metadata": {},
          "execution_count": 377
        }
      ]
    },
    {
      "cell_type": "code",
      "source": [
        "giveReview()"
      ],
      "metadata": {
        "colab": {
          "base_uri": "https://localhost:8080/",
          "height": 55
        },
        "id": "fCmXL276Dgfr",
        "outputId": "249708ef-688a-47ff-c022-02a14c201156"
      },
      "execution_count": 378,
      "outputs": [
        {
          "name": "stdout",
          "output_type": "stream",
          "text": [
            "Enter Your Review : not bad\n"
          ]
        },
        {
          "output_type": "execute_result",
          "data": {
            "text/plain": [
              "'neutral'"
            ],
            "application/vnd.google.colaboratory.intrinsic+json": {
              "type": "string"
            }
          },
          "metadata": {},
          "execution_count": 378
        }
      ]
    },
    {
      "cell_type": "code",
      "source": [
        "giveReview()"
      ],
      "metadata": {
        "colab": {
          "base_uri": "https://localhost:8080/",
          "height": 55
        },
        "id": "w965sCBxDpZK",
        "outputId": "703b521c-217e-4af4-d8dd-5fb69f9f8e8c"
      },
      "execution_count": 379,
      "outputs": [
        {
          "name": "stdout",
          "output_type": "stream",
          "text": [
            "Enter Your Review : wasted \n"
          ]
        },
        {
          "output_type": "execute_result",
          "data": {
            "text/plain": [
              "'negative'"
            ],
            "application/vnd.google.colaboratory.intrinsic+json": {
              "type": "string"
            }
          },
          "metadata": {},
          "execution_count": 379
        }
      ]
    }
  ],
  "metadata": {
    "accelerator": "GPU",
    "colab": {
      "provenance": [],
      "gpuType": "T4"
    },
    "kernelspec": {
      "display_name": "Python 3",
      "name": "python3"
    },
    "language_info": {
      "name": "python"
    }
  },
  "nbformat": 4,
  "nbformat_minor": 0
}